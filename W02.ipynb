{
  "cells": [
    {
      "cell_type": "markdown",
      "metadata": {
        "id": "view-in-github",
        "colab_type": "text"
      },
      "source": [
        "<a href=\"https://colab.research.google.com/github/hxk271/SocDataSci/blob/main/W02.ipynb\" target=\"_parent\"><img src=\"https://colab.research.google.com/assets/colab-badge.svg\" alt=\"Open In Colab\"/></a>"
      ]
    },
    {
      "cell_type": "markdown",
      "id": "0ca36135",
      "metadata": {
        "id": "0ca36135"
      },
      "source": [
        "# Week 2 (``Hello, World`` in Python)\n",
        "\n",
        "우리는 Google Colab 환경에서 코딩을 연습할 것이다. 구글 계정이 필요하다. 처음 몇 주동안 조금 귀찮더라도 직접 키보드를 두드려가며 명령어를 입력하자(나중에는 복사하여 붙여넣기를 활용할 예정이다!).\n",
        "<br><br>\n",
        "우선 **입출력(input/output)**, <b>변수(variable)</b>의 사용, **연산자(operators)**, 파이썬의 기초적인 **내장함수(built-in functions)**, <b>반복(loop)</b>과 **조건(condition)**, 그리고 **리스트(list)** 등을 익히고 연습해보자."
      ]
    },
    {
      "cell_type": "markdown",
      "source": [
        "## 1. 출력과 입력 그리고 변수\n",
        "\n",
        "> 가장 먼저 파이썬에서 문자열과 숫자를 출력하는 법을 익히자."
      ],
      "metadata": {
        "id": "SulNM0vsIFKx"
      },
      "id": "SulNM0vsIFKx"
    },
    {
      "cell_type": "code",
      "execution_count": null,
      "id": "53afc7a5",
      "metadata": {
        "id": "53afc7a5"
      },
      "outputs": [],
      "source": [
        "#문자열(string) 출력\n",
        "print(\"Hello, World!\")\n",
        "\n",
        "#숫자 출력\n",
        "print(12)\n",
        "print(12+34)"
      ]
    },
    {
      "cell_type": "markdown",
      "source": [
        "> 직접 출력할 수도 있지만 <b>변수(variable)</b>를 이용할 수도 있다. 큰따옴표(`\"`), 작은따옴표(`'`), 큰따옴표 3개(`\"\"\"`) 중 하나를 사용할 수 있다. 특히 큰따옴표 3개는 줄바꿈을 허용한다."
      ],
      "metadata": {
        "id": "3TQN_YMKpNXE"
      },
      "id": "3TQN_YMKpNXE"
    },
    {
      "cell_type": "code",
      "execution_count": null,
      "id": "ec2e7c13",
      "metadata": {
        "id": "ec2e7c13"
      },
      "outputs": [],
      "source": [
        "name = \"파이썬\"\n",
        "print(name)\n",
        "\n",
        "name = '파이썬'\n",
        "print(name)\n",
        "\n",
        "name = \"\"\"파이\n",
        "썬\"\"\"\n",
        "print(name)"
      ]
    },
    {
      "cell_type": "markdown",
      "source": [
        "> 변수에 숫자를 집어넣고 **참조(reference)**에 활용할 수도 있다."
      ],
      "metadata": {
        "id": "IP_XM1nZA7tw"
      },
      "id": "IP_XM1nZA7tw"
    },
    {
      "cell_type": "code",
      "execution_count": null,
      "id": "28a7c2db",
      "metadata": {
        "id": "28a7c2db"
      },
      "outputs": [],
      "source": [
        "a = 5\n",
        "print(a)\n",
        "b = 3\n",
        "c = a + b\n",
        "print(c)"
      ]
    },
    {
      "cell_type": "markdown",
      "source": [
        "> 더하기는 **문자열(string)**에 대해서도 적용할 수 있다."
      ],
      "metadata": {
        "id": "BWAb7k5fBI4_"
      },
      "id": "BWAb7k5fBI4_"
    },
    {
      "cell_type": "code",
      "execution_count": null,
      "id": "be0fbde1",
      "metadata": {
        "id": "be0fbde1"
      },
      "outputs": [],
      "source": [
        "name = '사회학과'                  #주석은 코드 오른쪽에도 쓸 수 있다\n",
        "print(\"2025년 2학기에도 \" + name + ', 화이팅!!')"
      ]
    },
    {
      "cell_type": "markdown",
      "source": [
        " > 혹은 `input()` 함수를 사용하여 사용자로부터 직접 입력받을 수도 있다."
      ],
      "metadata": {
        "id": "Op0-MvDRHthx"
      },
      "id": "Op0-MvDRHthx"
    },
    {
      "cell_type": "code",
      "execution_count": null,
      "id": "c51a9cb8",
      "metadata": {
        "id": "c51a9cb8"
      },
      "outputs": [],
      "source": [
        "name = input('이름을 입력해주세요 : ')       # 만약 '' 안에 아무것도 안넣으면 어떻게 될지 살펴보자.\n",
        "print(name + '님! 안녕하세요!')"
      ]
    },
    {
      "cell_type": "markdown",
      "source": [
        "> 문자열과 **정수(integer)** 등 자료 유형(data format)을 구분해야 한다. 가령 1234과 '1234'는 다른 것으로 취급된다는 사실을 기억하자."
      ],
      "metadata": {
        "id": "3McXXhwOqN0I"
      },
      "id": "3McXXhwOqN0I"
    },
    {
      "cell_type": "code",
      "source": [
        "age = input('나이를 입력해주세요! : ')\n",
        "print(age-4)"
      ],
      "metadata": {
        "id": "qSsAhNkxJo5B"
      },
      "id": "qSsAhNkxJo5B",
      "execution_count": null,
      "outputs": []
    },
    {
      "cell_type": "markdown",
      "source": [
        "> 위 코드는 왜 작동하지 않을까? 이 문제를 고쳐보자!"
      ],
      "metadata": {
        "id": "pFPYEhA5Bdif"
      },
      "id": "pFPYEhA5Bdif"
    },
    {
      "cell_type": "code",
      "execution_count": null,
      "id": "3d3b9c70",
      "metadata": {
        "id": "3d3b9c70"
      },
      "outputs": [],
      "source": [
        "age = input('나이를 입력해주세요! : ')\n",
        "print(int(age) - 4)"
      ]
    },
    {
      "cell_type": "markdown",
      "source": [
        "> `int()` 함수는 문자열로 입력된 숫자를 정수로 변환하는데 쓰였다면, `str()` 함수는 정수를 문자열(string)로 변환하는데 쓰인다."
      ],
      "metadata": {
        "id": "7MofHaUuBtEC"
      },
      "id": "7MofHaUuBtEC"
    },
    {
      "cell_type": "code",
      "execution_count": null,
      "id": "af841775",
      "metadata": {
        "id": "af841775"
      },
      "outputs": [],
      "source": [
        "name = input('이름을 입력해주세요 : ')\n",
        "age = int(input('나이를 입력해주세요 : '))\n",
        "print('안녕하세요!' + name + '님! 저는 처음에 ' + str(age - 3) + '살인 줄 알았어요!!')"
      ]
    },
    {
      "cell_type": "markdown",
      "metadata": {
        "id": "27601ff1"
      },
      "source": [
        "> **연습문제 1-1**. 사용자에게 섭씨온도(&deg;C)를 입력받고, 그에 따른 화씨온도(&deg;F)를 알려주는 코드를 작성하시오.\n",
        "<br><br>\n",
        ">$$ F = 32 + \\left(C \\times \\dfrac{180}{100} \\right) $$"
      ],
      "id": "27601ff1"
    },
    {
      "cell_type": "code",
      "execution_count": null,
      "metadata": {
        "id": "0a617eb1"
      },
      "outputs": [],
      "source": [
        "C = input(\"섭씨? \")\n",
        "C = int(C)\n",
        "F = 32 + (C * 180/100)\n",
        "print(F)"
      ],
      "id": "0a617eb1"
    },
    {
      "cell_type": "markdown",
      "source": [
        "> **연습문제 1-2**. 이용자로부터 나이를 입력받고, 그 나이의 연령대(10대, 20대, 30대 등)를 계산하여 출력하시오(e.g., 12 -> 10대, 23 -> 20대 등).\n",
        ">\n",
        "> ---\n",
        "> 힌트: 소숫점이 붙은 <b>실수(real number)</b>를 정수(integer)로 바꾸면 자동적으로 소숫점을 무시하게 된다(e.g., 3.14 -> 3)."
      ],
      "metadata": {
        "id": "WedKsFilJSfS"
      },
      "id": "WedKsFilJSfS"
    },
    {
      "cell_type": "code",
      "source": [
        "age = input(\"몇살? \")\n",
        "age = int(age)\n",
        "agegrp = int(age/10)*10\n",
        "print(str(agegrp) + \"대\")"
      ],
      "metadata": {
        "id": "K_JlOFCbJ3gZ"
      },
      "id": "K_JlOFCbJ3gZ",
      "execution_count": null,
      "outputs": []
    },
    {
      "cell_type": "markdown",
      "id": "7efda3d7",
      "metadata": {
        "id": "7efda3d7"
      },
      "source": [
        "## 2. 연산자 사용하기\n",
        "\n",
        "> **산술 연산자(arithmetic operator)**, **비교 연산자(comparison operator)** 그리고 <b>논리 연산자(logical operator)</b>를 구분하면서 연산자를 익히자. 다양한 값을 넣어보며 직접 연습해보자."
      ]
    },
    {
      "cell_type": "code",
      "execution_count": null,
      "id": "56ae2bac",
      "metadata": {
        "scrolled": true,
        "id": "56ae2bac"
      },
      "outputs": [],
      "source": [
        "#산술연산(arithmetic operator)\n",
        "print(3 * 10)              # * : 곱셈 연산자\n",
        "print(3 ** 10)             # ** : 거듭 제곱 연산자\n",
        "print(3 % 10)              # % : 나머지 연산자\n",
        "print(3 / 2)               # / : 나눗셈\n",
        "\n",
        "#비교연산(comparison operator)\n",
        "print(10 >= 3)\n",
        "print(10 <= 3)\n",
        "print(10 == 3)        # == : 같다(조건문). 코딩의 세계에서 =과 ==은 구분된다.\n",
        "print(10 != 3)        # != : 같지 않다(조건문)\n",
        "print(3 % 2 == 1)\n",
        "\n",
        "#논리연산(logical operator)\n",
        "print(not 10 > 5)                 # not True\n",
        "print(not 10 == 5)                # not False"
      ]
    },
    {
      "cell_type": "markdown",
      "source": [
        "> 이 가운데 논리연산은 특히 <b>불 대수(Boolean algebra)</b>로도 알려져 있다. 논리수학, 프로그래밍, 전자공학 등 각종 분야에서 폭넓게 쓰인다. 불 대수의 핵심 개념을 이해하기 위해, (George Boole처럼) 간단한 전자회로를 상상해보자. 전류가 흐르기 위한 두 가지 기본적인 연결 방식이 있는데, 하나는 스위치들이 일렬로 연결된 <b>직렬 회로(AND)</b>이고, 다른 하나는 스위치들이 나란히 배치된 <b>병렬 회로(OR)</b>이다. 이 두 가지 연결 방식에서 전류가 언제 흐르게 될지 예측해보자."
      ],
      "metadata": {
        "id": "QMjhuVCTTNI3"
      },
      "id": "QMjhuVCTTNI3"
    },
    {
      "cell_type": "code",
      "execution_count": null,
      "id": "c97d5f69",
      "metadata": {
        "id": "c97d5f69"
      },
      "outputs": [],
      "source": [
        "#AND\n",
        "print((1 == 1) and (2 != 1))            # True & True = True\n",
        "print((10 % 2 != 0) and (1 + 1 > 0))    # False & True = False\n",
        "print(False and False)              # False & False = False\n",
        "\n",
        "#OR\n",
        "print((10 < 5) or (10 == 5))            # False | False = False\n",
        "print((10 % 2 != 0) or (1 + 1 > 0))     # False | True = True"
      ]
    },
    {
      "cell_type": "markdown",
      "source": [
        "> **연습문제 2-1**. 숫자 두 개를 입력받고, 그 숫자들의 덧셈, 뺄셈, 곱셈, 나눗셈을 차례대로 수행하는 코드를 작성하시오. 그리고 첫번째 숫자가 두번째 숫자보다 큰지 판정하시오."
      ],
      "metadata": {
        "id": "03_63iYpUjKK"
      },
      "id": "03_63iYpUjKK"
    },
    {
      "cell_type": "code",
      "source": [
        "a=input(\"첫번째 숫자? \")\n",
        "b=input(\"두번째 숫자? \")\n",
        "a=int(a)\n",
        "b=int(b)\n",
        "\n",
        "print(\"덧셈: \" + str(a+b))\n",
        "print(\"뺄셈: \" + str(a-b))\n",
        "print(\"곱셈: \" + str(a*b))\n",
        "print(\"나눗셈: \" + str(a/b))\n",
        "print(\"첫번째 숫자 > 두번째 숫자: \" + str(a>b))"
      ],
      "metadata": {
        "id": "Apzg7nygUjqP"
      },
      "id": "Apzg7nygUjqP",
      "execution_count": null,
      "outputs": []
    },
    {
      "cell_type": "markdown",
      "source": [
        "> **연습문제 2-2**. 숫자 두 개를 입력받고, 두 숫자가 (1) 모두 15보다 작은지, (2) 모두 <b>홀수(odd number)</b>인지, 그리고 (3) 모두 15보다 작고 동시에 홀수인지 판정하시오.\n",
        ">\n",
        "> ---\n",
        "> 힌트: 홀수의 정의(definition)는 무엇인가?"
      ],
      "metadata": {
        "id": "eSCKb6FKWekY"
      },
      "id": "eSCKb6FKWekY"
    },
    {
      "cell_type": "code",
      "source": [
        "a=input(\"첫번째 숫자? \")\n",
        "b=input(\"두번째 숫자? \")\n",
        "a=int(a)\n",
        "b=int(b)\n",
        "\n",
        "cond1 = (a < 15) & (b < 15)\n",
        "cond2 = (a % 2 == 1) and (b % 2 == 1)\n",
        "\n",
        "print(\"둘 다 15보다 작은지 여부: \" + str(cond1))\n",
        "print(\"둘 다 홀수인지 여부: \" + str(cond2))\n",
        "print(\"둘 다 15보다 작고 홀수인지 여부: \" + str(cond1 & cond2))"
      ],
      "metadata": {
        "id": "Wu63PI8gWujI"
      },
      "id": "Wu63PI8gWujI",
      "execution_count": null,
      "outputs": []
    },
    {
      "cell_type": "markdown",
      "id": "e6ae48bd",
      "metadata": {
        "id": "e6ae48bd"
      },
      "source": [
        "## 3. 내장함수와 함수 불러오기\n",
        "\n",
        "> 새삼스럽지만 `print()`, `input()`, `int()`, `str()` 등 지금까지 명령어처럼 무의식적으로 사용했던 (함수들은 파이썬에서 항상 사용할 수 있도록 제공하는) 이른바 <b>내장함수(built-in functions)</b>이다.\n",
        ">\n",
        "> 이번엔 살짝 순서가 다른 <b>메서드(method)</b>라는 것을 살펴보자. 만일 영어로 문자열을 입력받았는데, 이를 모두 대문자(upper cases) 또는 소문자(lower cases)로 바꾸려면 어떻게 해야 할까? 그리고 그 문자열의 길이(length)를 얻으려면 어떻게 해야 할까?\n",
        ">"
      ]
    },
    {
      "cell_type": "code",
      "source": [
        "text = input()       #가령 Hello, World! 라고 입력\n",
        "print(text.upper())    #대문자 변환(메서드)\n",
        "print(len(text))       #글자 길이(함수)"
      ],
      "metadata": {
        "id": "F_jjHZHUaEIi"
      },
      "execution_count": null,
      "outputs": [],
      "id": "F_jjHZHUaEIi"
    },
    {
      "cell_type": "markdown",
      "source": [
        "> 내장함수와 메서드를 구분하는 것은 여러분에게 당장 중요한 것이 아니다. 대충 이것만 이해하자. 내장함수는 파이썬이 미리 만들어둔 도구인 반면, 메서드는 데이터 타입별로 특화된 기능이다.\n",
        ">\n",
        "> (a) 내장함수\n",
        "> - `print()`, `len()`, `type()`, `input()`, `range()` 등\n",
        "> - function_name(*data*)\n",
        ">\n",
        "> (b) 메서드\n",
        "> - `.upper()`, `.lower()` 등\n",
        "> - *data*.method_name()"
      ],
      "metadata": {
        "id": "FRLc6guzI0m3"
      },
      "id": "FRLc6guzI0m3"
    },
    {
      "cell_type": "markdown",
      "source": [
        "> **연습문제 3-1**. 문자를 입력받아 소문자로 변환하여 출력하시오."
      ],
      "metadata": {
        "id": "N85Us8J2KZd3"
      },
      "id": "N85Us8J2KZd3"
    },
    {
      "cell_type": "code",
      "source": [
        "text = input()\n",
        "print(text.lower())    #소문자 변환(메서드)"
      ],
      "metadata": {
        "id": "j2gcEGJrKZd4"
      },
      "execution_count": null,
      "outputs": [],
      "id": "j2gcEGJrKZd4"
    },
    {
      "cell_type": "markdown",
      "source": [
        "> 하지만 아쉽게도 내장함수 중에는 <b>제곱근(square root)</b>을 구하는 함수도 없고, <b>난수(random number)</b>를 만들어낼 수 있는 함수도 없다. 이런 함수들은 별도로 `import()`를 사용해 외부에서 불러와야 한다."
      ],
      "metadata": {
        "id": "2fD-gHw0IEUv"
      },
      "id": "2fD-gHw0IEUv"
    },
    {
      "cell_type": "code",
      "execution_count": null,
      "id": "c4cfe359",
      "metadata": {
        "scrolled": true,
        "id": "c4cfe359"
      },
      "outputs": [],
      "source": [
        "import math\n",
        "\n",
        "#4의 제곱근 외장함수\n",
        "print(math.sqrt(4))"
      ]
    },
    {
      "cell_type": "markdown",
      "source": [
        "> 이번엔 임의의 숫자를 뽑아보자. 당연히 매번 실행할 때마다 다른 숫자가 나온다. 또 숫자의 범위를 바꿔서 결과가 어떻게 달라지는지 확인해보자."
      ],
      "metadata": {
        "id": "n2oaVqVhG-tH"
      },
      "id": "n2oaVqVhG-tH"
    },
    {
      "cell_type": "code",
      "execution_count": null,
      "id": "0926ffd0",
      "metadata": {
        "id": "0926ffd0"
      },
      "outputs": [],
      "source": [
        "import random\n",
        "\n",
        "#from 1 to 6\n",
        "dice = random.randint(1, 6)\n",
        "print(dice)"
      ]
    },
    {
      "cell_type": "markdown",
      "source": [
        "> `help()` 함수를 통해 구체적인 사용법을 알 수 있다(영어라서 아쉬움이 있다). 이제는 (인터넷 검색을 넘어) 생성형AI에 의존하기 때문에 점점 사용 빈도가 감소하고 있다."
      ],
      "metadata": {
        "id": "1gOo4jfAYrjE"
      },
      "id": "1gOo4jfAYrjE"
    },
    {
      "cell_type": "code",
      "source": [
        "help(math)"
      ],
      "metadata": {
        "id": "mddXZ58dGVfi",
        "collapsed": true
      },
      "id": "mddXZ58dGVfi",
      "execution_count": null,
      "outputs": []
    },
    {
      "cell_type": "markdown",
      "source": [
        "> **연습문제 3-2**. 원의 반지름을 입력받아 원의 면적을 계산해보자. 참고로 원의 면적을 구하는 공식은 다음과 같다.\n",
        ">\n",
        "> $$ Area = \\pi \\times r^2 $$\n",
        ">\n",
        "> ---\n",
        "> 힌트: `math` 라이브러리를 불러와 `math.pi`를 입력하면 원주율을 알 수 있다. 파이썬에서 제곱은 `**`으로 구한다(e.g., $3^2$=`3**2`)."
      ],
      "metadata": {
        "id": "25IjVf2OH7bs"
      },
      "id": "25IjVf2OH7bs"
    },
    {
      "cell_type": "code",
      "source": [
        "import math\n",
        "\n",
        "radius = input(\"반지름? \")\n",
        "radius = int(radius)\n",
        "area = math.pi * (radius ** 2)                        #math.pi ~= 3.14\n",
        "\n",
        "print(\"원의 면적은 \" + str(area) + \" 입니다.\")"
      ],
      "metadata": {
        "id": "HDOnPvuns44l"
      },
      "id": "HDOnPvuns44l",
      "execution_count": null,
      "outputs": []
    },
    {
      "cell_type": "markdown",
      "metadata": {
        "id": "67cec2ae"
      },
      "source": [
        "## 4. 리스트\n",
        "\n",
        "> <b>리스트(list)</b>는 파이썬에서 데이터를 보관하는 가장 일반적인 방식이다. 중괄호(`[ ]`)안에 문자나 숫자 등을 집어넣어 관리한다. 이렇게 리스트를 한 번 만들면 나중에 편리하게 불러오거나 추가 또는 삭제할 수 있다. 먼저 리스트에 저장된 값을 불러오는 법부터 연습해보자."
      ],
      "id": "67cec2ae"
    },
    {
      "cell_type": "code",
      "source": [
        "numbers = [1, 2, 3]\n",
        "print(numbers)"
      ],
      "metadata": {
        "id": "p3W1jc4-LLPE"
      },
      "execution_count": null,
      "outputs": [],
      "id": "p3W1jc4-LLPE"
    },
    {
      "cell_type": "markdown",
      "source": [
        "> <b>인덱싱(indexing)</b>으로 불러올 수 있다."
      ],
      "metadata": {
        "id": "EUl2Odh9LGLf"
      },
      "id": "EUl2Odh9LGLf"
    },
    {
      "cell_type": "code",
      "source": [
        "names = ['가현', '나현', '다현']\n",
        "print(names[1])\n",
        "print(names[-1])"
      ],
      "metadata": {
        "id": "r9ZzKbuvLltr"
      },
      "execution_count": null,
      "outputs": [],
      "id": "r9ZzKbuvLltr"
    },
    {
      "cell_type": "markdown",
      "source": [
        "> 리스트는 <b>슬라이싱(slicing)</b>도 할 수 있다. 이것을 능숙하게 사용할 수 있어야 한다!"
      ],
      "metadata": {
        "id": "Uh2Jr4ysTimI"
      },
      "id": "Uh2Jr4ysTimI"
    },
    {
      "cell_type": "code",
      "execution_count": null,
      "metadata": {
        "id": "91d00fb0"
      },
      "outputs": [],
      "source": [
        "names = ['가현', '나현', '다현']\n",
        "\n",
        "print(names[0:1])\n",
        "print(names[1:2])\n",
        "print(names[1:])\n",
        "print(names[:])"
      ],
      "id": "91d00fb0"
    },
    {
      "cell_type": "markdown",
      "source": [
        "> 리스트에 `append()` 메서드로 새로운 값을 추가하거나 `remove()` 메서드로 제거할 수도 있다. 그런데 리스트 안의 원소에 **순서가 있다(ordered)**는 점을 꼭 기억해야 한다."
      ],
      "metadata": {
        "id": "y6LsNI4TTrFn"
      },
      "id": "y6LsNI4TTrFn"
    },
    {
      "cell_type": "code",
      "execution_count": null,
      "metadata": {
        "id": "2bb4b487"
      },
      "outputs": [],
      "source": [
        "enrolled = ['고민경', '박재욱', '신지원', '안정현', '윤현정', '이송희', '최지아', 'NGUYEN THI OANH']\n",
        "\n",
        "enrolled.remove('이송희')     #리스트 뒤에 점찍고 remove를 하면 기존 요소를 제거한다\n",
        "enrolled.append('김민주')     #리스트 뒤에 점찍고 append를 하면 새로운 요소를 추가한다\n",
        "\n",
        "print(enrolled)"
      ],
      "id": "2bb4b487"
    },
    {
      "cell_type": "markdown",
      "source": [
        "> 리스트 안의 원소가 몇 개인지 확인하려면 **len()** 함수를 사용한다."
      ],
      "metadata": {
        "id": "9QcyrMeUfIdf"
      },
      "id": "9QcyrMeUfIdf"
    },
    {
      "cell_type": "code",
      "execution_count": null,
      "metadata": {
        "id": "51aeaea8"
      },
      "outputs": [],
      "source": [
        "print(len(enrolled))           # 리스트 길이 출력하기\n",
        "print(len(enrolled[0]))        # 문자열 길이 출력하기"
      ],
      "id": "51aeaea8"
    },
    {
      "cell_type": "markdown",
      "source": [
        "> **연습문제 4-1**. 사용자에게 세 개의 숫자를 입력받고 이를 리스트로 저장한 뒤, 모두 더한 값을 출력하시오\n",
        ">\n",
        "> ---\n",
        "> 힌트: 리스트 안의 원소를 모두 더하려면 `sum()` 함수를 사용한다."
      ],
      "metadata": {
        "id": "UK30rzGSTgFY"
      },
      "id": "UK30rzGSTgFY"
    },
    {
      "cell_type": "code",
      "source": [
        "a = int(input())\n",
        "b = int(input())\n",
        "c = int(input())\n",
        "\n",
        "abc = [a, b, c]\n",
        "print(sum(abc))"
      ],
      "metadata": {
        "id": "jt1xeHnGip2Y"
      },
      "id": "jt1xeHnGip2Y",
      "execution_count": null,
      "outputs": []
    },
    {
      "cell_type": "markdown",
      "source": [
        "> **연습문제 4-2**. 사용자에게 세 개의 문자열을 입력받고 이를 리스트로 저장한 뒤, 이를 알파벳 순서대로 <b>정렬(sort)</b>하시오.\n",
        ">\n",
        "> ---\n",
        "> 힌트: 리스트 안의 원소를 알파벳 순서로 정렬하려면 `sorted()` 함수를 사용한다."
      ],
      "metadata": {
        "id": "552aiueojRvO"
      },
      "id": "552aiueojRvO"
    },
    {
      "cell_type": "code",
      "source": [
        "a = input()\n",
        "b = input()\n",
        "c = input()\n",
        "\n",
        "abc = [a, b, c]\n",
        "print(sorted(abc))"
      ],
      "metadata": {
        "id": "mOt-zEWmi32d"
      },
      "id": "mOt-zEWmi32d",
      "execution_count": null,
      "outputs": []
    },
    {
      "cell_type": "markdown",
      "id": "7fea6241",
      "metadata": {
        "id": "7fea6241"
      },
      "source": [
        "## 5. 반복과 선택\n",
        "\n",
        "> `for` 반복문과 `if` 조건문은 파이썬 코딩의 가장 중요한 기초를 구성한다. 사람은 결국 반복적으로 하기 싫은 일을 컴퓨터에게 시키므로 반복문과 조건문을 잘 연습해야 한다.\n",
        "> <br><br>\n",
        "> 우선 `range()` 함수를 살펴보자. `range(100)`은 0 이상 100 미만(0, 1, 2, ..., 98, 99)의 범위를 갖는 정수에 대한 <b>이터레이터(iterator)</b>이다. 끄트머리에 콜론(`:`)을 잊지말자. 반복문이 적용되는 구간은 반드시 <b>들여쓰기(indentation)<b>를 해야 한다."
      ]
    },
    {
      "cell_type": "code",
      "execution_count": null,
      "id": "8cdab3ad",
      "metadata": {
        "id": "8cdab3ad"
      },
      "outputs": [],
      "source": [
        "#0부터 99까지\n",
        "for i in range(100):\n",
        "    print(i)"
      ]
    },
    {
      "cell_type": "markdown",
      "source": [
        "> 이제 조건문을 살펴보자. 조건문은 `if`로 처리한다. 이후에 콜론(`:`)을 잊지말자. 조건문이 적용되는 구간도 반드시 들여쓰기를 해야 한다."
      ],
      "metadata": {
        "id": "OmcMFfAmgbPg"
      },
      "id": "OmcMFfAmgbPg"
    },
    {
      "cell_type": "code",
      "execution_count": null,
      "id": "21ae6aac",
      "metadata": {
        "id": "21ae6aac"
      },
      "outputs": [],
      "source": [
        "if 10 > 0:\n",
        "    print('안녕하세요?')"
      ]
    },
    {
      "cell_type": "code",
      "execution_count": null,
      "id": "e8eb5307",
      "metadata": {
        "id": "e8eb5307"
      },
      "outputs": [],
      "source": [
        "if (10 > 0) and (5 % 2 == 1):       #조건이 2개!\n",
        "    print('안녕하세요?')"
      ]
    },
    {
      "cell_type": "code",
      "execution_count": null,
      "id": "b1679dd3",
      "metadata": {
        "id": "b1679dd3"
      },
      "outputs": [],
      "source": [
        "passwd = input('비밀번호 4자리를 입력하세요: ')\n",
        "\n",
        "if passwd == \"1531\":\n",
        "    print('비밀번호가 일치합니다.')\n",
        "else:\n",
        "    print('비밀번호가 일치하지 않습니다')"
      ]
    },
    {
      "cell_type": "markdown",
      "source": [
        "> `if` 구문은 `elif` 및 `else` 와 결합하여 다양한 분기를 소화해 낼 수 있다. 다중 조건문은 `if`, `elif`, `else` 순서로 작성한다."
      ],
      "metadata": {
        "id": "T0Nxrkc4vUQH"
      },
      "id": "T0Nxrkc4vUQH"
    },
    {
      "cell_type": "code",
      "execution_count": null,
      "id": "54fb81ac",
      "metadata": {
        "id": "54fb81ac"
      },
      "outputs": [],
      "source": [
        "print('[ 소름끼치도록 놀라운 심리테스트 ]')\n",
        "btype = input('당신의 혈액형을 입력해주세요: ')\n",
        "\n",
        "if btype == 'A':\n",
        "    print('당신은 내성적이지만 성실한 편입니다!')\n",
        "\n",
        "elif btype == 'B':\n",
        "    print('당신은 외향적이지만 바람둥이입니다!')\n",
        "\n",
        "elif btype == 'O':\n",
        "    print('당신은 모두에게 사랑받는 사람입니다!')\n",
        "\n",
        "else:         #AB\n",
        "    print('오 맙소사! 신께서 당신의 영혼에 축복하시기를...')"
      ]
    },
    {
      "cell_type": "markdown",
      "metadata": {
        "id": "b9a07e60"
      },
      "source": [
        "> **연습문제 5-1 (Brute-Force)**. 여러분의 마음 속에서 4자리 비밀번호를 만들어 이를 `password` 변수에 저장하시오(e.g., `password=4981`). 컴퓨터가 0부터 9999까지 계속 도전하여 직접 이 비밀번호를 맞추는 코드를 작성하시오."
      ],
      "id": "b9a07e60"
    },
    {
      "cell_type": "code",
      "execution_count": null,
      "metadata": {
        "id": "6cbf8851"
      },
      "outputs": [],
      "source": [
        "password = 4981      #각자 나름의 값을 입력해 보자\n",
        "\n",
        "#0000에서 9999까지 무한! 도전!\n",
        "for i in range(0, 10000):\n",
        "\n",
        "    if i == password:                                           # 1단계 들여쓰기\n",
        "        print(\"암호는 \" + str(i) + \" 였습니다!\")                # 2단계 들여쓰기\n",
        "        break\n",
        "\n",
        "    else:\n",
        "        print(\"암호는 \" + str(i) + \"이/가 아니었습니다!\")"
      ],
      "id": "6cbf8851"
    },
    {
      "cell_type": "markdown",
      "metadata": {
        "id": "05cea7bf"
      },
      "source": [
        "> **연습문제 5-2 (Guessing Game)**. 다음과 같은 규칙을 따르는 게임을 만드시오:\n",
        "<br><br>\n",
        "(1) 컴퓨터는 1과 100 사이에서 어떤 임의의 숫자를 준비한다. 이 값은 이용자에게 알려지지 않는다.\n",
        "<br>\n",
        "(2) 이용자는 10번 도전하여 이 답을 맞춘다.\n",
        "<br>\n",
        "(3) 오답일 경우 정답에 비해 큰지 작은지 알려준다."
      ],
      "id": "05cea7bf"
    },
    {
      "cell_type": "code",
      "execution_count": null,
      "metadata": {
        "id": "904d3041"
      },
      "outputs": [],
      "source": [
        "import random\n",
        "\n",
        "#알려주지 않는 임의의 정답!\n",
        "real_answer = random.randint(1, 100)\n",
        "\n",
        "#10번의 기회\n",
        "for j in range(0, 10):\n",
        "\n",
        "    #추측값 입력받기\n",
        "    your_answer = int(input(str(j) + \"번째 도전! \"))\n",
        "\n",
        "    if real_answer > your_answer:\n",
        "        print('그거보단 큼')\n",
        "\n",
        "    elif real_answer < your_answer:\n",
        "        print('그거보단 작음')\n",
        "\n",
        "    elif real_answer == your_answer:\n",
        "        print('오올~ 정답!')\n",
        "\n",
        "        break             #이것은 루프에서 빠져나가는 마법의 키워드! 이것이 없으면 어떻게 될지 생각해보자."
      ],
      "id": "904d3041"
    },
    {
      "cell_type": "markdown",
      "source": [
        "## 6. 리스트 + 반복과 선택\n",
        "\n",
        "> 반복문의 <code>range</code>와 리스트를 잘 섞을 수 있다면 더할나위 없이 편리하다!"
      ],
      "metadata": {
        "id": "rR-D0I6Rx28M"
      },
      "id": "rR-D0I6Rx28M"
    },
    {
      "cell_type": "code",
      "execution_count": null,
      "metadata": {
        "id": "923fb7d2"
      },
      "outputs": [],
      "source": [
        "#range 위치에 그 대신 리스트가 왔다.\n",
        "for i in [0, 1, 2, 3]:\n",
        "    print(i * 2)"
      ],
      "id": "923fb7d2"
    },
    {
      "cell_type": "markdown",
      "source": [
        "> 이를테면 출석부를 만드는 원리와 비슷하다."
      ],
      "metadata": {
        "id": "7SH9hGr1NXlQ"
      },
      "id": "7SH9hGr1NXlQ"
    },
    {
      "cell_type": "code",
      "source": [
        "names = ['가현', '나현', '다현']\n",
        "\n",
        "for name in names:\n",
        "    print(name)"
      ],
      "metadata": {
        "id": "f9CHwsTucr_X"
      },
      "id": "f9CHwsTucr_X",
      "execution_count": null,
      "outputs": []
    },
    {
      "cell_type": "markdown",
      "source": [
        "> **연습문제 6-1**. `even_nums` 라는 빈 리스트를 우선 만드시오. 이 리스트 안에 1에서 20사이의 정수 중 <b>짝수(even number)</b>만을 집어넣으시오.\n",
        ">\n",
        "> ---\n",
        "> 힌트: 짝수의 정의는 무엇인가?"
      ],
      "metadata": {
        "id": "Fk30aBFdSGKw"
      },
      "id": "Fk30aBFdSGKw"
    },
    {
      "cell_type": "code",
      "source": [
        "even_nums = []\n",
        "\n",
        "for i in range(1, 21):\n",
        "    if i % 2 == 0:\n",
        "        even_nums.append(i)\n",
        "print(even_nums)"
      ],
      "metadata": {
        "id": "zm4MkE9jzDxE"
      },
      "id": "zm4MkE9jzDxE",
      "execution_count": null,
      "outputs": []
    },
    {
      "cell_type": "markdown",
      "metadata": {
        "id": "72c9a47c"
      },
      "source": [
        "> **연습문제 6-2**. 컴퓨터가 임의로 주사위를 던지려고 한다. (1) 이용자에게 몇 번이나 던질지 물어보고, (2) 그렇게 던져 나온 주사위 값들을 모두 리스트에 집어넣고, (3) 최종적으로 출력하시오."
      ],
      "id": "72c9a47c"
    },
    {
      "cell_type": "code",
      "execution_count": null,
      "metadata": {
        "id": "16cb447a"
      },
      "outputs": [],
      "source": [
        "import random\n",
        "\n",
        "cast = int(input(\"주사위를 몇 번 던질까요? \"))\n",
        "dice = []            #비어있는 리스트를 만든다\n",
        "\n",
        "for i in range(cast):\n",
        "    number = random.randint(1, 6)\n",
        "    dice.append(number)              #리스트 뒤에 점찍고 append를 하면 새로운 요소를 추가한다\n",
        "\n",
        "print(dice)"
      ],
      "id": "16cb447a"
    }
  ],
  "metadata": {
    "kernelspec": {
      "display_name": "Python 3 (ipykernel)",
      "language": "python",
      "name": "python3"
    },
    "language_info": {
      "codemirror_mode": {
        "name": "ipython",
        "version": 3
      },
      "file_extension": ".py",
      "mimetype": "text/x-python",
      "name": "python",
      "nbconvert_exporter": "python",
      "pygments_lexer": "ipython3",
      "version": "3.9.7"
    },
    "colab": {
      "provenance": [],
      "toc_visible": true,
      "include_colab_link": true
    }
  },
  "nbformat": 4,
  "nbformat_minor": 5
}