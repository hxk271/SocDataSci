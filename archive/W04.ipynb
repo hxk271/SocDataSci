{
  "cells": [
    {
      "cell_type": "markdown",
      "metadata": {
        "id": "view-in-github",
        "colab_type": "text"
      },
      "source": [
        "<a href=\"https://colab.research.google.com/github/hxk271/SocDataSci/blob/main/archive/W04.ipynb\" target=\"_parent\"><img src=\"https://colab.research.google.com/assets/colab-badge.svg\" alt=\"Open In Colab\"/></a>"
      ]
    },
    {
      "cell_type": "markdown",
      "source": [
        "# Week 04 (`matplotlib`를 이용한 시각화)\n",
        "\n",
        "오늘은 <b>데이터 시각화(data visualization)</b>에 꼭 필요한 패키지를 사용하는 법을 학습하기로 한다. 기본적인 스킬을 먼저 학습하고, 그 다음에 (지난 주에도 사용했던) 기온 공공데이터를 다시 한 번 사용하여 시각화해보자."
      ],
      "metadata": {
        "id": "Zy4pPhpcI0NK"
      },
      "id": "Zy4pPhpcI0NK"
    },
    {
      "cell_type": "markdown",
      "id": "4a9d9063",
      "metadata": {
        "id": "4a9d9063"
      },
      "source": [
        "## 1. Google Colab 기초\n",
        "\n",
        "> 앞으로도 Google Colab을 계속 이용하므로, 알아두면 조금 더 편리한 몇가지 트릭을 익히자.\n",
        ">\n",
        "> 1. Google Colab은 구글 서버에 사용자 계정별로 Google Drive에 약간의 공간을 할당해준다. 그러므로 초보자 입장에서는 코드나 자료 파일을 업로드해두면 편리하다. 물론 여러분이 작업한 코드(ipynb 파일)도 모두 여기에서 찾을 수 있다!\n",
        ">\n",
        "> 2. Google Colab에서 위로 칸을 추가할 때는 [A] 키를(Ctrl-M-A), 아래로 추가할 때는 [B] 키를 누른다(Ctrl-M-B). 이미 생성된 칸을 지울 때는 Ctrl-M-D 키를 눌러 삭제한다.\n",
        ">\n",
        "> 3. 우리는 <b>마크다운(markdown)</b>이라는 일종의 표준양식을 사용해 참조 문서를 만들 수 있다(*지금 보고 있는 이 칸이다!*). Ctrl-M-M을 누르거나 메뉴에서 고르면 된다. 마크다운에서 사용되는 고유한 문법이 있다.\n",
        "> 4. 뭐가 뭔지 잘 모를때는 검색하거나 생성형AI에 물어본다."
      ]
    },
    {
      "cell_type": "markdown",
      "id": "11d807f8",
      "metadata": {
        "id": "11d807f8"
      },
      "source": [
        "## 2. 리스트 안의 리스트\n",
        "\n",
        "> <b>리스트(list)</b>를 다양한 방식으로 활용할 수 있다. 특히 리스트는 또다른 리스트를 자신의 원소로 삼을 수 있다는 점을 기억하자!"
      ]
    },
    {
      "cell_type": "code",
      "execution_count": null,
      "id": "62bae068",
      "metadata": {
        "id": "62bae068"
      },
      "outputs": [],
      "source": [
        "#두 개의 리스트\n",
        "list1 = [1, 2, 3]\n",
        "list2 = ['a', 'b', 'c', 1]     #리스트 안에 문자열과 숫자가 뒤섞여도 된다.\n",
        "\n",
        "#두 개의 리스트가 들어갈 빈집(placeholder)\n",
        "lists = []\n",
        "\n",
        "#추가하기 1\n",
        "lists.append(list1)\n",
        "lists.append(list2)\n",
        "print(lists)\n",
        "\n",
        "#추가하기 2\n",
        "lists = [list1, list2]\n",
        "print(lists)"
      ]
    },
    {
      "cell_type": "markdown",
      "source": [
        "> 리스트 안의 리스트를 잘 활용하려면, 그 안에서 원하는 요소만을 꺼내쓰기 위해 인덱스를 어떻게 써야할지 잘 예상해야 한다(실무적으로는 시행착오를 겪으면 되니 너무 걱정할 필요가 없다)."
      ],
      "metadata": {
        "id": "Yuhm6tjaJpwW"
      },
      "id": "Yuhm6tjaJpwW"
    },
    {
      "cell_type": "code",
      "source": [
        "#인덱싱\n",
        "print(lists[0])\n",
        "print(lists[1])\n",
        "print(lists[1][0])\n",
        "print(lists[0][2])"
      ],
      "metadata": {
        "id": "MkdMiSrFKQ-O"
      },
      "id": "MkdMiSrFKQ-O",
      "execution_count": null,
      "outputs": []
    },
    {
      "cell_type": "markdown",
      "source": [
        "> 필요한 위치에 필요한 요소를 집어넣기 위해 여러가지 트릭을 잘 활용하자."
      ],
      "metadata": {
        "id": "5BThriZZJ0oF"
      },
      "id": "5BThriZZJ0oF"
    },
    {
      "cell_type": "code",
      "execution_count": null,
      "id": "0ba0280c",
      "metadata": {
        "id": "0ba0280c"
      },
      "outputs": [],
      "source": [
        "#빈집 안의 빈집(placeholders within placeholder)\n",
        "lists = [[], []]\n",
        "\n",
        "#빈집 안의 빈집 지정하여 원소 추가하기\n",
        "lists[0].append(1)\n",
        "lists[0].append(2)\n",
        "lists[0].append(3)\n",
        "lists[1].append('a')\n",
        "lists[1].append('b')\n",
        "lists[1].append('d')\n",
        "lists[1].append(1)\n",
        "print(lists)\n",
        "\n",
        "#수정하기\n",
        "lists[1][1] = 'c'\n",
        "print(lists)"
      ]
    },
    {
      "cell_type": "markdown",
      "metadata": {
        "id": "321d499d"
      },
      "source": [
        "> **연습문제 2-1.** `[1, 2, 3, 'a', 'b', 'c']`와 `[[1, 2, 3], ['a', 'b', 'c']]`를 각각 리스트 형식으로 입력하시오(두 데이터가 다르게 생겼다는 점에 주의하자!). 두 리스트에서 <code>'a'</code>라는 원소를 호출하고자 한다. 각각 어떤 <b>인덱스(index)</b>를 선택해야 할지 예상하고 코드를 작성하시오."
      ],
      "id": "321d499d"
    },
    {
      "cell_type": "code",
      "execution_count": null,
      "metadata": {
        "id": "4ac0739f"
      },
      "outputs": [],
      "source": [
        "a = [1, 2, 3, 'a', 'b', 'c']\n",
        "b = [[1, 2, 3],\n",
        "     ['a', 'b', 'c']]\n",
        "print(a[3])\n",
        "print(b[1][0])"
      ],
      "id": "4ac0739f"
    },
    {
      "cell_type": "markdown",
      "metadata": {
        "id": "a91c0075"
      },
      "source": [
        "> **연습문제 2-2.** 1에서 10까지의 자연수가 주어져 있다. <code>numbers</code>라는 리스트를 만든 다음, 그 안에 다시 두 개의 리스트를 만들되, 아래처럼 홀수를 첫번째 리스트에, 짝수를 두번째 리스트에 삽입하시오.\n",
        "<br><br>\n",
        "><center><code>[[1, 3, 5, 7, 9], [2, 4, 6, 8]]</code></center>\n",
        "<br>\n",
        ">\n",
        "> ___\n",
        "> 힌트: 2로 나누어 떨어지는 숫자는 짝수가 된다. 가령 <code>4 % 2 == 0</code>"
      ],
      "id": "a91c0075"
    },
    {
      "cell_type": "code",
      "execution_count": null,
      "metadata": {
        "id": "f641111b"
      },
      "outputs": [],
      "source": [
        "numbers = [[], []]        #빈집(placeholder)\n",
        "\n",
        "for i in range(1, 10):\n",
        "    if i % 2 == 0:       #짝수\n",
        "        numbers[1].append(i)\n",
        "    else:\n",
        "        numbers[0].append(i)\n",
        "\n",
        "print(numbers)"
      ],
      "id": "f641111b"
    },
    {
      "cell_type": "markdown",
      "source": [
        "## 3. 문자열 분리하기\n",
        "\n",
        "> 문자열(string)이 주어졌을 때 <code>split()</code> 함수를 사용하면 이를 기준으로 둘로 나눌 수 있다!\n",
        ">\n",
        "> 가령 <code>\"My.World\".split('.')</code>을 입력하면 <code>[\"My\", World\"]</code>로 텍스트가 분리되어 리스트 안의 두 <i>원소(elements)</i>로 들어간다. 이 기술은 특히 영어 텍스트를 분석할 때 필수적인 <b>파싱(parsing)</b>의 기초가 된다(Why?)."
      ],
      "metadata": {
        "id": "fdRlggZ0IE8K"
      },
      "id": "fdRlggZ0IE8K"
    },
    {
      "cell_type": "markdown",
      "source": [
        "> **연습문제 3-1.** 다음 가사 문자열을 (띄어쓰기를 기준으로) 파싱하여 리스트에 각 단어를 집어넣으시오.\n",
        "<br><br>\n",
        "><center>\"Hey Jude, don't make it bad. Take a sad song and make it better.\"</center>"
      ],
      "metadata": {
        "id": "6qavK_9wIVhK"
      },
      "id": "6qavK_9wIVhK"
    },
    {
      "cell_type": "code",
      "source": [
        "lyrics = \"Hey Jude, don't make it bad. Take a sad song and make it better.\"\n",
        "heyjude = lyrics.split(\" \")\n",
        "heyjude"
      ],
      "metadata": {
        "id": "i6_n0xF3IV1C"
      },
      "id": "i6_n0xF3IV1C",
      "execution_count": null,
      "outputs": []
    },
    {
      "cell_type": "markdown",
      "source": [
        "> **연습문제 3-2.** 다음 신문 기사의 일부를 문장 단위로 잘라 리스트에 각 문장을 집어넣으시오.\n",
        "---\n",
        "한파에 비닐하우스에서 자다가 숨진 이주노동자 유족이 대한민국 정부를 상대로 낸 손해배상 소송에서 1심을 뒤집고 정부의 책임을 인정한 항소심 판결이 나왔다.\n",
        "\n",
        "서울중앙지법 민사3-2부(재판장 김소영)는 19일 이주노동자 고 속헹의 부모인 눈 이엠과 난 님이 국가를 상대로 제기한 1억원의 손해배상 소송에서 “정부는 원고들에게 각 1000만원씩 지급하라”며 원고 일부 승소로 판결했다.\n",
        "\n",
        "캄보디아 출신 여성 이주노동자 속헹은 2018년부터 경기도 포천시 한 농장에서 채소를 수확하는 일을 했다. 속헹은 농장 기숙사에서 생활했는데 기숙사엔 난방이 제대로 작동하지 않았다. 한파 경보가 내렸던 2020년 12월20일 당시 30살이었던 속헹은 기숙사에서 숨진 채로 발견됐는데 전날 농장이 있는 포천 일대 기온은 영하 18도까지 떨어졌다. 그가 사망한 날은 고향인 캄보디아로 귀국하기 21일 남은 시점이었다. 그의 사인은 ‘간경화로 인한 혈관파열, 합병증’이었다."
      ],
      "metadata": {
        "id": "sfHNYLZDdB6E"
      },
      "id": "sfHNYLZDdB6E"
    },
    {
      "cell_type": "code",
      "source": [
        "news = \"\"\"한파에 비닐하우스에서 자다가 숨진 이주노동자 유족이 대한민국 정부를 상대로 낸 손해배상 소송에서 1심을 뒤집고 정부의 책임을 인정한 항소심 판결이 나왔다.\n",
        "\n",
        "서울중앙지법 민사3-2부(재판장 김소영)는 19일 이주노동자 고 속헹의 부모인 눈 이엠과 난 님이 국가를 상대로 제기한 1억원의 손해배상 소송에서 “정부는 원고들에게 각 1000만원씩 지급하라”며 원고 일부 승소로 판결했다.\n",
        "\n",
        "캄보디아 출신 여성 이주노동자 속헹은 2018년부터 경기도 포천시 한 농장에서 채소를 수확하는 일을 했다. 속헹은 농장 기숙사에서 생활했는데 기숙사엔 난방이 제대로 작동하지 않았다. 한파 경보가 내렸던 2020년 12월20일 당시 30살이었던 속헹은 기숙사에서 숨진 채로 발견됐는데 전날 농장이 있는 포천 일대 기온은 영하 18도까지 떨어졌다. 그가 사망한 날은 고향인 캄보디아로 귀국하기 21일 남은 시점이었다. 그의 사인은 ‘간경화로 인한 혈관파열, 합병증’이었다.\"\"\"\n",
        "articles = news.split(\". \")\n",
        "articles"
      ],
      "metadata": {
        "id": "MKCvSFM-eyYW"
      },
      "id": "MKCvSFM-eyYW",
      "execution_count": null,
      "outputs": []
    },
    {
      "cell_type": "markdown",
      "source": [
        "> **연습문제 3-2.** `2025-09-22` 라는 문자열을 연, 월, 일로 바꾸어 각각 출력하시오."
      ],
      "metadata": {
        "id": "xhzig208p9Va"
      },
      "id": "xhzig208p9Va"
    },
    {
      "cell_type": "code",
      "source": [
        "date = '2025-09-22'\n",
        "print(date.split('-'))                    #나뉜 것은 리스트에 들어간다는 것에 주의하자!\n",
        "year, month, day = date.split('-')        #리스트 말고 각각의 변수에!\n",
        "print(year)\n",
        "print(month)\n",
        "print(day)"
      ],
      "metadata": {
        "id": "7p1K-sedp_A6"
      },
      "id": "7p1K-sedp_A6",
      "execution_count": null,
      "outputs": []
    },
    {
      "cell_type": "markdown",
      "id": "299b8bf8",
      "metadata": {
        "id": "299b8bf8"
      },
      "source": [
        "## 4. `matplotlib` 시작하기\n",
        "\n",
        "> `matplotlib` 라이브러리를 사용해 다양한 데이터 시각화를 수행할 수 있다. `visualization`을 구글링하여 쇼케이스를 참고하자!\n",
        ">\n",
        "> 특히 자료를 읽는 법이 익숙치 않은 비전문가를 설득할 때일수록 시각화가 중요하다. 오늘날 좋은 글 못지 않게 좋은 시각화가 중요한 소양이 되었다(이것만을 전문적으로 공부하는 분야도 따로 있다).\n",
        ">\n",
        "> 오늘은 (1) **라인 차트(line chart)**, (2) **히스토그램(histogram)**/**막대 차트(bar chart)**, 그리고 (3) <b>상자-수염 그림(box-whiskers plot)</b>을 익혀보기로 하자.\n",
        ">\n",
        "> 이때 `matplotlib.pyplot`을 주로 사용하게 되는데 모를 때는 `help()`로 용례를 확인할 수 있다(물론 검색이나 생성형AI가 더 쉽다)."
      ]
    },
    {
      "cell_type": "code",
      "execution_count": null,
      "id": "b145c3a5",
      "metadata": {
        "scrolled": false,
        "id": "b145c3a5",
        "collapsed": true
      },
      "outputs": [],
      "source": [
        "import matplotlib.pyplot as plt          #matplotlib.pyplot은 너무 기니까 plt로!\n",
        "help(plt.plot)"
      ]
    },
    {
      "cell_type": "markdown",
      "source": [
        "> 가장 우선 `plot()`을 사용해보자. 이것은 라인 차트를 그리는 함수인데 $x$와 $y$를 두 개의 리스트로 순서대로 입력한다. 당연히 짝이 맞아야 한다!"
      ],
      "metadata": {
        "id": "-2TT-q9AQ4PQ"
      },
      "id": "-2TT-q9AQ4PQ"
    },
    {
      "cell_type": "code",
      "execution_count": null,
      "id": "b06b3cd9",
      "metadata": {
        "id": "b06b3cd9"
      },
      "outputs": [],
      "source": [
        "plt.plot([ 1,  2,  3,  4],                   #X\n",
        "         [12, 43, 25, 15])                   #Y\n",
        "plt.show()"
      ]
    },
    {
      "cell_type": "markdown",
      "source": [
        "> 이제 그림을 그릴 수 있었으니 타이틀(title)을 달아보자."
      ],
      "metadata": {
        "id": "7vnHwWZXnfdJ"
      },
      "id": "7vnHwWZXnfdJ"
    },
    {
      "cell_type": "code",
      "execution_count": null,
      "id": "53f01338",
      "metadata": {
        "scrolled": true,
        "id": "53f01338"
      },
      "outputs": [],
      "source": [
        "plt.title('최근 수익 추이')\n",
        "plt.plot([ 1,  2,  3,  4],                   #X\n",
        "         [12, 43, 25, 15])                   #Y\n",
        "plt.show()"
      ]
    },
    {
      "cell_type": "markdown",
      "id": "6e4a3690",
      "metadata": {
        "id": "6e4a3690"
      },
      "source": [
        "> 에러가 나타난다! 잘 보면 핵심은 <b>자형(glyph)</b>이 빠져있다는 것이다! 어떻게 해결하면 좋을까? 이런 것들은 경험이 해결해 준다(혹은 검색이 해결해준다).\n",
        ">\n",
        "> 검색해보면 한글 폰트를 설정해주어 간단히 해결할 수 있음을 알 수 있다. 아래 코드는 Linux 명령어인데 의미는 잘 몰라도 된다(이유 따윈 몰라도 작동하면 된거다)."
      ]
    },
    {
      "cell_type": "code",
      "source": [
        "!sudo apt-get install -y fonts-nanum\n",
        "!sudo fc-cache -fv\n",
        "!rm ~/.cache/matplotlib -rf"
      ],
      "metadata": {
        "id": "MsqS5aATLioX"
      },
      "id": "MsqS5aATLioX",
      "execution_count": null,
      "outputs": []
    },
    {
      "cell_type": "markdown",
      "source": [
        "> 그리고 Google Colab 메뉴에서 [런타임]-[세션 다시 시작]을 눌러 런타임을 재시작한다. 아래 코드를 다시 실행해보자."
      ],
      "metadata": {
        "id": "1eC-ed_X8JgV"
      },
      "id": "1eC-ed_X8JgV"
    },
    {
      "cell_type": "code",
      "execution_count": null,
      "id": "82363878",
      "metadata": {
        "id": "82363878"
      },
      "outputs": [],
      "source": [
        "import matplotlib.pyplot as plt\n",
        "\n",
        "plt.rc('font', family='NanumBarunGothic')\n",
        "\n",
        "plt.title('최근 수익 추이')\n",
        "plt.plot([ 1,  2,  3,  4],                   #X\n",
        "         [12, 43, 25, 15])                   #Y\n",
        "plt.show()"
      ]
    },
    {
      "cell_type": "markdown",
      "source": [
        "> 이제 한글이 표시된다. 그 밖에도 다양한 그래프의 요소들을 추가하거나 편집해보자."
      ],
      "metadata": {
        "id": "ma-JyqHvRcQv"
      },
      "id": "ma-JyqHvRcQv"
    },
    {
      "cell_type": "code",
      "execution_count": null,
      "id": "dc69b258",
      "metadata": {
        "id": "dc69b258"
      },
      "outputs": [],
      "source": [
        "import matplotlib.pyplot as plt\n",
        "\n",
        "plt.rc('font', family='NanumBarunGothic')\n",
        "\n",
        "plt.title('최근 수익 추이')\n",
        "plt.plot([ 1,  2,  3,  4],                       #X\n",
        "         [12, 43, 25, 15],                       #Y\n",
        "         label = '국내수익', color ='skyblue')\n",
        "plt.plot([ 1,  2,  3,  4],\n",
        "         [32, 21, 15, 45],\n",
        "         label = '해외수익', color ='pink')\n",
        "plt.legend()                                 #범례 표시\n",
        "plt.show()"
      ]
    },
    {
      "cell_type": "code",
      "execution_count": null,
      "id": "4bcace78",
      "metadata": {
        "id": "4bcace78",
        "collapsed": true
      },
      "outputs": [],
      "source": [
        "import matplotlib.pyplot as plt\n",
        "\n",
        "plt.rc('font', family='NanumBarunGothic')\n",
        "\n",
        "plt.title('최근 수익 추이')\n",
        "plt.plot([ 1,  2,  3,  4],                       #X\n",
        "         [12, 43, 25, 15],                       #Y\n",
        "         label = '국내수익', color ='skyblue', linestyle ='--')\n",
        "plt.plot([ 1,  2,  3,  4],\n",
        "         [32, 21, 15, 45],\n",
        "         label = '해외수익', color ='pink', ls =':')    #ls나 linestyle나 똑같다.\n",
        "plt.legend()                                 #범례 표시\n",
        "plt.show()"
      ]
    },
    {
      "cell_type": "markdown",
      "source": [
        "> **연습문제 4-1.** 2015년부터 2024년까지 연도별 실업률(15세 이상) 자료를 시계열 도표로 시각화해보자. 연도별 실업률 자료는 [여기](https://www.index.go.kr/unify/idx-info.do?idxCd=8009)를 참고하자. 그래프를 보기 좋게 어느 정도 꾸며보자.\n",
        "<br><br>\n",
        "> ___\n",
        "> 힌트: `range()`를 사용하여 쉽게 $x$축을 만들 수 있다."
      ],
      "metadata": {
        "id": "qLMWFT-YFT4V"
      },
      "id": "qLMWFT-YFT4V"
    },
    {
      "cell_type": "code",
      "source": [
        "import matplotlib.pyplot as plt\n",
        "\n",
        "plt.rc('font', family='NanumBarunGothic')\n",
        "\n",
        "plt.title('우리나라 15세 이상 연도별 실업률(2015--2024)')\n",
        "plt.plot([i for i in range(2014, 2024)],                            #X\n",
        "         [3.6, 3.7, 3.7,\t3.8, 3.8, 4.0, 3.7, 2.9, 2.7, 2.8],        #Y\n",
        "         color ='red')                                              #color\n",
        "plt.show()"
      ],
      "metadata": {
        "id": "Q8NFU114ndmD"
      },
      "id": "Q8NFU114ndmD",
      "execution_count": null,
      "outputs": []
    },
    {
      "cell_type": "markdown",
      "source": [
        "> 특히 그래프를 어떻게 꾸밀 때 ChatGPT가 유용하다. 다소 어색하게 꾸밀 때가 잦으므로 꼼꼼하게 결과물을 살펴보고 구미에 맞게 코드를 수정하자!"
      ],
      "metadata": {
        "id": "jUkPX2GuSfXU"
      },
      "id": "jUkPX2GuSfXU"
    },
    {
      "cell_type": "code",
      "source": [
        "import matplotlib.pyplot as plt\n",
        "\n",
        "# 폰트 설정\n",
        "plt.rc('font', family='NanumBarunGothic')\n",
        "\n",
        "# 그래프 크기 설정\n",
        "plt.figure(figsize=(8, 6))\n",
        "\n",
        "# 제목 설정\n",
        "plt.title('우리나라 15세 이상 연도별 실업률 (2015-2024)', fontsize=16, fontweight='bold')\n",
        "\n",
        "# X축, Y축 레이블 설정\n",
        "plt.xlabel('연도', fontsize=12)\n",
        "plt.ylabel('실업률 (%)', fontsize=12)\n",
        "\n",
        "# X축 눈금 맞춤\n",
        "years = [i for i in range(2015, 2025)]\n",
        "plt.xticks(years)\n",
        "\n",
        "# 데이터 라인 그래프 추가\n",
        "plt.plot(years,\n",
        "         [3.6, 3.7, 3.7, 3.8, 3.8, 4.0, 3.7, 2.9, 2.7, 2.8],\n",
        "         color='red', marker='o', linestyle='-', linewidth=2, markersize=6, label='실업률')\n",
        "\n",
        "# 범례 추가\n",
        "plt.legend(loc='upper right')\n",
        "\n",
        "# 격자선 추가 (가로선만)\n",
        "plt.grid(True, axis='y', linestyle='--', alpha=0.7)\n",
        "\n",
        "# 그래프 표시\n",
        "plt.tight_layout()\n",
        "plt.show()"
      ],
      "metadata": {
        "id": "LhPASJVqSWaK"
      },
      "id": "LhPASJVqSWaK",
      "execution_count": null,
      "outputs": []
    },
    {
      "cell_type": "markdown",
      "id": "67f3c707",
      "metadata": {
        "id": "67f3c707"
      },
      "source": [
        "## 5. 라인 차트\n",
        "\n",
        "> <b>라인 차트(line chart)</b>는 특히 <b>시계열 자료(time-series data)</b>를 그릴 때 많이 사용된다.\n",
        ">\n",
        "> (지난 주에도 사용한 바 있던) 서울시의 기온 공공데이터를 다시 활용하여 시각화를 연습해보자. (아까 그린 실업률 시계열 데이터 시각화처럼) 이번엔 기온 변화를 시각화해보자!\n",
        ">\n",
        "> 먼저 <code>gdown</code> 라이브러리를 사용해 지난 주에 사용했던 서울시 기온 공공데이터를 다시 다운로드 받자."
      ]
    },
    {
      "cell_type": "code",
      "source": [
        "import gdown\n",
        "link = 'https://drive.google.com/uc?id=12v_1pZ6zrGzWKcz-LmR-3hoQPKl7kA_P'\n",
        "gdown.download(link)"
      ],
      "metadata": {
        "id": "y_B7bHpUPoHc"
      },
      "id": "y_B7bHpUPoHc",
      "execution_count": null,
      "outputs": []
    },
    {
      "cell_type": "markdown",
      "source": [
        "> 지난 주에 공부했던 내용 중에서 서울시 기온을 쭉 살펴보는 코드를 복사해오자."
      ],
      "metadata": {
        "id": "Sefd2_SPQh2T"
      },
      "id": "Sefd2_SPQh2T"
    },
    {
      "cell_type": "code",
      "execution_count": null,
      "id": "6cd71174",
      "metadata": {
        "id": "6cd71174",
        "collapsed": true
      },
      "outputs": [],
      "source": [
        "import csv\n",
        "\n",
        "file = open('temp_seoul.csv', 'r', encoding = 'cp949')\n",
        "data = csv.reader(file, delimiter = ',')\n",
        "\n",
        "#첫 7줄은 쓸모없음\n",
        "for i in range(0,7):\n",
        "    next(data)\n",
        "\n",
        "#진짜 헤더\n",
        "header = next(data)\n",
        "print(header)\n",
        "\n",
        "for row in data:\n",
        "\n",
        "    #탭만 들어있는 관측치\n",
        "    if row == ['\\t']:\n",
        "        break\n",
        "\n",
        "    #만약 결측치라면 -999를 넣을 것!\n",
        "    if row[-1] =='':\n",
        "        row[-1] = -999\n",
        "\n",
        "    #문자열인 최고기온을 실수로 변환\n",
        "    row[-1] = float(row[-1])\n",
        "\n",
        "    #결과 출력\n",
        "    print(row)\n",
        "\n",
        "file.close()"
      ]
    },
    {
      "cell_type": "markdown",
      "source": [
        "> 이대로는 그림을 그리기 어렵다. 아까 `plt.plot()` 안에 무엇을 입력했는지 기억해보자. 리스트였다! 그렇다면 데이터가 `print(row)` 대신에 리스트의 형식으로 들어와주어야 한다.\n",
        ">\n",
        "> 리스트 안에 값들을 연속적으로 쭉 집어넣는 방식 중 하나는 빈집(placeholder)를 만들고 `append`를 사용해 새로운 관측치들을 추가하는 것이다.\n",
        ">\n",
        "> 그러므로 (1) 먼저 윗쪽에 `results`라는 placeholder를 만들고, (2) 반복문(loop) 안에서 매일매일의 온도를 `append`로 추가해야 한다(Why?)."
      ],
      "metadata": {
        "id": "aFLJW-gQQ30u"
      },
      "id": "aFLJW-gQQ30u"
    },
    {
      "cell_type": "code",
      "execution_count": null,
      "id": "f685a98a",
      "metadata": {
        "id": "f685a98a"
      },
      "outputs": [],
      "source": [
        "import csv\n",
        "\n",
        "file = open('temp_seoul.csv', 'r', encoding = 'cp949')\n",
        "data = csv.reader(file, delimiter = ',')\n",
        "\n",
        "#첫 7줄은 쓸모없음\n",
        "for i in range(0,7):\n",
        "    next(data)\n",
        "\n",
        "#진짜 헤더\n",
        "header = next(data)\n",
        "#print(header)\n",
        "\n",
        "#온도 넣을 placeholder\n",
        "results = []\n",
        "\n",
        "for row in data:\n",
        "\n",
        "    #탭만 들어있는 관측치\n",
        "    if row == ['\\t']:\n",
        "        break\n",
        "\n",
        "    #만약 결측치라면 -999를 넣을 것!\n",
        "    if row[-1] =='':\n",
        "        row[-1] = -999\n",
        "\n",
        "    #문자열인 최고기온을 실수로 변환\n",
        "    row[-1] = float(row[-1])\n",
        "\n",
        "    #더이상 매번 온도를 출력할 필요는 없다!\n",
        "    #print(row)\n",
        "\n",
        "    #이렇게 결측치 아닌 경우에 한해서 리스트 안에 추가한다!\n",
        "    if row[-1] != -999:\n",
        "        results.append(row[-1])\n",
        "\n",
        "file.close()"
      ]
    },
    {
      "cell_type": "markdown",
      "source": [
        "> 여기서 잠깐 생각해보자!\n",
        ">\n",
        "> 리스트에 대하여 <code>len</code>을 사용하면 요소가 몇 개나 들어있나 확인할 수 있다. 우리 상황에서는 <code>print(results)</code> 대신 이걸 쓰는 것을 추천한다(Why?)."
      ],
      "metadata": {
        "id": "P1dBT-W0SBxa"
      },
      "id": "P1dBT-W0SBxa"
    },
    {
      "cell_type": "code",
      "source": [
        "#print(results)            #이건 좋지 않다.\n",
        "len(results)               #이게 좋다."
      ],
      "metadata": {
        "id": "hAOSjbhIRzt9"
      },
      "id": "hAOSjbhIRzt9",
      "execution_count": null,
      "outputs": []
    },
    {
      "cell_type": "markdown",
      "source": [
        "> 이제 <code>results</code>에 최고기온을 집어넣었으므로 내용이 어떻게 되어있을지 살펴보자."
      ],
      "metadata": {
        "id": "NywTt7oDC1-9"
      },
      "id": "NywTt7oDC1-9"
    },
    {
      "cell_type": "code",
      "source": [
        "print(results[0:10])\n",
        "print(results[-10:-1])"
      ],
      "metadata": {
        "id": "SRA6tf4JC_YD"
      },
      "id": "SRA6tf4JC_YD",
      "execution_count": null,
      "outputs": []
    },
    {
      "cell_type": "markdown",
      "source": [
        "> 이제 <code>matplotlib</code>을 사용하여 그림을 그릴 수 있다. <code>matplotlib.pyplot</code>을 <code>plt</code>로 불러오고 아까 저장해놓은 <code>results</code>를 그대로 입력하면 된다(Why?)."
      ],
      "metadata": {
        "id": "25zg-xT0SbFl"
      },
      "id": "25zg-xT0SbFl"
    },
    {
      "cell_type": "code",
      "execution_count": null,
      "id": "63c51116",
      "metadata": {
        "id": "63c51116"
      },
      "outputs": [],
      "source": [
        "import matplotlib.pyplot as plt\n",
        "import csv\n",
        "\n",
        "file = open('temp_seoul.csv', 'r', encoding = 'cp949')\n",
        "data = csv.reader(file, delimiter = ',')\n",
        "\n",
        "#첫 7줄은 쓸모없음\n",
        "for i in range(0,7):\n",
        "    next(data)\n",
        "\n",
        "#진짜 헤더\n",
        "header = next(data)\n",
        "#print(header)\n",
        "\n",
        "#온도 넣을 placeholder\n",
        "results = []\n",
        "\n",
        "for row in data:\n",
        "\n",
        "    #탭만 들어있는 관측치\n",
        "    if row == ['\\t']:\n",
        "        break\n",
        "\n",
        "    #만약 결측치라면 -999를 넣을 것!\n",
        "    if row[-1] =='':\n",
        "        row[-1] = -999\n",
        "\n",
        "    #문자열인 최고기온을 실수로 변환\n",
        "    row[-1] = float(row[-1])\n",
        "\n",
        "    #결과 출력\n",
        "    #print(row)\n",
        "\n",
        "    #이렇게 결측치 아닌 경우에 한해서 리스트 안에 추가한다!\n",
        "    if row[-1] != -999:\n",
        "        results.append(row[-1])\n",
        "\n",
        "file.close()\n",
        "\n",
        "plt.plot(results, color = 'red')\n",
        "plt.show()"
      ]
    },
    {
      "cell_type": "markdown",
      "id": "e2779fed",
      "metadata": {
        "id": "e2779fed"
      },
      "source": [
        "> 그림을 잘 보면 *자형없음(missing glyphs) 에러*가 또 발생한 것을 알 수 있다. 이때는 $y$ 축의 (-) 기호가 네모 처리되어 있거나 아예 나타나지 않았다(Why?).\n",
        ">\n",
        "> 에러가 나타났을 때 에러 메시지를 고대로 복사해서 구글링하거나 생성형AI에 물어보는 것은 현업에서도 엄청 한다. 쓸데없이 스트레스 받지 말고 검색하자."
      ]
    },
    {
      "cell_type": "code",
      "execution_count": null,
      "id": "4632f4cf",
      "metadata": {
        "scrolled": true,
        "id": "4632f4cf"
      },
      "outputs": [],
      "source": [
        "import matplotlib.pyplot as plt\n",
        "import csv\n",
        "\n",
        "file = open('temp_seoul.csv', 'r', encoding = 'cp949')\n",
        "data = csv.reader(file, delimiter = ',')\n",
        "\n",
        "#첫 7줄은 쓸모없음\n",
        "for i in range(0,7):\n",
        "    next(data)\n",
        "\n",
        "#진짜 헤더\n",
        "header = next(data)\n",
        "#print(header)\n",
        "\n",
        "#온도 넣을 placeholder\n",
        "results = []\n",
        "\n",
        "for row in data:\n",
        "\n",
        "    #탭만 들어있는 관측치\n",
        "    if row == ['\\t']:\n",
        "        break\n",
        "\n",
        "    #만약 결측치라면 -999를 넣을 것!\n",
        "    if row[-1] =='':\n",
        "        row[-1] = -999\n",
        "\n",
        "    #문자열인 최고기온을 실수로 변환\n",
        "    row[-1] = float(row[-1])\n",
        "\n",
        "    #결과 출력\n",
        "    #print(row)\n",
        "\n",
        "    #이렇게 결측치 아닌 경우에 한해서 리스트 안에 추가한다!\n",
        "    if row[-1] != -999:\n",
        "        results.append(row[-1])\n",
        "\n",
        "file.close()\n",
        "\n",
        "plt.rc('axes', unicode_minus = False)            #에러메시지에 대응하여 구글링한 결과를 반영함!\n",
        "plt.plot(results, color = 'red')\n",
        "plt.show()"
      ]
    },
    {
      "cell_type": "markdown",
      "id": "a2073a3d",
      "metadata": {
        "id": "a2073a3d"
      },
      "source": [
        "> 그림 크기를 조금 키워보자. 어떻게 하는지 고민하지 말고 이런 건 검색하면 바로 알 수 있다."
      ]
    },
    {
      "cell_type": "code",
      "execution_count": null,
      "id": "f90aa3a3",
      "metadata": {
        "scrolled": true,
        "id": "f90aa3a3"
      },
      "outputs": [],
      "source": [
        "import matplotlib.pyplot as plt\n",
        "import csv\n",
        "\n",
        "file = open('temp_seoul.csv', 'r', encoding = 'cp949')\n",
        "data = csv.reader(file, delimiter = ',')\n",
        "\n",
        "#첫 7줄은 쓸모없음\n",
        "for i in range(0,7):\n",
        "    next(data)\n",
        "\n",
        "#진짜 헤더\n",
        "header = next(data)\n",
        "#print(header)\n",
        "\n",
        "#온도 넣을 placeholder\n",
        "results = []\n",
        "\n",
        "for row in data:\n",
        "\n",
        "    #탭만 들어있는 관측치\n",
        "    if row == ['\\t']:\n",
        "        break\n",
        "\n",
        "    #만약 결측치라면 -999를 넣을 것!\n",
        "    if row[-1] =='':\n",
        "        row[-1] = -999\n",
        "\n",
        "    #문자열인 최고기온을 실수로 변환\n",
        "    row[-1] = float(row[-1])\n",
        "\n",
        "    #결과 출력\n",
        "    #print(row)\n",
        "\n",
        "    #이렇게 결측치 아닌 경우에 한해서 리스트 안에 추가한다!\n",
        "    if row[-1] != -999:\n",
        "        results.append(row[-1])\n",
        "\n",
        "file.close()\n",
        "\n",
        "plt.figure(figsize = (8, 3), dpi = 200)         #figure size는 15x2 그리고 dots per inch는 200\n",
        "plt.rc('axes', unicode_minus = False)            #에러메시지에 대응하여 구글링한 결과를 반영함!\n",
        "plt.plot(results, color = 'red', linewidth=.5)\n",
        "plt.show()"
      ]
    },
    {
      "cell_type": "markdown",
      "source": [
        "> **연습문제 5-1.** 위 그래프에는 $x$축에 문제가 있다. 검색이나 생성형AI를 활용하여 이를 수정해보자."
      ],
      "metadata": {
        "id": "bqaQJLv0YdgL"
      },
      "id": "bqaQJLv0YdgL"
    },
    {
      "cell_type": "code",
      "source": [
        "import matplotlib.pyplot as plt\n",
        "import csv\n",
        "\n",
        "file = open('temp_seoul.csv', 'r', encoding='cp949')\n",
        "data = csv.reader(file, delimiter=',')\n",
        "\n",
        "# 첫 7줄은 쓸모없음\n",
        "for i in range(0, 7):\n",
        "    next(data)\n",
        "\n",
        "# 진짜 헤더\n",
        "header = next(data)\n",
        "#print(header)\n",
        "\n",
        "# 날짜와 온도를 넣을 placeholder\n",
        "dates = []\n",
        "results = []\n",
        "\n",
        "for row in data:\n",
        "    # 탭만 들어있는 관측치\n",
        "    if row == ['\\t']:\n",
        "        break\n",
        "\n",
        "    # 만약 결측치라면 -999를 넣을 것\n",
        "    if row[-1] == '':\n",
        "        row[-1] = -999\n",
        "\n",
        "    # 문자열인 최고기온을 실수로 변환\n",
        "    row[-1] = float(row[-1])\n",
        "\n",
        "    # 결측치가 아닌 경우에만 리스트에 추가\n",
        "    if row[-1] != -999:\n",
        "        dates.append(row[0][1:])\n",
        "        results.append(row[-1])\n",
        "\n",
        "file.close()\n",
        "\n",
        "plt.figure(figsize = (8, 3), dpi = 200)         #figure size는 15x2 그리고 dots per inch는 200\n",
        "plt.rc('axes', unicode_minus = False)            #에러메시지에 대응하여 구글링한 결과를 반영함!\n",
        "plt.plot(dates, results, color='red', linewidth=0.5)\n",
        "plt.xticks(dates[::1500], rotation=90)  # 1,500단위로 X축 레이블 표시. 90도 회전\n",
        "plt.show()"
      ],
      "metadata": {
        "id": "VTCMwMYHX9Pb"
      },
      "id": "VTCMwMYHX9Pb",
      "execution_count": null,
      "outputs": []
    },
    {
      "cell_type": "markdown",
      "id": "61f4c28d",
      "metadata": {
        "id": "61f4c28d"
      },
      "source": [
        "> **연습문제 5-2.** 서울의 기온 공공데이터에서 매년 9월 30일의 최고기온과 최저기온을 시계열 도표로 나타내보자. 그래프를 적당히 꾸며보자.\n",
        ">\n",
        "> ___\n",
        "힌트: 아까 <b>문자열(string)</b>에 <code>.split()</code> <b>매서드</b>를 사용하면 특정 기준에 따라 쪼갤 수 있다는 것을 배웠다. 이건 여러모로 꽤 유용하게 쓰이는 기능이므로 기억해 두면 좋다(적어도 이런게 있다는 것 자체를 기억해야 나중에 검색이라도 할 수 있다)."
      ]
    },
    {
      "cell_type": "code",
      "execution_count": null,
      "id": "bbe2422e",
      "metadata": {
        "scrolled": true,
        "id": "bbe2422e"
      },
      "outputs": [],
      "source": [
        "import matplotlib.pyplot as plt\n",
        "import csv\n",
        "\n",
        "file = open('temp_seoul.csv', 'r', encoding = 'cp949')\n",
        "data = csv.reader(file, delimiter = ',')\n",
        "\n",
        "#첫 7줄은 쓸모없음\n",
        "for i in range(0,7):\n",
        "    next(data)\n",
        "\n",
        "#진짜 헤더\n",
        "header = next(data)\n",
        "#print(header)\n",
        "\n",
        "#최고/최저 기온 데이터를 저장할 리스트 생성\n",
        "high, low = [], []\n",
        "\n",
        "for row in data:\n",
        "\n",
        "    #탭만 들어있는 관측치\n",
        "    if row == ['\\t']:\n",
        "        break\n",
        "\n",
        "    #만약 결측치라면\n",
        "    if row[-1] =='':\n",
        "        row[-1] = -999\n",
        "    if row[-2] =='':\n",
        "        row[-2] = 999\n",
        "\n",
        "    #문자열인 최고/최저기온을 실수로 변환\n",
        "    row[-1] = float(row[-1])\n",
        "    row[-2] = float(row[-2])\n",
        "\n",
        "    #결과 출력\n",
        "    #print(row)\n",
        "\n",
        "    #결측치 아닌 경우에 한해서 리스트 안에 추가한다!\n",
        "    if row[-1] != -999:\n",
        "        #print(row[0].split('-'))                      #왜 요런게 필요할까?\n",
        "        if row[0].split('-')[1] == '09' and row[0].split('-')[2] == '30':\n",
        "            high.append(float(row[-1]))\n",
        "            low.append(float(row[-2]))\n",
        "\n",
        "file.close()\n",
        "\n",
        "plt.figure(figsize = (8, 3), dpi = 200)\n",
        "plt.rc('font', family='NanumBarunGothic')\n",
        "plt.rc('axes', unicode_minus = False)            #에러메시지에 대응하여 구글링한 결과를 반영함!\n",
        "plt.plot(high, color = 'hotpink', label = \"최고기온\")\n",
        "plt.plot(low, color = 'skyblue', label = \"최저기온\")\n",
        "plt.legend()\n",
        "plt.title('매년 9월 30일의 서울 기온 시계열 변화, 1907-2025')\n",
        "plt.show()"
      ]
    },
    {
      "cell_type": "markdown",
      "source": [
        "> 우리는 슬슬 기후위기의 증거를 확인할 수 있었다. 좀 더 명확하게 시계열 자료에서 <b>추세(trend)</b>만을 분리해서 볼 수는 없을까? 시계열 분석의 세련된 방법이 있지만, 여기서는 가장 단순한 수준에서 <b>평활화(smoothing)</b> 기법 중 하나의 <b>이동평균(moving average)</b>을 통해 서울 기온의 추이를 살펴보자(훨씬 더 명확해진다!).\n",
        ">\n",
        "> 먼저 이동평균을 어떻게 계산하는지 배워야겠지!"
      ],
      "metadata": {
        "id": "BEeZd8U2rr-7"
      },
      "id": "BEeZd8U2rr-7"
    },
    {
      "cell_type": "code",
      "source": [
        "#기온 365일치\n",
        "results[0:365]"
      ],
      "metadata": {
        "id": "I3zm8K_muv9y"
      },
      "id": "I3zm8K_muv9y",
      "execution_count": null,
      "outputs": []
    },
    {
      "cell_type": "markdown",
      "source": [
        "> 조금 더 일반화해보자."
      ],
      "metadata": {
        "id": "a8Npkg_bu7k6"
      },
      "id": "a8Npkg_bu7k6"
    },
    {
      "cell_type": "code",
      "source": [
        "slide = 0\n",
        "results[slide:slide+365]"
      ],
      "metadata": {
        "id": "QBou4zfdu49j"
      },
      "id": "QBou4zfdu49j",
      "execution_count": null,
      "outputs": []
    },
    {
      "cell_type": "markdown",
      "source": [
        "> 물론 매일매일 이동평균을 갱신해야 한다!"
      ],
      "metadata": {
        "id": "4hURJKkuvHvC"
      },
      "id": "4hURJKkuvHvC"
    },
    {
      "cell_type": "code",
      "source": [
        "for slide in range(0, 1000):            #1000일 동안\n",
        "    vals = results[slide:slide+365]\n",
        "    print(vals[0], \"...\", vals[-1])"
      ],
      "metadata": {
        "id": "vMB_lhc2vL-b"
      },
      "id": "vMB_lhc2vL-b",
      "execution_count": null,
      "outputs": []
    },
    {
      "cell_type": "markdown",
      "source": [
        "> 우리가 알고 싶은 것은 이동**평균**이므로 평균값만을 따로 계산해야 한다!"
      ],
      "metadata": {
        "id": "qxVYQtysvifC"
      },
      "id": "qxVYQtysvifC"
    },
    {
      "cell_type": "code",
      "source": [
        "# 1년 이동평균을 담아둘 placeholder\n",
        "ma1yr = []\n",
        "\n",
        "# 365일 이동평균\n",
        "for slide in range(0, len(results)):\n",
        "    vals = results[slide:slide+365]\n",
        "    ma1yr.append(sum(vals) / len(vals))\n",
        "    print(sum(vals))"
      ],
      "metadata": {
        "id": "RDo7L_0SuoYq"
      },
      "id": "RDo7L_0SuoYq",
      "execution_count": null,
      "outputs": []
    },
    {
      "cell_type": "code",
      "source": [
        "import matplotlib.pyplot as plt\n",
        "import csv\n",
        "\n",
        "file = open('temp_seoul.csv', 'r', encoding='cp949')\n",
        "data = csv.reader(file, delimiter=',')\n",
        "\n",
        "# 첫 7줄은 쓸모없음\n",
        "for i in range(0, 7):\n",
        "    next(data)\n",
        "\n",
        "# 진짜 헤더\n",
        "header = next(data)\n",
        "#print(header)\n",
        "\n",
        "# 날짜와 온도를 넣을 placeholder\n",
        "dates = []\n",
        "results = []\n",
        "\n",
        "for row in data:\n",
        "    # 탭만 들어있는 관측치\n",
        "    if row == ['\\t']:\n",
        "        break\n",
        "\n",
        "    # 만약 결측치라면 -999를 넣을 것\n",
        "    if row[-3] == '':\n",
        "        row[-3] = -999\n",
        "\n",
        "    # 문자열인 평균기온을 실수로 변환\n",
        "    row[-1] = float(row[-3])\n",
        "\n",
        "    # 결측치가 아닌 경우에만 리스트에 추가\n",
        "    if row[-1] != -999:\n",
        "        dates.append(row[0][1:])\n",
        "        results.append(row[-1])\n",
        "\n",
        "# 1년 이동평균을 새로 계산\n",
        "ma1yr = []\n",
        "for slide in range(0, len(results)):\n",
        "    vals = results[slide:slide+365]\n",
        "    ma1yr.append(sum(vals) / len(vals))\n",
        "    #print(sum(vals), len(vals), sum(vals) / len(vals))\n",
        "\n",
        "file.close()\n",
        "\n",
        "plt.figure(figsize = (8, 3), dpi = 200)         #figure size는 15x2 그리고 dots per inch는 200\n",
        "plt.rc('axes', unicode_minus = False)            #에러메시지에 대응하여 구글링한 결과를 반영함!\n",
        "plt.plot(dates, ma1yr, color='red', linewidth=0.5)\n",
        "plt.xticks(dates[::1500], rotation=90)  # 1,500단위로 X축 레이블 표시. 90도 회전\n",
        "plt.show()"
      ],
      "metadata": {
        "id": "-D9FXXNysH-S"
      },
      "id": "-D9FXXNysH-S",
      "execution_count": null,
      "outputs": []
    },
    {
      "cell_type": "markdown",
      "source": [
        "> 평균기온이 지난 120년 동안 꾸준히 상승해왔음이 훨씬 분명해졌다. 그런데 왜 마지막 1년 동안 이상하게 평균기온이 솟구쳐 그림이 그려졌을까?"
      ],
      "metadata": {
        "id": "N0nww1j4wFRp"
      },
      "id": "N0nww1j4wFRp"
    },
    {
      "cell_type": "markdown",
      "id": "5d9889d5",
      "metadata": {
        "id": "5d9889d5"
      },
      "source": [
        "## 6. 히스토그램\n",
        "\n",
        "> <b>히스토그램(histogram)</b>은 시계열 그래프와는 완전히 다른 목적을 가지고 있다. 특히 자료의 <b>집계(aggregation)</b>가 프로그램(=파이썬)에 의해 이루어진다는 점에 주의해야 한다.\n",
        ">\n",
        "> 히스토그램을 통해 주어진 관찰값이 얼마나 자주 나타나는지 확인할 수 있다. 이 기법은 데이터 분석에서 굉장히 중요하며, 실무자나 연구자는 거의 매일같이 히스토그램으로 자료를 들여다본다. 구체적인 용례는 <code>help(plt.hist)</code>로 확인하자."
      ]
    },
    {
      "cell_type": "code",
      "execution_count": null,
      "id": "e5ac67a8",
      "metadata": {
        "scrolled": true,
        "id": "e5ac67a8"
      },
      "outputs": [],
      "source": [
        "import matplotlib.pyplot as plt\n",
        "\n",
        "plt.hist([1, 1, 2, 3, 4, 5, 6, 6, 7, 8, 10])\n",
        "plt.show()"
      ]
    },
    {
      "cell_type": "markdown",
      "id": "4b1e1c19",
      "metadata": {
        "id": "4b1e1c19"
      },
      "source": [
        "> 통계학을 배우면서 고급 단계에 진입하면, 예전에 대충 배웠던 부분(혹은 순수하게 이론적으로만 이해하고 넘어갔던 부분)을 <b>시뮬레이션(simulation)</b>으로 재확인하는 과정을 거치게 된다.\n",
        ">\n",
        "> 여기서는 간단한 예제로 주사위 던지기의 결과를 테스트해보자. 주사위를 5번 던지면 결과의 <b>분포(distribution)</b>는 어떠할까?"
      ]
    },
    {
      "cell_type": "code",
      "execution_count": null,
      "id": "a6f676e1",
      "metadata": {
        "id": "a6f676e1"
      },
      "outputs": [],
      "source": [
        "import random\n",
        "\n",
        "dice = []                   #placeholder\n",
        "for i in range(5):          #5번 던지면?\n",
        "    value = random.randint(1, 6)\n",
        "    dice.append(value)\n",
        "\n",
        "print(dice)\n",
        "plt.hist(dice, bins = 6)    #왜 bins=6일지 생각해보자\n",
        "plt.show()"
      ]
    },
    {
      "cell_type": "markdown",
      "id": "8a01504b",
      "metadata": {
        "id": "8a01504b"
      },
      "source": [
        "> 그런데 (5번이 아니라) 50번 던지면 무엇을 알 수 있을까? 주사위의 특정 면이 나올 확률에 관해 당혹스러운 사실이 금방 드러난다. 아예 10,000번을 던지면 어떨까? 인생을 걸기엔 아깝지만 컴퓨터는 쓱싹이다!\n",
        ">\n",
        "> (주사위를 한두 번 던졌을 때와는 달리) 여러 번 던지면 각 숫자가 나올 확률은 동등해지리라고 *이성적으로* 예측할 수 있다. 하지만 현실에서는 어떨까? 5회 반복이 아니라 10회, 50회, 100회, 500회, 10000회를 반복해보자. 시뮬레이션은 우리의 이성적 예측과 얼마나 같을까?"
      ]
    },
    {
      "cell_type": "code",
      "execution_count": null,
      "id": "3cf477e6",
      "metadata": {
        "id": "3cf477e6"
      },
      "outputs": [],
      "source": [
        "import random\n",
        "import matplotlib.pyplot as plt\n",
        "\n",
        "dice = []                   #빈집(placeholder)\n",
        "for i in range(1000):      #1000번 던지면?\n",
        "    value = random.randint(1, 6)\n",
        "    dice.append(value)\n",
        "\n",
        "#print(dice)\n",
        "plt.hist(dice, bins = 6)    #왜 bins=6일지 생각해보자\n",
        "plt.show()"
      ]
    },
    {
      "cell_type": "markdown",
      "metadata": {
        "id": "80958b15"
      },
      "source": [
        "> **연습문제 6-1**. 서울시의 기온 공공데이터를 사용하여 평균기온의 히스토그램을 그리고자 한다. 먼저 어떤 형태로 그려질지 상상해보고 직접 코드를 작성하여 이를 확인하시오."
      ],
      "id": "80958b15"
    },
    {
      "cell_type": "code",
      "source": [
        "import matplotlib.pyplot as plt\n",
        "import csv\n",
        "\n",
        "file = open('temp_seoul.csv', 'r', encoding = 'cp949')\n",
        "data = csv.reader(file, delimiter = ',')\n",
        "\n",
        "#첫 7줄은 쓸모없음\n",
        "for i in range(0,7):\n",
        "    next(data)\n",
        "\n",
        "#진짜 헤더\n",
        "header = next(data)\n",
        "#print(header)\n",
        "\n",
        "#평균 기온 데이터를 저장할 리스트 생성\n",
        "avg = []\n",
        "\n",
        "for row in data:\n",
        "\n",
        "    #탭만 들어있는 관측치\n",
        "    if row == ['\\t']:\n",
        "        break\n",
        "\n",
        "    #만약 결측치라면 -999\n",
        "    if row[3] =='':\n",
        "        row[3] = -999\n",
        "\n",
        "    #문자열인 평균기온을 실수로 변환\n",
        "    row[3] = float(row[3])\n",
        "\n",
        "    #결측치가 아닌 값만 리스트 안에 추가한다!\n",
        "    if row[3] != -999:\n",
        "        avg.append(float(row[3]))\n",
        "\n",
        "file.close()\n",
        "\n",
        "plt.figure(figsize = (8, 3), dpi = 200)\n",
        "plt.rc('font', family='NanumBarunGothic')\n",
        "plt.rc('axes', unicode_minus = False)           #에러메시지에 대응하여 구글링!\n",
        "plt.hist(avg, bins=50, density=True)             #이것만 살짝 바뀐다.\n",
        "plt.title('서울 평균기온 히스토그램, 1907-2025')\n",
        "plt.show()"
      ],
      "metadata": {
        "id": "L3Lc3LFyUwCG"
      },
      "id": "L3Lc3LFyUwCG",
      "execution_count": null,
      "outputs": []
    },
    {
      "cell_type": "markdown",
      "id": "ac1be664",
      "metadata": {
        "id": "ac1be664"
      },
      "source": [
        "## 7. 상자-수염 그림\n",
        "\n",
        "> **상자-수염 그림(box-whiskers' plot)** 역시 변수의 <b>기술통계량(descriptive statistics)</b>을 요약하는데 종종 사용된다(다만 근래 전문가나 연구자들 사이에서는 예전처럼 많이 쓰이진 않는다).\n",
        ">\n",
        "> 상자 가운데 선은 <b>중앙값(median)</b>을, 상자의 위아래는 각각 <b>제1사분위수(1st quartile)</b>와  <b>제3사분위수(3rd quartile)</b>를 나타낸다. 수염의 위아래는 각각 <b>최대값(maximum)</b>과 <b>최소값(minimum)</b>을 나타낸다. 구체적인 용례는 <code>help(plt.boxplot)</code>로 확인하자."
      ]
    },
    {
      "cell_type": "code",
      "source": [
        "import matplotlib.pyplot as plt\n",
        "nums = [1, 2, 3, 4, 4, 4, 5, 6]\n",
        "plt.boxplot(nums)\n",
        "plt.show()"
      ],
      "metadata": {
        "id": "5gtmzAa9yla5"
      },
      "id": "5gtmzAa9yla5",
      "execution_count": null,
      "outputs": []
    },
    {
      "cell_type": "markdown",
      "source": [
        "> **연습문제 7-1**. 앞서 만들어 본 주사위 1,000번 던지기 시뮬레이션 결과를 상자-수염 그림으로도 나타내보자."
      ],
      "metadata": {
        "id": "HlOwCJGEyG8h"
      },
      "id": "HlOwCJGEyG8h"
    },
    {
      "cell_type": "code",
      "execution_count": null,
      "id": "3fe26482",
      "metadata": {
        "scrolled": true,
        "id": "3fe26482"
      },
      "outputs": [],
      "source": [
        "import random\n",
        "import matplotlib.pyplot as plt\n",
        "\n",
        "dice = []                   #빈집(placeholder)\n",
        "for i in range(1000):      #1000번 던지면?\n",
        "    value = random.randint(1, 6)\n",
        "    dice.append(value)\n",
        "\n",
        "plt.boxplot(dice)\n",
        "plt.show()"
      ]
    },
    {
      "cell_type": "markdown",
      "id": "0996f98e",
      "metadata": {
        "id": "0996f98e"
      },
      "source": [
        "> 이번엔 **연습문제 5-2**를 살짝 수정하여, 9월 30일의 역대 최고기온과 최저기온을 히스토그램이 아니라 상자-수염 그림으로 나타내보자!"
      ]
    },
    {
      "cell_type": "code",
      "execution_count": null,
      "id": "d52a2298",
      "metadata": {
        "scrolled": true,
        "id": "d52a2298"
      },
      "outputs": [],
      "source": [
        "import matplotlib.pyplot as plt\n",
        "import csv\n",
        "\n",
        "file = open('temp_seoul.csv', 'r', encoding = 'cp949')\n",
        "data = csv.reader(file, delimiter = ',')\n",
        "\n",
        "#첫 7줄은 쓸모없음\n",
        "for i in range(0,7):\n",
        "    next(data)\n",
        "\n",
        "#진짜 헤더\n",
        "header = next(data)\n",
        "#print(header)\n",
        "\n",
        "#최고/최저 기온 데이터를 저장할 리스트 생성\n",
        "high, low = [], []\n",
        "\n",
        "for row in data:\n",
        "\n",
        "    #탭만 들어있는 관측치\n",
        "    if row == ['\\t']:\n",
        "        break\n",
        "\n",
        "    #만약 결측치라면\n",
        "    if row[-1] =='':\n",
        "        row[-1] = -999\n",
        "    if row[-2] =='':\n",
        "        row[-2] = 999\n",
        "\n",
        "    #문자열인 최고/최저기온을 실수로 변환\n",
        "    row[-1] = float(row[-1])\n",
        "    row[-2] = float(row[-2])\n",
        "\n",
        "    #결과 출력\n",
        "    #print(row)\n",
        "\n",
        "    #결측치 아닌 경우에 한해서 리스트 안에 추가한다!\n",
        "    if row[-1] != -999:\n",
        "        #print(row[0].split('-'))                      #왜 요런게 필요할까?\n",
        "        if row[0].split('-')[1] == '09' and row[0].split('-')[2] == '30':\n",
        "            high.append(float(row[-1]))\n",
        "            low.append(float(row[-2]))\n",
        "\n",
        "file.close()\n",
        "\n",
        "plt.figure(figsize = (8, 3), dpi = 200)\n",
        "plt.rc('font', family='NanumBarunGothic')\n",
        "plt.rc('axes', unicode_minus = False)           #에러메시지에 대응하여 구글링!\n",
        "#plt.plot(high, color = 'hotpink', label = \"최고기온\")\n",
        "#plt.plot(low, color = 'skyblue', label = \"최고기온\")\n",
        "plt.boxplot(high)             #이것만 살짝 바뀐다.\n",
        "plt.boxplot(low)              #이것만 살짝 바뀐다.\n",
        "#plt.legend()\n",
        "plt.title('매년 9월 30일의 서울 기온 시계열 변화, 1907-2025')\n",
        "plt.show()"
      ]
    },
    {
      "cell_type": "markdown",
      "id": "27778ffb",
      "metadata": {
        "id": "27778ffb"
      },
      "source": [
        "> 아 좋지 않다! 상자-수염 그림을 위아래로 배치하기보다는 좌우로 배치하기 위해 간단한 트릭을 쓸 수 있다.\n",
        ">\n",
        "> 과거에는 고통스러운 경험을 통해서만 이런 트릭을 *자연스럽게* 알 수 있었다. 그보다 최근에는 Stack Overflow에서 물어보거나 구글링하게 되었다. 이제부터는 생성형 AI에 물어보게 될 것이다(직접 물어보자)."
      ]
    },
    {
      "cell_type": "code",
      "execution_count": null,
      "id": "46047b50",
      "metadata": {
        "id": "46047b50"
      },
      "outputs": [],
      "source": [
        "import matplotlib.pyplot as plt\n",
        "import csv\n",
        "\n",
        "file = open('temp_seoul.csv', 'r', encoding = 'cp949')\n",
        "data = csv.reader(file, delimiter = ',')\n",
        "\n",
        "#첫 7줄은 쓸모없음\n",
        "for i in range(0,7):\n",
        "    next(data)\n",
        "\n",
        "#진짜 헤더\n",
        "header = next(data)\n",
        "#print(header)\n",
        "\n",
        "#최고/최저 기온 데이터를 저장할 리스트 생성\n",
        "high, low = [], []\n",
        "\n",
        "for row in data:\n",
        "\n",
        "    #탭만 들어있는 관측치\n",
        "    if row == ['\\t']:\n",
        "        break\n",
        "\n",
        "    #만약 결측치라면\n",
        "    if row[-1] =='':\n",
        "        row[-1] = -999\n",
        "    if row[-2] =='':\n",
        "        row[-2] = 999\n",
        "\n",
        "    #문자열인 최고/최저기온을 실수로 변환\n",
        "    row[-1] = float(row[-1])\n",
        "    row[-2] = float(row[-2])\n",
        "\n",
        "    #결과 출력\n",
        "    #print(row)\n",
        "\n",
        "    #결측치 아닌 경우에 한해서 리스트 안에 추가한다!\n",
        "    if row[-1] != -999:\n",
        "        #print(row[0].split('-'))                      #왜 요런게 필요할까?\n",
        "        if row[0].split('-')[1] == '09' and row[0].split('-')[2] == '30':\n",
        "            high.append(float(row[-1]))\n",
        "            low.append(float(row[-2]))\n",
        "\n",
        "file.close()\n",
        "\n",
        "plt.figure(figsize = (8, 3), dpi = 200)\n",
        "plt.rc('font', family='NanumBarunGothic')\n",
        "plt.rc('axes', unicode_minus = False)           #에러메시지에 대응하여 구글링!\n",
        "#plt.plot(high, color = 'hotpink', label = \"최고기온\")\n",
        "#plt.plot(low, color = 'skyblue', label = \"최고기온\")\n",
        "#plt.boxplot(high)             #이것만 살짝 바뀐다.\n",
        "#plt.boxplot(low)              #이것만 살짝 바뀐다.\n",
        "plt.boxplot([high, low])                       #이런 트릭으로 좌우대조가 된다!\n",
        "plt.xticks([1, 2], ['최고기온', '최저기온'])\n",
        "#plt.legend()\n",
        "plt.title('매년 9월 30일의 서울 기온 시계열 변화, 1907-2025')\n",
        "plt.show()"
      ]
    },
    {
      "cell_type": "markdown",
      "metadata": {
        "id": "8ce6f45c"
      },
      "source": [
        "> **연습문제 7-2**. 서울시의 기온 공공데이터를 사용하여 전기간에 걸쳐 *매달* 평균기온 변화의 추이를 나타내는 상자-수염 그림을 그리시오.\n",
        "> ___\n",
        "> 힌트: (1) 하나의 빈집 안에 12개의 빈집(placeholders)를 준비한 뒤, 매달 맞는 위치에 기온 수열을 집어넣어야 한다! (2) 상자-수염 그림을 시각화할 때, <code>showfliers=False</code> **옵션** 또는 <b>아규먼트(argument)</b>를 추가하면 <b>이상점(outliers)</b>은 나타내지 않는다."
      ],
      "id": "8ce6f45c"
    },
    {
      "cell_type": "code",
      "execution_count": null,
      "metadata": {
        "id": "742cecd8"
      },
      "outputs": [],
      "source": [
        "import matplotlib.pyplot as plt\n",
        "import csv\n",
        "\n",
        "file = open('temp_seoul.csv', 'r', encoding = 'cp949')\n",
        "data = csv.reader(file, delimiter = ',')\n",
        "\n",
        "#첫 7줄은 쓸모없울\n",
        "for i in range(0,7):\n",
        "    next(data)\n",
        "\n",
        "#진짜 헤더\n",
        "header = next(data)\n",
        "#print(header)\n",
        "\n",
        "#빈집 안의 12개 빈집들(1월부터 12월까지!)\n",
        "months = [[], [], [], [], [], [], [], [], [], [], [], []]\n",
        "\n",
        "#은근슬쩍 여기에!\n",
        "plt.figure(figsize=(10,5), dpi=300)\n",
        "\n",
        "for row in data:\n",
        "\n",
        "    #탭만 들어있는 관측치\n",
        "    if row == ['\\t']:\n",
        "        break\n",
        "\n",
        "    #만약 결측치라면 -999를 넣을 것!\n",
        "    if row[2] =='':\n",
        "        row[2] = -999\n",
        "\n",
        "    #문자열인 최고/최저기온을 실수로 변환\n",
        "    row[2] = float(row[2])\n",
        "\n",
        "    #결과 출력\n",
        "    #print(row)\n",
        "\n",
        "    #이렇게 결측치 아닌 경우에 한해서 리스트 안에 추가한다!\n",
        "    if row[2] != -999:\n",
        "        month = int(row[0].split('-')[1]) - 1        #리스트의 인덱스\n",
        "        temp = float(row[2])                         #집어넣을 평균기온\n",
        "        months[month].append(temp)                   #리스트 어디에 집어넣는지 꼼꼼히 볼 것!\n",
        "\n",
        "file.close()\n",
        "\n",
        "plt.figure(figsize = (10, 5), dpi = 100)         #figure size는 10x5 그리고 dots per inch는 100\n",
        "plt.rc('font', family='NanumBarunGothic')\n",
        "plt.title('서울시 평균기온 매월 추이, 1907-2025')\n",
        "plt.boxplot(months, showfliers=False)           #이상점(outliers)을 표시하지 않음\n",
        "plt.show()"
      ],
      "id": "742cecd8"
    }
  ],
  "metadata": {
    "kernelspec": {
      "display_name": "Python 3 (ipykernel)",
      "language": "python",
      "name": "python3"
    },
    "language_info": {
      "codemirror_mode": {
        "name": "ipython",
        "version": 3
      },
      "file_extension": ".py",
      "mimetype": "text/x-python",
      "name": "python",
      "nbconvert_exporter": "python",
      "pygments_lexer": "ipython3",
      "version": "3.9.7"
    },
    "colab": {
      "provenance": [],
      "toc_visible": true,
      "include_colab_link": true
    }
  },
  "nbformat": 4,
  "nbformat_minor": 5
}