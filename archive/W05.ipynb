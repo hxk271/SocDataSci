{
  "cells": [
    {
      "cell_type": "markdown",
      "metadata": {
        "id": "view-in-github",
        "colab_type": "text"
      },
      "source": [
        "<a href=\"https://colab.research.google.com/github/hxk271/SocDataSci/blob/main/archive/W05.ipynb\" target=\"_parent\"><img src=\"https://colab.research.google.com/assets/colab-badge.svg\" alt=\"Open In Colab\"/></a>"
      ]
    },
    {
      "cell_type": "markdown",
      "source": [
        "# Week 05 (인구 자료의 탐색)\n",
        "\n",
        "<b>인구학(demography)</b>은 사회학의 한 분야이자 사회과학 전반에 걸친 학제간(interdisciplinary) 연구 분야이다. 인구의 현 상황을 면멸히 살펴보고 과거와 미래 사이의 동태(dynamics)에 관해 연구한다. 오늘은 인구 집계자료를 활용하여 <b>인구 피라미드(population pyramid)</b>를 포함하여 몇가지 시각화를 수행해볼 예정이다.\n",
        "<br><br>\n",
        "본격적으로 진도를 나가기에 앞서 (1) 데이터베이스 구조에 충실한 자료유형인 **딕트(dict)**, (2) 반복문을 리스트 내부에서 수행하는 **리스트 컴프리핸션(list comprehension)**, 그리고 (3) 몇몇 유용한 문자열 함수에 관해 공부하자."
      ],
      "metadata": {
        "id": "re2Pz22KfF5j"
      },
      "id": "re2Pz22KfF5j"
    },
    {
      "cell_type": "markdown",
      "id": "de38800a",
      "metadata": {
        "id": "de38800a"
      },
      "source": [
        "## 1. 딕트\n",
        "\n",
        "> 파이썬에서 자료를 저장하는 방식으로는 아무래도 리스트(list)가 가장 흔하게 사용된다. 그렇지만 그 외에도 다른 여러 특색있는 자료 구조(data structure)가 있다. 오늘은 추가적으로 <b>딕트(dict)</b>에 관해 배워보자. 딕트는 전형적인 **데이터베이스(database)** 구조를 가지고 있다. 이것은 <b>키(keys)</b>와 <b>값(values)</b>의 한 쌍으로 이루어진다."
      ]
    },
    {
      "cell_type": "code",
      "execution_count": null,
      "id": "b2ba53c1",
      "metadata": {
        "id": "b2ba53c1"
      },
      "outputs": [],
      "source": [
        "#딕트 만들기와 호출하기\n",
        "tel = {'jack': 4098,\n",
        "       'paul': 4139}\n",
        "tel['jack']\n",
        "\n",
        "#있나 없나?\n",
        "'jack' not in tel\n",
        "\n",
        "#새로운 키와 값의 추가\n",
        "tel['guido'] = 4127\n",
        "tel\n",
        "\n",
        "#기존 키와 값의 제거\n",
        "del tel['paul']\n",
        "tel\n",
        "\n",
        "#딕트에서 리스트로!\n",
        "list(tel)"
      ]
    },
    {
      "cell_type": "markdown",
      "source": [
        "> 딕트를 처음 배울 때 많은 학생들이 **단어 세기(word count)** 프로그램을 만들어보곤 한다. 제대로 단어를 센다면, 만약 ``우왕 이게 다 뭐람 이게 다`` 라는 문장이 주어졌다면 다음과 같은 구조를 갖는 딕트가 생성되어야 한다:\n",
        ">\n",
        "> <center> {'우왕': 1, '이게': 2, '다': 2, '뭐람': 1} </center>\n",
        ">\n",
        "> 순서는 다음과 같다: \\\n",
        "> (1) 먼저 비어있는 딕트(placeholder)를 만든다.\\\n",
        "> (2) 주어진 문장을 파싱(parsing)하여 조각조각 나뉜 <b>글조각(tokens)</b>들이 딕트에 이미 등록되어 있는지 검색해본다.\\\n",
        "> (3) 있으면 +1하고, 없으면 추가한 뒤 1을 새로 부여한다."
      ],
      "metadata": {
        "id": "uUPVzShyRMR_"
      },
      "id": "uUPVzShyRMR_"
    },
    {
      "cell_type": "code",
      "source": [
        "document = \"\"\"\n",
        "이재명 대통령은 오는 30일 1박 2일 일정으로 한국을 방문하는 이시바 시게루 일본 총리와 정상회담을 한다고 대통령실이 26일 밝혔다.\n",
        "\n",
        "강유정 대통령실 대변인은 이날 브리핑에서 이 같은 일정을 발표하고 \"양 정상은 부산에서 정상회담, 만찬 등의 일정을 가질 예정\"이라고 말했다.\n",
        "\n",
        "강 대변인은 \"이번 이시바 총리의 방한은 지난 8월 재개된 셔틀외교에 따라 양 정상이 조만간 한국에서 만나기로 한 데 따른 것\"이라고 설명했다.\n",
        "\n",
        "지난달 23∼24일 일본을 방문한 이 대통령은 이시바 총리에게 셔틀외교를 제안하며 서울이 아닌 지방에서 회동하자고 언급한 바 있다.\n",
        "\n",
        "강 대변인은 \"이번 회담을 통해 한일 정상은 양국 간 미래지향 협력의 발판을 더욱 공고히 하고, 역내 평화와 안정을 위한 한일·한미일 공조 강화 방안과 양국 공동 관심사에 대해 허심탄회한 의견을 나누게 될 것\"이라고 말했다.\n",
        "\n",
        "강 대변인은 부산으로 회담 장소를 정한 이유에 대해선 \"지난번 정상회담에서 저녁 식사를 할 때 지방도시를 방문해 보고 싶다는 의견을 양 정상이 서로 나눴다\"며 \"약속을 지키는 의미에서 지방 도시를 찾는 것이고, 서울 이외의 도시를 의미하다 보니 첫 번째로 부산을 선택하게 된 것이 아닌가 싶다\"고 설명했다.\n",
        "\n",
        "정상회담 개최에 따른 공동성명 또는 합의문 발표 여부에 대해선 \"아직 정확하게 협의된 부분이나 알려진 바는 없다\"고 했다.\n",
        "\n",
        "일본 총리가 양자 회담을 계기로 서울 이외의 도시를 방문하는 건 2004년 고이즈미 준이치로 당시 일본 총리가 제주도에서 노무현 당시 대통령과 정상회담을 가진 이래 21년 만이다.\n",
        "\n",
        "이시바 총리의 방한은 작년 10월 취임 이후 처음이다.\n",
        "\n",
        "다만 이시바 총리는 이미 집권 자민당 총재에서 물러날 의사를 밝혔고 내달 4일이면 새 총재가 선출될 예정이어서 이번 일정은 총리로서 마지막 방한이 될 전망이다.\n",
        "\n",
        "기시다 후미오 전 총리도 퇴임 직전인 작년 9월 한국을 방문한 바 있다.\n",
        "\"\"\"\n",
        "\n",
        "document = document.split()\n",
        "\n",
        "#dict as a placeholder\n",
        "wordcount = {}\n",
        "\n",
        "for word in document:\n",
        "\n",
        "    #만약 그 단어가 딕트 안에 있으면 +1\n",
        "    if word in wordcount:\n",
        "        wordcount[word] = wordcount[word] + 1\n",
        "\n",
        "    #만약 그 단어가 딕트 안에 없으면 새로 만들기!\n",
        "    else:\n",
        "        wordcount[word] = 1\n",
        "\n",
        "print(wordcount)"
      ],
      "metadata": {
        "id": "iJjQZydiRmtt"
      },
      "execution_count": null,
      "outputs": [],
      "id": "iJjQZydiRmtt"
    },
    {
      "cell_type": "markdown",
      "source": [
        "> **연습문제 1-1**. 다음 프로그램을 작성하시오.\\\n",
        "> (1) 사용자에게 이름을 입력하도록 100번 반복하여 요청한다.\\\n",
        "> (2) 만약 입력된 이름이 신규 자료라면 사용자에게 전화번호를 입력받고 그 정보를 저장한다.\\\n",
        "> (3) 만약 이미 입력된 이름이라면 기존에 입력된 전화번호를 출력하시오.\\\n",
        "> (4) (100번을 채우지 않더라도) 만약 \"종료\"가 입력된다면 프로그램을 종료하면서 지금까지 입력된 전화번호를 모두 출력하시오."
      ],
      "metadata": {
        "id": "TxDJ3GHDRGRd"
      },
      "id": "TxDJ3GHDRGRd"
    },
    {
      "cell_type": "code",
      "source": [
        "telbook = {}\n",
        "\n",
        "for _ in range(0, 100):\n",
        "\n",
        "    name = input('이름을 입력하거나 \"종료\"를 입력하시오. ')\n",
        "\n",
        "    if name == \"종료\":\n",
        "        break\n",
        "\n",
        "    if name in telbook:\n",
        "        print(telbook[name])\n",
        "\n",
        "    else:\n",
        "        pnum = input('전화번호를 입력하시오. ')\n",
        "        telbook[name] = pnum\n",
        "\n",
        "print(\"전화번호부:\")\n",
        "print(telbook)"
      ],
      "metadata": {
        "id": "43zDxSpPRJ4Z"
      },
      "id": "43zDxSpPRJ4Z",
      "execution_count": null,
      "outputs": []
    },
    {
      "cell_type": "markdown",
      "source": [
        "> **연습문제 1-2**. 다음 프로그램을 작성하시오.\\\n",
        "> (1) 고객의 이름과 판매액을 각각 입력받도록 100번 반복하여 요청한다.\\\n",
        "> (2) 신규 고객이라면 새로운 판매액을 이름과 함께 저장한다.\\\n",
        "> (3) 고객은 반복 주문할 수 있으며, 이때 판매액은 기존 판매액에 누적되어 저장한다.\\\n",
        "> (4) (100번을 채우지 않더라도) 만약 \"종료\"가 입력된다면 프로그램을 종료하면서 지금까지 입력된 고객 이름과 (누적)판매액을 모두 출력하시오."
      ],
      "metadata": {
        "id": "jiGsxw2125M0"
      },
      "id": "jiGsxw2125M0"
    },
    {
      "cell_type": "code",
      "source": [
        "salesbook = {}\n",
        "\n",
        "for _ in range(100):\n",
        "    name = input('고객 이름을 입력하거나 \"종료\"를 입력하시오. ')\n",
        "    if name == \"종료\":\n",
        "        break\n",
        "\n",
        "    amount = float(input('판매액을 입력하시오. '))\n",
        "\n",
        "    if name in salesbook:\n",
        "        salesbook[name] = salesbook[name] + amount\n",
        "    else:\n",
        "        salesbook[name] = amount\n",
        "\n",
        "print(\"최종 판매 현황:\")\n",
        "print(salesbook)"
      ],
      "metadata": {
        "id": "9YRtXXZ43wR9"
      },
      "id": "9YRtXXZ43wR9",
      "execution_count": null,
      "outputs": []
    },
    {
      "cell_type": "markdown",
      "source": [
        "## 2. 리스트 컴프리핸션\n",
        "\n",
        "> 반복문을 수행할 때는 지금껏 `for` 구문을 사용하였지만 만일 리스트 안에 담을 내용이라면 그보다 더 **파이썬다운(pythonic)** 방법이 있다. 그것이 바로 <b>리스트 컴프리핸션(list comprehension)</b>이다.\n",
        ">\n",
        ">  1부터 10까지 숫자의 제곱을 리스트에 담아 출력하는 아래의 코드를 잘 살펴보자."
      ],
      "metadata": {
        "id": "4c6PLkYEAPoJ"
      },
      "id": "4c6PLkYEAPoJ"
    },
    {
      "cell_type": "code",
      "source": [
        "tba = []\n",
        "for i in range(1, 11):\n",
        "  tba.append(i**2)\n",
        "print(tba)"
      ],
      "metadata": {
        "id": "S7uqwR0dGRTI"
      },
      "id": "S7uqwR0dGRTI",
      "execution_count": null,
      "outputs": []
    },
    {
      "cell_type": "markdown",
      "metadata": {
        "id": "axPr-S-2ADee"
      },
      "source": [
        "> 그런데 리스트 컴프리핸션을 사용하면 다음과 같이 압축된다."
      ],
      "id": "axPr-S-2ADee"
    },
    {
      "cell_type": "code",
      "execution_count": null,
      "metadata": {
        "id": "wsLJVn2PAH2h"
      },
      "outputs": [],
      "source": [
        "[i**2 for i in range(1, 11)]"
      ],
      "id": "wsLJVn2PAH2h"
    },
    {
      "cell_type": "markdown",
      "source": [
        "> `[i for i in range(0, 11)]`에서 리스트 컴프리핸션의 핵심을 살펴볼 수 있다. 이 위에 조건문 `if`도 덧붙일 수 있다. 가령 0부터 10 사이의 숫자 중 4 이상의 숫자만 출력한다면 다음과 같이 코드를 작성할 수 있다."
      ],
      "metadata": {
        "id": "4KlYTvqrG0aA"
      },
      "id": "4KlYTvqrG0aA"
    },
    {
      "cell_type": "code",
      "source": [
        "[i for i in range(0, 11) if i>3]"
      ],
      "metadata": {
        "id": "cM85gg58HGbn"
      },
      "id": "cM85gg58HGbn",
      "execution_count": null,
      "outputs": []
    },
    {
      "cell_type": "markdown",
      "metadata": {
        "id": "qYnsfhzHAkzJ"
      },
      "source": [
        "> **연습문제 2-1**. 1부터 100사이에서 짝수만 출력하는 코드를 만들고자 한다. 먼저 반복문과 조건문을 사용하여 만들어 보고, 그 다음에는 리스트 컴프리핸션에 도전해보자."
      ],
      "id": "qYnsfhzHAkzJ"
    },
    {
      "cell_type": "code",
      "execution_count": null,
      "metadata": {
        "id": "1WrP1wqFA3Mo"
      },
      "outputs": [],
      "source": [
        "#loop and condition\n",
        "evens = []\n",
        "for i in range(1, 101):\n",
        "    if i % 2 == 0:\n",
        "        evens.append(i)\n",
        "print(evens)\n",
        "\n",
        "#list comprehension\n",
        "print([i for i in range(1, 101) if i % 2 == 0])"
      ],
      "id": "1WrP1wqFA3Mo"
    },
    {
      "cell_type": "markdown",
      "source": [
        "> **연습문제 2-2**. 아래 `pop` 변수 안에는 10개의 지역 안 인구수가 기록되어 있다. 각 지역의 인구비율을 계산하시오.\n",
        "---\n",
        "```python\n",
        "pop = [98, 301, 232, 1031, 277, 540, 120, 412, 432, 543]\n",
        "```"
      ],
      "metadata": {
        "id": "oiSPpGf-8fwF"
      },
      "id": "oiSPpGf-8fwF"
    },
    {
      "cell_type": "code",
      "source": [
        "pop = [98, 301, 232, 1031, 277, 540, 120, 412, 432, 543]\n",
        "[i/sum(pop) for i in pop]"
      ],
      "metadata": {
        "id": "ohDHUVtv8ghL"
      },
      "id": "ohDHUVtv8ghL",
      "execution_count": null,
      "outputs": []
    },
    {
      "cell_type": "markdown",
      "source": [
        "> 리스트 컴프리핸션에서 종종 사용하는 함수 중 하나는 `zip`인데, 이건 두 개의 리스트를 짝지어주는 용도로 사용된다.\n",
        ">\n",
        "> 가령 `a = [1, 2, 3]` 이고 `b = [4, 5, 6]` 이라고 하자. `(1, 4), (2, 5), (3, 6)`으로 원소를 하나씩 짝지어 준다면, `zip(a, b)`을 리스트 컴프리핸션 안에서 사용한다!"
      ],
      "metadata": {
        "id": "kVJstdqskUXg"
      },
      "id": "kVJstdqskUXg"
    },
    {
      "cell_type": "code",
      "source": [
        "a = [1, 2, 3]\n",
        "b = [4, 5, 6]\n",
        "\n",
        "[i for i in zip(a, b)]"
      ],
      "metadata": {
        "id": "DJUsAnJYkn2T"
      },
      "id": "DJUsAnJYkn2T",
      "execution_count": null,
      "outputs": []
    },
    {
      "cell_type": "markdown",
      "metadata": {
        "id": "kEW1PI2Jke1G"
      },
      "source": [
        "> **연습문제 2-3**. 각 사원들의 본봉과 보너스 자료가 다음과 같이 별도로 주어졌다. 이를 결합하여 연봉 총액을 계산하시오.\n",
        "---\n",
        "```python\n",
        "base = [200, 250, 220, 190, 210]\n",
        "bonus = [85, 92, 78, 100, 65]\n",
        "\n",
        "[285, 342, 298, 290, 275]\n",
        "```"
      ],
      "id": "kEW1PI2Jke1G"
    },
    {
      "cell_type": "code",
      "execution_count": null,
      "metadata": {
        "collapsed": true,
        "id": "_K5HEjqkke1J"
      },
      "outputs": [],
      "source": [
        "base = [200, 250, 220, 190, 210]\n",
        "bonus = [85, 92, 78, 100, 65]\n",
        "\n",
        "[i[0]+i[1] for i in zip(base, bonus)]"
      ],
      "id": "_K5HEjqkke1J"
    },
    {
      "cell_type": "markdown",
      "source": [
        "> **연습문제 2-4**. 세 과목(국어, 영어, 수학)의 점수가 다음과 같이 주어졌다. 각 학생의 총점과 평균점수를 구하시오. 평균은 소수점 한 자리까지 표시하시오.\n",
        "---\n",
        "```python\n",
        "kor = [80, 95, 70, 60, 85]\n",
        "eng = [90, 88, 75, 95, 100]\n",
        "math = [85, 92, 80, 70, 90]\n",
        "\n",
        "# 출력 예시\n",
        "[(255, 85.0), (275, 91.7), (225, 75.0), (225, 75.0), (275, 91.7)]\n",
        "```"
      ],
      "metadata": {
        "id": "OONajbaD5XT2"
      },
      "id": "OONajbaD5XT2"
    },
    {
      "cell_type": "code",
      "source": [
        "kor = [80, 95, 70, 60, 85]\n",
        "eng = [90, 88, 75, 95, 100]\n",
        "math = [85, 92, 80, 70, 90]\n",
        "\n",
        "[(k + e + m, round((k + e + m)/3, 1)) for k, e, m in zip(kor, eng, math)]"
      ],
      "metadata": {
        "id": "9EaTfYnd5fkr"
      },
      "id": "9EaTfYnd5fkr",
      "execution_count": null,
      "outputs": []
    },
    {
      "cell_type": "markdown",
      "source": [
        "## 3. 유용한 몇 가지 문자열 함수\n",
        "\n",
        "> 긴 문자열(string)이 주어졌을 때 어떤 글자가 들어가 있는지 여부를 알고 싶다면 `in`을 사용하면 된다."
      ],
      "metadata": {
        "id": "kB0sfn7THgb_"
      },
      "id": "kB0sfn7THgb_"
    },
    {
      "cell_type": "code",
      "source": [
        "#True\n",
        "\"가방\" in \"아버지가방에 들어가신다\"\n",
        "\n",
        "#False\n",
        "\"가방\" in \"아버지가 방에 들어가신다\""
      ],
      "metadata": {
        "id": "cuZT4mFoHvWX"
      },
      "id": "cuZT4mFoHvWX",
      "execution_count": null,
      "outputs": []
    },
    {
      "cell_type": "markdown",
      "source": [
        "> 글자를 변환하고 싶다면 `replace()`라는 메소드(method)를 사용할 수 있다."
      ],
      "metadata": {
        "id": "Zv2XwTtaH5EH"
      },
      "id": "Zv2XwTtaH5EH"
    },
    {
      "cell_type": "code",
      "source": [
        "text = \"아버지가방에 들어가신다\"\n",
        "text2 = text.replace(\"가방\", \"가 방\")\n",
        "print(text2)"
      ],
      "metadata": {
        "id": "aVW--CNsIA7X"
      },
      "id": "aVW--CNsIA7X",
      "execution_count": null,
      "outputs": []
    },
    {
      "cell_type": "markdown",
      "source": [
        "> **연습문제 3**. `replace()`를 사용하여 다음의 딱딱한 설명을 냥체로 귀엽게 바꿔보자냥~\n",
        "---\n",
        "사회학은 사람들이 어떻게 사는지와 왜 그렇게 사는지를 사회와 연관지어서 설명하는 학문이다. 사회학에서는 다양한 사회 연구 기법을 이용하여 경험적인 조사를 하고, 그 결과를 분석한다. 사회학은 이러한 의미에서 사회과학의 한 분야로서 다루어진다. 사회학의 목표는 인간 사회를 연구하여 미시사회학인 부분에서부터 거시적인 단계에 이르기까지 사회 구조를 이해하는 것이다."
      ],
      "metadata": {
        "id": "R9sACK2meG1m"
      },
      "id": "R9sACK2meG1m"
    },
    {
      "cell_type": "code",
      "source": [
        "text = \"\"\"\n",
        "사회학은 사람들이 어떻게 사는지와 왜 그렇게 사는지를 사회와 연관지어서 설명하는 학문이다. 사회학에서는 다양한 사회 연구 기법을 이용하여 경험적인 조사를 하고, 그 결과를 분석한다. 사회학은 이러한 의미에서 사회과학의 한 분야로서 다루어진다. 사회학의 목표는 인간 사회를 연구하여 미시사회학인 부분에서부터 거시적인 단계에 이르기까지 사회 구조를 이해하는 것이다.\n",
        "\"\"\"\n",
        "\n",
        "nyan = text.replace(\".\", \"냥~\")\n",
        "print(nyan)"
      ],
      "metadata": {
        "id": "enWNB-OjeKGu"
      },
      "id": "enWNB-OjeKGu",
      "execution_count": null,
      "outputs": []
    },
    {
      "cell_type": "markdown",
      "source": [
        "## 4. 인구 집계자료 불러오기\n",
        "\n",
        "> 오늘 본격적으로 사용할 자료는 행정안전부에서 제공하는 청주시 주민등록 인구통계 공공데이터(성별/연령별)이다([링크](https://jumin.mois.go.kr/ageStatMonth.do#none)). 관찰단위는 읍면동이다(Why?). 이 자료는 구글 드라이브에서 다운로드받을 수 있다."
      ],
      "metadata": {
        "id": "OMahYazuJB1a"
      },
      "id": "OMahYazuJB1a"
    },
    {
      "cell_type": "code",
      "source": [
        "import gdown\n",
        "link = 'https://drive.google.com/uc?id=12Aw_9PE8_5Bc1xVaVTgMMsfOH3zothmJ'\n",
        "gdown.download(link)"
      ],
      "metadata": {
        "id": "cCNC1sv4AjY5"
      },
      "id": "cCNC1sv4AjY5",
      "execution_count": null,
      "outputs": []
    },
    {
      "cell_type": "markdown",
      "metadata": {
        "id": "xOstqcPSBhgK"
      },
      "source": [
        "> 파일을 여러분의 로컬 컴퓨터에도 다운로드받아 엑셀에서도 열어보자. 자료의 헤더(header)를 살펴보고 연령별 총인구, 연령별 남자인구, 연령별 여자인구를 구분해보자. 이제부터 하나의 창 안에서 조금씩 코드를 발전시켜 채워나가자!"
      ],
      "id": "xOstqcPSBhgK"
    },
    {
      "cell_type": "code",
      "execution_count": null,
      "metadata": {
        "scrolled": true,
        "id": "XSlNTeyFBhgL"
      },
      "outputs": [],
      "source": [
        "import csv\n",
        "\n",
        "popfile = open('202409_202409_연령별인구현황_월간.csv', encoding='cp949')\n",
        "data = csv.reader(popfile)\n",
        "header = next(data)\n",
        "\n",
        "print(header)\n",
        "\n",
        "popfile.close()"
      ],
      "id": "XSlNTeyFBhgL"
    },
    {
      "cell_type": "markdown",
      "metadata": {
        "id": "Q9CwEVsTBhgM"
      },
      "source": [
        "> 헤더의 3번째에서 104번째까지가 연령별 총인구수를 보여준다. 106번째에서 207번째 사이는 남자 인구, 그리고 209번째에서 310번째까지 여자 인구를 보여준다."
      ],
      "id": "Q9CwEVsTBhgM"
    },
    {
      "cell_type": "code",
      "execution_count": null,
      "metadata": {
        "scrolled": true,
        "id": "c0-GvslWBhgM"
      },
      "outputs": [],
      "source": [
        "import csv\n",
        "\n",
        "popfile = open('202409_202409_연령별인구현황_월간.csv', encoding='cp949')\n",
        "data = csv.reader(popfile)\n",
        "header = next(data)\n",
        "#print(header)\n",
        "\n",
        "print(header[3:104])    #총계\n",
        "print(header[106:207])  #남자\n",
        "print(header[209:310])  #여자\n",
        "\n",
        "popfile.close()"
      ],
      "id": "c0-GvslWBhgM"
    },
    {
      "cell_type": "markdown",
      "metadata": {
        "id": "wej6cREVBhgM"
      },
      "source": [
        "> 먼저 엑셀에서 자료를 꼼꼼히 살펴보자. 0번째 열(column)에서 지역의 이름이 나오는 것을 확인할 수 있다. 그러므로 인구 피라미드를 그리더라도 지역에 따라 인구가 다르다는 것을 짐작할 수 있다!\n",
        ">\n",
        "> 먼저 (충북대학교가 소재한) 개신동 인구 피라미드를 먼저 그려보고 싶다면, 0번째 열에 \"개신\"이라는 문자열이 포함되어 있는가를 조건문으로 삼아 확인해야 한다(Why?).\n",
        ">\n",
        "> 일단 (성별까지는 구분하지 말고) 우선 전체 인구 먼저 살펴보기 위해 <code>[3:104]</code> 사이의 열만 확인해보자."
      ],
      "id": "wej6cREVBhgM"
    },
    {
      "cell_type": "code",
      "execution_count": null,
      "metadata": {
        "id": "ZicpHfCXBhgM"
      },
      "outputs": [],
      "source": [
        "import csv\n",
        "\n",
        "popfile = open('202409_202409_연령별인구현황_월간.csv', encoding='cp949')\n",
        "data = csv.reader(popfile)\n",
        "header = next(data)\n",
        "#print(header)\n",
        "\n",
        "print(header[3:104])    #총계\n",
        "print(header[106:207])  #남자\n",
        "print(header[209:310])  #여자\n",
        "\n",
        "for row in data:\n",
        "    if '개신' in row[0]:        #만약 ''행정구역'' 열에 '개신'이라는 단어가 들어간다면,\n",
        "        print(row[3:104])\n",
        "\n",
        "popfile.close()"
      ],
      "id": "ZicpHfCXBhgM"
    },
    {
      "cell_type": "markdown",
      "metadata": {
        "id": "I06mhOToDvXZ"
      },
      "source": [
        "> 오늘의 목표는 인구 피라미드를 그리는 것이다. 그런데 무언가 그림을 그려보려고 해도, 각 리스트 안의 값들이 문자열로 입력되어 있다.\n",
        ">\n",
        "> 사실 나중에 pandas나 numpy 같이 본격적인 자료관리 라이브러리를 사용하면 훨씬 쉽게 이런 문제를 해결할 수 있다. 당장은 이런 문제에 대응하기 위해, 리스트 안 하나하나의 원소를 문자열에서 숫자로 변환한 뒤, 도로 리스트 안에 집어넣자."
      ],
      "id": "I06mhOToDvXZ"
    },
    {
      "cell_type": "code",
      "execution_count": null,
      "metadata": {
        "id": "vc2EI0XBDvXc"
      },
      "outputs": [],
      "source": [
        "import csv\n",
        "\n",
        "popfile = open('202409_202409_연령별인구현황_월간.csv', encoding='cp949')\n",
        "data = csv.reader(popfile)\n",
        "header = next(data)\n",
        "#print(header)\n",
        "\n",
        "print(header[3:104])    #총계\n",
        "print(header[106:207])  #남자\n",
        "print(header[209:310])  #여자\n",
        "\n",
        "pop = []                        #문자열에서 숫자로 변환한 뒤, 집어넣었을 새로운 리스트 placeholder\n",
        "for row in data:\n",
        "    if '개신' in row[0]:        #만약 ''행정구역'' 열에 '개신'이라는 단어가 들어간다면,\n",
        "        for i in row[3:104]:\n",
        "            pop.append(int(i))\n",
        "\n",
        "print(pop)\n",
        "\n",
        "popfile.close()"
      ],
      "id": "vc2EI0XBDvXc"
    },
    {
      "cell_type": "markdown",
      "metadata": {
        "id": "0Mnoi5nUDyg0"
      },
      "source": [
        "> 성공적으로 문자열을 숫자로 모두 바꾸어 <code>pop</code> 안에 집어넣었다!\n",
        ">\n",
        "> 위의 방식보다 더 **파이썬다운** 해결책이 있다. 그것은 아래와 같이 **리스트 컴프리핸션**을 사용하는 것이다. 사실 어떻게 해도 결과는 똑같다. 적어도 당장은 그렇게 보인다. 그런데 결정적인 차이점 중 하나는, 더이상 리스트 빈집(placeholder)이 필요없다는 것이다."
      ],
      "id": "0Mnoi5nUDyg0"
    },
    {
      "cell_type": "code",
      "execution_count": null,
      "metadata": {
        "id": "idTFwEd2Dyg2"
      },
      "outputs": [],
      "source": [
        "import csv\n",
        "\n",
        "popfile = open('202409_202409_연령별인구현황_월간.csv', encoding='cp949')\n",
        "data = csv.reader(popfile)\n",
        "header = next(data)\n",
        "#print(header)\n",
        "\n",
        "print(header[3:104])    #총계\n",
        "print(header[106:207])  #남자\n",
        "print(header[209:310])  #여자\n",
        "\n",
        "#pop = []                       #문자열에서 숫자로 변환한 뒤, 집어넣었을 새로운 리스트 placeholder\n",
        "for row in data:\n",
        "    if '개신' in row[0]:        #만약 ''행정구역'' 열에 '개신'이라는 단어가 들어간다면,\n",
        "        #for i in row[3:104]:\n",
        "            #pop.append(int(i))\n",
        "        pop = [int(i) for i in row[3:104]]\n",
        "\n",
        "print(pop)\n",
        "\n",
        "popfile.close()"
      ],
      "id": "idTFwEd2Dyg2"
    },
    {
      "cell_type": "markdown",
      "source": [
        "> **연습문제 4**. 가경동의 남녀 인구 격차(남성 인구-여성 인구)를 연령별로 출력하시오."
      ],
      "metadata": {
        "id": "7hUbpAor-qzE"
      },
      "id": "7hUbpAor-qzE"
    },
    {
      "cell_type": "code",
      "source": [
        "import csv\n",
        "\n",
        "popfile = open('202409_202409_연령별인구현황_월간.csv', encoding='cp949')\n",
        "data = csv.reader(popfile)\n",
        "header = next(data)\n",
        "#print(header)\n",
        "\n",
        "print(header[3:104])    #총계\n",
        "print(header[106:207])  #남자\n",
        "print(header[209:310])  #여자\n",
        "\n",
        "#pop = []                       #문자열에서 숫자로 변환한 뒤, 집어넣었을 새로운 리스트 placeholder\n",
        "for row in data:\n",
        "    if '가경동' in row[0]:        #만약 ''행정구역'' 열에 '가경동'이라는 단어가 들어간다면,\n",
        "        popm = [int(i) for i in row[106:207]]\n",
        "        popf = [int(i) for i in row[209:310]]\n",
        "        diff = [m - f for m, f in zip(popm, popf)]\n",
        "\n",
        "print(diff)\n",
        "\n",
        "popfile.close()"
      ],
      "metadata": {
        "id": "AZVmP0tT_BWW"
      },
      "id": "AZVmP0tT_BWW",
      "execution_count": null,
      "outputs": []
    },
    {
      "cell_type": "markdown",
      "metadata": {
        "id": "4K6nAiU_E86H"
      },
      "source": [
        "## 5. 연령별 인구밀도 히스토그램\n",
        "\n",
        "> 우리가 그리려는 것이 인구 피라미드임을 떠올려보자! 인구 피라미드는 곰곰이 생각해보면 일종의 <b>막대 차트(bar chart)</b>이다(Why?).\n",
        ">\n",
        "> 이때 **라인 차트(line chart)** 등으로 나타낼 수 있는 <b>연속자료(continuous data)</b>와는 달리 <b>이산자료(discrete data)</b>는 <b>히스토그램(histogram)</b>이나 막대 차트로 시각화하는 것이 일반적이다.\n",
        ">\n",
        "> 막대 차트는 아래와 같이 <code>matplotlib.pyplot.bar</code>로 그릴 수 있다(기억나지 않는다면 예전 강의안을 봐도 좋고 검색해도 좋고 생성형AI에 물어봐도 좋다)."
      ],
      "id": "4K6nAiU_E86H"
    },
    {
      "cell_type": "code",
      "execution_count": null,
      "metadata": {
        "id": "lyafPJJGE86I"
      },
      "outputs": [],
      "source": [
        "import matplotlib.pyplot as plt\n",
        "\n",
        "plt.bar([1, 2, 3, 4],             #X\n",
        "        [300, 150, 200, 500])     #Y\n",
        "plt.show()"
      ],
      "id": "lyafPJJGE86I"
    },
    {
      "cell_type": "markdown",
      "source": [
        "> 너무 겁먹지 말고, 실제 자료를 가지고 일단 히스토그램을 그려보자!"
      ],
      "metadata": {
        "id": "4Cu6aicYsl7W"
      },
      "id": "4Cu6aicYsl7W"
    },
    {
      "cell_type": "code",
      "execution_count": null,
      "metadata": {
        "id": "2AbmwFFaFWSy"
      },
      "outputs": [],
      "source": [
        "import csv\n",
        "import matplotlib.pyplot as plt\n",
        "\n",
        "popfile = open('202409_202409_연령별인구현황_월간.csv', encoding='cp949')\n",
        "data = csv.reader(popfile)\n",
        "header = next(data)\n",
        "#print(header)\n",
        "\n",
        "print(header[3:104])    #총계\n",
        "print(header[106:207])  #남자\n",
        "print(header[209:310])  #여자\n",
        "\n",
        "#pop = []                       #문자열에서 숫자로 변환한 뒤, 집어넣었을 새로운 리스트 placeholder\n",
        "for row in data:\n",
        "    if '개신' in row[0]:        #만약 ''행정구역'' 열에 '개신'이라는 단어가 들어간다면,\n",
        "        #for i in row[3:104]:\n",
        "            #pop.append(int(i))\n",
        "        pop = [int(i) for i in row[3:104]]\n",
        "\n",
        "#print(pop)\n",
        "\n",
        "plt.figure(figsize=(10, 5))\n",
        "plt.title('개신동 지역의 인구 구조')\n",
        "plt.bar(range(101), pop)\n",
        "plt.show()\n",
        "\n",
        "popfile.close()"
      ],
      "id": "2AbmwFFaFWSy"
    },
    {
      "cell_type": "markdown",
      "metadata": {
        "id": "ib9dgopXFWSz"
      },
      "source": [
        "> 아 맞다! 한글을 쓰려면 뭐 골치아픈 뭔가를 설정해야 했다. 그걸 인터넷에서 찾아서 실행시켜야 한다! 그리고 <b>세션(session)</b>을 재시작해야 했다!"
      ],
      "id": "ib9dgopXFWSz"
    },
    {
      "cell_type": "code",
      "execution_count": null,
      "metadata": {
        "id": "kDY_As8VFWSz"
      },
      "outputs": [],
      "source": [
        "!sudo apt-get install -y fonts-nanum\n",
        "!sudo fc-cache -fv\n",
        "!rm ~/.cache/matplotlib -rf"
      ],
      "id": "kDY_As8VFWSz"
    },
    {
      "cell_type": "markdown",
      "metadata": {
        "id": "oyzHlDtJFWSz"
      },
      "source": [
        "> 기왕 하는 김에 그림의 길이도 좌우로 좀 늘려주자!"
      ],
      "id": "oyzHlDtJFWSz"
    },
    {
      "cell_type": "code",
      "execution_count": null,
      "metadata": {
        "id": "ZbGZz7cSFWS0"
      },
      "outputs": [],
      "source": [
        "import csv\n",
        "import matplotlib.pyplot as plt\n",
        "\n",
        "popfile = open('202409_202409_연령별인구현황_월간.csv', encoding='cp949')\n",
        "data = csv.reader(popfile)\n",
        "header = next(data)\n",
        "#print(header)\n",
        "\n",
        "print(header[3:104])    #총계\n",
        "print(header[106:207])  #남자\n",
        "print(header[209:310])  #여자\n",
        "\n",
        "#pop = []                       #문자열에서 숫자로 변환한 뒤, 집어넣었을 새로운 리스트 placeholder\n",
        "for row in data:\n",
        "    if '개신' in row[0]:        #만약 ''행정구역'' 열에 '개신'이라는 단어가 들어간다면,\n",
        "        #for i in row[3:104]:\n",
        "            #pop.append(int(i))\n",
        "        pop = [int(i) for i in row[3:104]]\n",
        "\n",
        "#print(pop)\n",
        "\n",
        "plt.figure(figsize=(15, 5))\n",
        "plt.rc('font', family='NanumBarunGothic')\n",
        "plt.title('개신동 지역의 인구 구조')\n",
        "plt.bar(range(101), pop)\n",
        "plt.show()\n",
        "\n",
        "popfile.close()"
      ],
      "id": "ZbGZz7cSFWS0"
    },
    {
      "cell_type": "markdown",
      "source": [
        "> 이번엔 잘 된 것 같다. 이 표를 해석해보자. 개신동은 어떤 인구 구조상의 특징을 가지고 있을까? 왜 이럴까?"
      ],
      "metadata": {
        "id": "uTKAO-GpKki_"
      },
      "id": "uTKAO-GpKki_"
    },
    {
      "cell_type": "markdown",
      "source": [
        "> **연습문제 5**. 가경동의 남녀 인구 격차(남성 인구-여성 인구)를 연령별로 계산하여 이를 시각화하시오."
      ],
      "metadata": {
        "id": "X663cw36_8yC"
      },
      "id": "X663cw36_8yC"
    },
    {
      "cell_type": "code",
      "source": [
        "import csv\n",
        "import matplotlib.pyplot as plt\n",
        "\n",
        "popfile = open('202409_202409_연령별인구현황_월간.csv', encoding='cp949')\n",
        "data = csv.reader(popfile)\n",
        "header = next(data)\n",
        "#print(header)\n",
        "\n",
        "print(header[3:104])    #총계\n",
        "print(header[106:207])  #남자\n",
        "print(header[209:310])  #여자\n",
        "\n",
        "#pop = []                       #문자열에서 숫자로 변환한 뒤, 집어넣었을 새로운 리스트 placeholder\n",
        "for row in data:\n",
        "    if '가경동' in row[0]:        #만약 ''행정구역'' 열에 '가경동'이라는 단어가 들어간다면,\n",
        "        popm = [int(i) for i in row[106:207]]\n",
        "        popf = [int(i) for i in row[209:310]]\n",
        "        diff = [m - f for m, f in zip(popm, popf)]\n",
        "\n",
        "#print(pop)\n",
        "\n",
        "plt.figure(figsize=(15, 5))\n",
        "plt.rc('font', family='NanumBarunGothic')\n",
        "plt.title('가경동 지역의 남녀 인구 격차 구조')\n",
        "plt.rc('axes', unicode_minus = False)            #에러메시지에 대응하여 구글링한 결과를 반영함!\n",
        "plt.bar(range(101), diff)\n",
        "plt.show()\n",
        "\n",
        "popfile.close()"
      ],
      "metadata": {
        "id": "Dx8rd_uFAA_D"
      },
      "id": "Dx8rd_uFAA_D",
      "execution_count": null,
      "outputs": []
    },
    {
      "cell_type": "markdown",
      "metadata": {
        "id": "a7a5d5d3"
      },
      "source": [
        "## 6. 성별-연령별 인구밀도 히스토그램\n",
        "\n",
        "> 자 이제 인구 피라미드를 그릴 수 있는 단계에 상당히 접근했다. 무엇보다 인구 피라미드는 남녀가 좌우로 대비되어 누워있다(상상이 가질 않으면 인터넷에 검색해보자).\n",
        ">\n",
        "> 우리도 막대 차트를 세로로 눕혀야 하고, 동시에 길이도 세로로 늘려야 한다! 세로로 눕히는 막대 차트는 <code>barh</code>로 그릴 수 있다. 여기서 h는 horizontal 즉 수평이라는 의미가 된다."
      ],
      "id": "a7a5d5d3"
    },
    {
      "cell_type": "code",
      "execution_count": null,
      "metadata": {
        "id": "95d98364"
      },
      "outputs": [],
      "source": [
        "import csv\n",
        "import matplotlib.pyplot as plt\n",
        "\n",
        "popfile = open('202409_202409_연령별인구현황_월간.csv', encoding='cp949')\n",
        "data = csv.reader(popfile)\n",
        "header = next(data)\n",
        "#print(header)\n",
        "\n",
        "#print(header[3:104])    #총계\n",
        "#print(header[106:207])  #남자\n",
        "#print(header[209:310])  #여자\n",
        "\n",
        "#pop = []                       #문자열에서 숫자로 변환한 뒤, 집어넣었을 새로운 리스트 placeholder\n",
        "for row in data:\n",
        "    if '개신' in row[0]:        #만약 ''행정구역'' 열에 '개신'이라는 단어가 들어간다면,\n",
        "        #for i in row[3:104]:\n",
        "            #pop.append(int(i))\n",
        "        pop = [int(i) for i in row[3:104]]\n",
        "\n",
        "#print(pop)\n",
        "\n",
        "plt.figure(figsize=(5, 10))\n",
        "plt.rc('font', family='NanumBarunGothic')\n",
        "plt.title('개신동 지역의 인구 구조')\n",
        "plt.barh(range(101), pop)\n",
        "plt.show()\n",
        "\n",
        "popfile.close()"
      ],
      "id": "95d98364"
    },
    {
      "cell_type": "markdown",
      "metadata": {
        "id": "21d044d9"
      },
      "source": [
        "> 제법 인구 피라미드에 근접한 것 같아 두근두근한다(나만 그런가?)\n",
        ">\n",
        "> (아까도 이야기했듯) 인구 피라미드는 보통 좌측에 여성, 우측에 남성을 두고 나란히 대조하여 그린다. 따라서 총인구가 아니라 성별로 다시 한 번 연령별 인구를 나누어야 한다."
      ],
      "id": "21d044d9"
    },
    {
      "cell_type": "code",
      "execution_count": null,
      "metadata": {
        "id": "7f3050df"
      },
      "outputs": [],
      "source": [
        "import csv\n",
        "import matplotlib.pyplot as plt\n",
        "\n",
        "popfile = open('202409_202409_연령별인구현황_월간.csv', encoding='cp949')\n",
        "data = csv.reader(popfile)\n",
        "header = next(data)\n",
        "#print(header)\n",
        "\n",
        "#print(header[3:104])    #총계\n",
        "#print(header[106:207])  #남자\n",
        "#print(header[209:310])  #여자\n",
        "\n",
        "#pop = []                       #문자열에서 숫자로 변환한 뒤, 집어넣었을 새로운 리스트 placeholder\n",
        "for row in data:\n",
        "    if '개신' in row[0]:        #만약 ''행정구역'' 열에 '개신'이라는 단어가 들어간다면,\n",
        "        #for i in row[3:104]:\n",
        "            #pop.append(int(i))\n",
        "        pop = [int(i) for i in row[3:104]]\n",
        "        pop_m = [int(i) for i in row[106:207]]\n",
        "        pop_f = [int(i) for i in row[209:310]]\n",
        "\n",
        "#print(pop)\n",
        "\n",
        "plt.figure(figsize=(5, 10))\n",
        "plt.rc('font', family='NanumBarunGothic')\n",
        "plt.title('개신동 지역의 인구 구조')\n",
        "plt.barh(range(101), pop_m)\n",
        "plt.barh(range(101), pop_f)\n",
        "plt.show()\n",
        "\n",
        "popfile.close()"
      ],
      "id": "7f3050df"
    },
    {
      "cell_type": "markdown",
      "metadata": {
        "id": "71ee05bd"
      },
      "source": [
        "> 아! 이건 아니다! 남녀의 막대 차트가 서로 겹쳐 보기에 좋지 않다. 좌측으로 여성을 옮기려면 어떻게 하면 좋을까? 여러 방법이 있을지도 모르지만 한가지 트릭을 쓰기로 하자!\n",
        ">\n",
        "> 하는 김에 그림 크기도 적절하게 변경하고, <b>레이블(label)</b>과 <b>범례(legend)</b>도 달자."
      ],
      "id": "71ee05bd"
    },
    {
      "cell_type": "code",
      "execution_count": null,
      "metadata": {
        "id": "a194e186"
      },
      "outputs": [],
      "source": [
        "import csv\n",
        "import matplotlib.pyplot as plt\n",
        "\n",
        "popfile = open('202409_202409_연령별인구현황_월간.csv', encoding='cp949')\n",
        "data = csv.reader(popfile)\n",
        "header = next(data)\n",
        "#print(header)\n",
        "\n",
        "#print(header[3:104])    #총계\n",
        "#print(header[106:207])  #남자\n",
        "#print(header[209:310])  #여자\n",
        "\n",
        "#pop = []                       #문자열에서 숫자로 변환한 뒤, 집어넣었을 새로운 리스트 placeholder\n",
        "for row in data:\n",
        "    if '개신' in row[0]:        #만약 ''행정구역'' 열에 '개신'이라는 단어가 들어간다면,\n",
        "        #for i in row[3:104]:\n",
        "            #pop.append(int(i))\n",
        "        pop = [int(i) for i in row[3:104]]\n",
        "        pop_m = [int(i) for i in row[106:207]]\n",
        "        pop_f = [-int(i) for i in row[209:310]]\n",
        "\n",
        "#print(pop)\n",
        "\n",
        "plt.figure(figsize=(10, 10))\n",
        "plt.rc('font', family='NanumBarunGothic')\n",
        "plt.title('개신동 지역의 인구 구조')\n",
        "plt.barh(range(101), pop_m, label = '남성')\n",
        "plt.barh(range(101), pop_f, label = '여성')\n",
        "plt.legend()\n",
        "plt.show()\n",
        "\n",
        "popfile.close()"
      ],
      "id": "a194e186"
    },
    {
      "cell_type": "markdown",
      "metadata": {
        "id": "2L-tNnE9FWS3"
      },
      "source": [
        "> 가만 보면 위에 경고메세지가 떴다. 이건 예전에도 본 적이 있지만 마이너스(-) 부호에 해당하는 **유니코드(unicode)** 자형이 없다는 것이다. 물론 이건 이렇게 하면 간단히 해결할 수 있음을 배웠다.\n",
        ">\n",
        "> <code>plt.rc('axes', unicode_minus=False)</code>\n",
        ">\n",
        "> 가만! 그런데 그렇게 하면 도리어 이상해지므로 우리는 지금 이 상태가 좋다(Why?)!\n",
        ">\n",
        "> 이제 \"개신\" 뿐 아니라 다른 동네의 인구 구조도 쉽게 파악하기 위해 사용자에게 원하는 동네 이름의 입력을 받기로 하자. <code>plt.style.use('ggplot')</code>를 추가하여 스타일도 살짝 바꾸어 보자. 여러 동네 이름을 시험삼아 입력해보자(e.g., 봉명1동 등)."
      ],
      "id": "2L-tNnE9FWS3"
    },
    {
      "cell_type": "code",
      "execution_count": null,
      "metadata": {
        "id": "fb3694b1"
      },
      "outputs": [],
      "source": [
        "import csv\n",
        "import matplotlib.pyplot as plt\n",
        "\n",
        "popfile = open('202409_202409_연령별인구현황_월간.csv', encoding='cp949')\n",
        "data = csv.reader(popfile)\n",
        "header = next(data)\n",
        "#print(header)\n",
        "\n",
        "#print(header[3:104])    #총계\n",
        "#print(header[106:207])  #남자\n",
        "#print(header[209:310])  #여자\n",
        "\n",
        "name = input('인구 구조에 관해 알고 싶은 지역의 이름(읍면동 단위)을 입력하시오: ')\n",
        "\n",
        "#pop = []                       #문자열에서 숫자로 변환한 뒤, 집어넣었을 새로운 리스트 placeholder\n",
        "for row in data:\n",
        "    if name in row[0]:        #만약 ''행정구역'' 열에 name 안의 단어가 들어간다면,\n",
        "        #for i in row[3:104]:\n",
        "            #pop.append(int(i))\n",
        "        pop_name = row[0]\n",
        "        pop = [int(i) for i in row[3:104]]\n",
        "        pop_m = [int(i) for i in row[106:207]]\n",
        "        pop_f = [-int(i) for i in row[209:310]]\n",
        "\n",
        "#print(pop)\n",
        "\n",
        "plt.figure(figsize=(10, 10))\n",
        "plt.rc('font', family='NanumBarunGothic')\n",
        "plt.style.use('ggplot')                  #격자 모양으로 변경!\n",
        "plt.title(pop_name +'의 인구 구조')        #왜 row[0]을 쓸까?\n",
        "plt.barh(range(101), pop_m, label = '남성', color = 'blue')       ##레이블과 색깔 지정\n",
        "plt.barh(range(101), pop_f, label = '여성', color = 'red')\n",
        "plt.legend()\n",
        "plt.show()\n",
        "\n",
        "popfile.close()"
      ],
      "id": "fb3694b1"
    },
    {
      "cell_type": "markdown",
      "metadata": {
        "id": "6d9bb433"
      },
      "source": [
        "> 그런데 \"\"가경동''을 한 번 입력해 보면 제대로 그림이 그려지지 않는다(Why?). 에러 메세지를 꼼꼼히 살펴보면서 \"가경동\"이 제대로 인식되지 않는 이유를 살펴보자.\n",
        ">\n",
        "> 이 문제를 해결하기 위해 아까 배운 문자열 관련 함수를 떠올려보자. 문자열 뒤에 `replace()`를 사용하면 문자열의 일부분을 쉽게 바꿀 수 있다! 가령 `\"Friend\".replace(\"r\",\"\")`를 입력하면 `\"Fiend\"`라는 결과가 나온다.\n",
        ">\n",
        "> 이제 이를 반영하여 코드를 수정하면 \"가경동\"도 제대로 인식한다!"
      ],
      "id": "6d9bb433"
    },
    {
      "cell_type": "code",
      "execution_count": null,
      "metadata": {
        "id": "3753de7c"
      },
      "outputs": [],
      "source": [
        "import csv\n",
        "import matplotlib.pyplot as plt\n",
        "\n",
        "popfile = open('202409_202409_연령별인구현황_월간.csv', encoding='cp949')\n",
        "data = csv.reader(popfile)\n",
        "header = next(data)\n",
        "#print(header)\n",
        "\n",
        "#print(header[3:104])    #총계\n",
        "#print(header[106:207])  #남자\n",
        "#print(header[209:310])  #여자\n",
        "\n",
        "name = input('인구 구조에 관해 알고 싶은 지역의 이름(읍면동 단위)을 입력하시오: ')\n",
        "\n",
        "#pop = []                       #문자열에서 숫자로 변환한 뒤, 집어넣었을 새로운 리스트 placeholder\n",
        "for row in data:\n",
        "    if name in row[0]:        #만약 ''행정구역'' 열에 name 안의 단어가 들어간다면,\n",
        "        #for i in row[3:104]:\n",
        "            #pop.append(int(i))\n",
        "        pop_name = row[0]\n",
        "        pop = [int(i.replace(',', '')) for i in row[3:104]]\n",
        "        pop_m = [int(i.replace(',', '')) for i in row[106:207]]\n",
        "        pop_f = [-int(i.replace(',', '')) for i in row[209:310]]\n",
        "\n",
        "#print(pop)\n",
        "\n",
        "plt.figure(figsize=(10, 10))\n",
        "plt.rc('font', family='NanumBarunGothic')\n",
        "plt.style.use('ggplot')                ##격자 모양으로 변경!\n",
        "plt.title(pop_name +'의 인구 구조')\n",
        "plt.barh(range(101), pop_m, label = '남성', color = 'blue')       ##레이블과 색깔 지정\n",
        "plt.barh(range(101), pop_f, label = '여성', color = 'red')\n",
        "plt.legend()\n",
        "plt.show()\n",
        "\n",
        "popfile.close()"
      ],
      "id": "3753de7c"
    },
    {
      "cell_type": "markdown",
      "metadata": {
        "id": "2c638e82"
      },
      "source": [
        "> 오류 메세지가 출력되지 않았지만(사실 그래서 더 위험하다!), \"청원구\"를 입력한 경우와 \"오근장동\"을 입력한 경우 똑같은 그림이 출력된다. 왜 그런지 곰곰히 생각해보고 오류를 수정하자.\n",
        ">\n",
        "> 모든 반복(loop)에 있어서 나갈(break) 시점을 파악하는 것은 중요하다!"
      ],
      "id": "2c638e82"
    },
    {
      "cell_type": "code",
      "execution_count": null,
      "metadata": {
        "id": "b95f3a92"
      },
      "outputs": [],
      "source": [
        "import csv\n",
        "import matplotlib.pyplot as plt\n",
        "\n",
        "popfile = open('202409_202409_연령별인구현황_월간.csv', encoding='cp949')\n",
        "data = csv.reader(popfile)\n",
        "header = next(data)\n",
        "#print(header)\n",
        "\n",
        "#print(header[3:104])    #총계\n",
        "#print(header[106:207])  #남자\n",
        "#print(header[209:310])  #여자\n",
        "\n",
        "name = input('인구 구조에 관해 알고 싶은 지역의 이름(읍면동 단위)을 입력하시오: ')\n",
        "\n",
        "#pop = []                       #문자열에서 숫자로 변환한 뒤, 집어넣었을 새로운 리스트 placeholder\n",
        "for row in data:\n",
        "    if name in row[0]:        #만약 ''행정구역'' 열에 name 안의 단어가 들어간다면,\n",
        "        #for i in row[3:104]:\n",
        "            #pop.append(int(i))\n",
        "        pop_name = row[0]\n",
        "        pop = [int(i.replace(',', '')) for i in row[3:104]]\n",
        "        pop_m = [int(i.replace(',', '')) for i in row[106:207]]\n",
        "        pop_f = [-int(i.replace(',', '')) for i in row[209:310]]\n",
        "        break        #왜 필요한지 고민하자\n",
        "\n",
        "#print(pop)\n",
        "\n",
        "plt.figure(figsize=(10, 10))\n",
        "plt.rc('font', family='NanumBarunGothic')\n",
        "plt.style.use('ggplot')                ##격자 모양으로 변경!\n",
        "plt.title(pop_name +'의 인구 구조')\n",
        "plt.barh(range(101), pop_m, label = '남성', color = 'blue')       ##레이블과 색깔 지정\n",
        "plt.barh(range(101), pop_f, label = '여성', color = 'red')\n",
        "plt.legend()\n",
        "plt.show()\n",
        "\n",
        "popfile.close()"
      ],
      "id": "b95f3a92"
    },
    {
      "cell_type": "markdown",
      "metadata": {
        "id": "zb6RvmBWFyps"
      },
      "source": [
        "> 약간 최종 산출물과는 별개로 코딩에서 주의해야 할 부분도 있다. 가령 위의 코드를 다시 실행시켜서 \"오장근동\"이라고 입력해보자. 신기하게도 결과가 나온다. 왜 그럴까? 웃기게도 \"으랏차차\"조차도 결과가 나온다. 이를 예방하기 위해 어떻게 하면 좋을지 생각해보자."
      ],
      "id": "zb6RvmBWFyps"
    },
    {
      "cell_type": "code",
      "source": [
        "import csv\n",
        "import matplotlib.pyplot as plt\n",
        "\n",
        "popfile = open('202409_202409_연령별인구현황_월간.csv', encoding='cp949')\n",
        "data = csv.reader(popfile)\n",
        "header = next(data)\n",
        "#print(header)\n",
        "\n",
        "#print(header[3:104])    #총계\n",
        "#print(header[106:207])  #남자\n",
        "#print(header[209:310])  #여자\n",
        "\n",
        "name = input('인구 구조에 관해 알고 싶은 지역의 이름(읍면동 단위)을 입력하시오: ')\n",
        "\n",
        "found = 0           #플래그는 일단 0\n",
        "\n",
        "#pop = []                       #문자열에서 숫자로 변환한 뒤, 집어넣었을 새로운 리스트 placeholder\n",
        "for row in data:\n",
        "    if name in row[0]:        #만약 ''행정구역'' 열에 name 안의 단어가 들어간다면,\n",
        "        #for i in row[3:104]:\n",
        "            #pop.append(int(i))\n",
        "        pop_name = row[0]\n",
        "        pop = [int(i.replace(',', '')) for i in row[3:104]]\n",
        "        pop_m = [int(i.replace(',', '')) for i in row[106:207]]\n",
        "        pop_f = [-int(i.replace(',', '')) for i in row[209:310]]\n",
        "        found = 1    #찾았다!\n",
        "        break        #왜 필요한지 고민하자\n",
        "\n",
        "#print(pop)\n",
        "\n",
        "if found == 1:      #플래그가 1일 때만 그릴 것!\n",
        "\n",
        "  plt.figure(figsize=(10, 10))\n",
        "  plt.rc('font', family='NanumBarunGothic')\n",
        "  plt.style.use('ggplot')                ##격자 모양으로 변경!\n",
        "  plt.title(pop_name +'의 인구 구조')\n",
        "  plt.barh(range(101), pop_m, label = '남성', color = 'blue')       ##레이블과 색깔 지정\n",
        "  plt.barh(range(101), pop_f, label = '여성', color = 'red')\n",
        "  plt.legend()\n",
        "  plt.show()\n",
        "\n",
        "popfile.close()"
      ],
      "metadata": {
        "id": "AUJAzeIRMU8P"
      },
      "id": "AUJAzeIRMU8P",
      "execution_count": null,
      "outputs": []
    },
    {
      "cell_type": "markdown",
      "source": [
        "> **연습문제 6-1**. 청주시 4개의 구(상당구, 서원구, 흥덕구, 청원구)에서 성별-연령별 인구를 보여주는 인구 피라미드를 각각 그리시오\n",
        ">\n",
        "> ___\n",
        "힌트: 자료 안에 있는 청주시의 지역코드 패턴을 엑셀 안에서 유심히 살펴보자!."
      ],
      "metadata": {
        "id": "9aY6Uvl3PISw"
      },
      "id": "9aY6Uvl3PISw"
    },
    {
      "cell_type": "code",
      "source": [
        "import csv\n",
        "import matplotlib.pyplot as plt\n",
        "\n",
        "popfile = open('202409_202409_연령별인구현황_월간.csv', encoding='cp949')\n",
        "data = csv.reader(popfile)\n",
        "header = next(data)\n",
        "\n",
        "for row in data:\n",
        "    gu = row[0].split(\"(\")[1]     #지역코드는 \"(\"로 시작한다!\n",
        "    #print(gu)\n",
        "    #print(gu[4], gu[5])          #구 단위 집계는 지역코드 4번째 숫자가 항상 0이 아니고 5번째 숫자는 0이다!\n",
        "\n",
        "    if gu[4] != '0' and gu[5] == '0':\n",
        "        pop_name = row[0]\n",
        "        pop = [int(i.replace(',', '')) for i in row[3:104]]\n",
        "        pop_m = [int(i.replace(',', '')) for i in row[106:207]]\n",
        "        pop_f = [-int(i.replace(',', '')) for i in row[209:310]]\n",
        "        #break        #이젠 왜 필요없는지 고민하자\n",
        "\n",
        "        #반복문 안에서 그림을 그려야 여러번 그릴 수 있겠지?\n",
        "        plt.figure(figsize=(10, 10))\n",
        "        plt.rc('font', family='NanumBarunGothic')\n",
        "        plt.style.use('ggplot')                ##격자 모양으로 변경!\n",
        "        plt.title(pop_name +' 지역의 인구 구조')\n",
        "        plt.barh(range(101), pop_m, label = '남성', color = 'blue')       ##레이블과 색깔 지정\n",
        "        plt.barh(range(101), pop_f, label = '여성', color = 'red')\n",
        "        plt.legend()\n",
        "        plt.show()\n",
        "\n",
        "popfile.close()"
      ],
      "metadata": {
        "id": "phfzQa_SSvmQ",
        "collapsed": true
      },
      "id": "phfzQa_SSvmQ",
      "execution_count": null,
      "outputs": []
    },
    {
      "cell_type": "markdown",
      "metadata": {
        "id": "daef0154"
      },
      "source": [
        "> **연습문제 6-2**. 위의 연습문제에서 시각화한 결과물을 모두 그림 파일(png 포멧)로 저장하시오. `matplotlib`에서 그림을 저장하는 함수가 무엇인지는 스스로 검색해 알아내시오."
      ],
      "id": "daef0154"
    },
    {
      "cell_type": "code",
      "execution_count": null,
      "metadata": {
        "scrolled": true,
        "id": "b245d882",
        "collapsed": true
      },
      "outputs": [],
      "source": [
        "import csv\n",
        "import matplotlib.pyplot as plt\n",
        "\n",
        "popfile = open('202409_202409_연령별인구현황_월간.csv', encoding='cp949')\n",
        "data = csv.reader(popfile)\n",
        "header = next(data)\n",
        "\n",
        "for row in data:\n",
        "    gu = row[0].split(\"(\")[1]     #지역코드는 \"(\"로 시작한다!\n",
        "    #print(gu)\n",
        "    #print(gu[4], gu[5])          #구 단위 집계는 지역코드 4번째 숫자가 항상 0이 아니고 5번째 숫자는 0이다!\n",
        "\n",
        "    if gu[4] != '0' and gu[5] == '0':\n",
        "        pop_name = row[0]\n",
        "        pop_m = [int(i.replace(',', '')) for i in row[106:207]]\n",
        "        pop_f = [-int(i.replace(',', '')) for i in row[209:310]]\n",
        "        #break        #이젠 왜 필요없는지 고민하자\n",
        "\n",
        "        #반복문 안에서 그림을 그려야 여러번 그릴 수 있겠지?\n",
        "        plt.figure(figsize=(10, 10))\n",
        "        plt.rc('font', family='NanumBarunGothic')\n",
        "        plt.style.use('ggplot')                ##격자 모양으로 변경!\n",
        "        plt.title(pop_name +' 지역의 인구 구조')\n",
        "        plt.barh(range(101), pop_m, label = '남성', color = 'blue')       ##레이블과 색깔 지정\n",
        "        plt.barh(range(101), pop_f, label = '여성', color = 'red')\n",
        "        plt.legend()\n",
        "\n",
        "        #바로 이것!\n",
        "        filename = pop_name.split('(')[0] + \".png\"\n",
        "        plt.savefig(filename)\n",
        "\n",
        "        #plt.show()는 나중에 와야 한다(Why?)\n",
        "        plt.show()\n",
        "\n",
        "popfile.close()"
      ],
      "id": "b245d882"
    },
    {
      "cell_type": "markdown",
      "source": [
        "## 7. 인구 구조의 지역간 비교\n",
        "\n",
        "> 이제 두 지역의 인구 구조를 동시에 시각화하여 비교해보자. 성별은 잠깐 무시하고 연령대별에 따라서 인구 구조가 어떻게 다른지 우선 살펴보자.\n",
        ">\n",
        "> 이때는 히스토그램보다는 <b>라인 차트(line chart)</b>가 좀 더 나은데, 두 그림이 서로 겹쳐 가리지 않기 때문이다(물론 히스토그램을 반투명하게 그릴 수도 있다!). 라인 차트로 그림을 그리려면 `plt.plot()`을 사용한다.\n",
        ">\n",
        "> 이제 읍면동 두 곳의 이름을 차례로 입력받고 두 곳의 연령별 인구수를 한 번에 시각화하고 비교해보자."
      ],
      "metadata": {
        "id": "bmDbpY_Tf9Q8"
      },
      "id": "bmDbpY_Tf9Q8"
    },
    {
      "cell_type": "code",
      "source": [
        "import csv\n",
        "import matplotlib.pyplot as plt\n",
        "\n",
        "popfile = open('202409_202409_연령별인구현황_월간.csv', encoding='cp949')\n",
        "data = csv.reader(popfile)\n",
        "header = next(data)\n",
        "#print(header)\n",
        "\n",
        "#print(header[3:104])    #총계\n",
        "#print(header[106:207])  #남자\n",
        "#print(header[209:310])  #여자\n",
        "\n",
        "name1 = input('인구 구조에 관해 알고 싶은 1번째 지역의 이름(읍면동 단위)을 입력하시오: ')\n",
        "name2 = input('인구 구조에 관해 알고 싶은 2번째 지역의 이름(읍면동 단위)을 입력하시오: ')\n",
        "\n",
        "found1, found2 = 0,0           #플래그는 일단 0\n",
        "\n",
        "for row in data:\n",
        "    if name1 in row[0]:        #만약 ''행정구역'' 열에 name1 안의 단어가 들어간다면,\n",
        "\n",
        "        pop1 = [int(i.replace(',', '')) for i in row[3:104]]\n",
        "        rname1 = row[0]     #동네 이름\n",
        "        found1 = 1         #찾았다!\n",
        "        #break             #이젠 왜 필요없는지 고민하자\n",
        "\n",
        "    if name2 in row[0]:        #만약 ''행정구역'' 열에 name2 안의 단어가 들어간다면,\n",
        "\n",
        "        pop2 = [int(i.replace(',', '')) for i in row[3:104]]\n",
        "        rname2 = row[0]     #동네 이름\n",
        "        found2 = 1         #찾았다!\n",
        "        #break             #이젠 왜 필요없는지 고민하자\n",
        "\n",
        "#print(pop)\n",
        "\n",
        "if found1 == 1 and found2 == 1:      #두 플래그가 모두 1일 때만 그릴 것!\n",
        "\n",
        "    plt.figure(figsize=(10, 10))\n",
        "    plt.rc('font', family='NanumBarunGothic')\n",
        "    plt.style.use('ggplot')                ##격자 모양으로 변경!\n",
        "    plt.title('인구 구조의 지역간 비교')\n",
        "    plt.plot(range(101), pop1, label = rname1, color = 'blue')       ##히스토그램이 아니라 라인 차트이다!\n",
        "    plt.plot(range(101), pop2, label = rname2, color = 'red')        ##히스토그램이 아니라 라인 차트이다!\n",
        "    plt.legend()\n",
        "    plt.show()\n",
        "\n",
        "popfile.close()"
      ],
      "metadata": {
        "id": "RsKsyzKMgNSF"
      },
      "execution_count": null,
      "outputs": [],
      "id": "RsKsyzKMgNSF"
    },
    {
      "cell_type": "markdown",
      "source": [
        "> 위 코드를 사용하여 가령 오근장동과 현도면을 비교해보자. 아쉽게도 문제가 약간 있다. $y$축이 인구수이기 때문에 (절대적인 인구수 차이가 있다면) 인구 구조의 직접적인 비교가 어렵다! 그러므로 이제 새롭게 인구 비율을 계산해보자.\n",
        ">\n",
        "> 리스트 컴프리핸션이라면 쉽게 계산할 수 있다. 실전에 앞서 아까 배운 기법을 다시 떠올려보자!\n",
        ">\n",
        ">  ```python\n",
        "> pop = [1, 3, 2, 1, 3, 0]       #총합 sum(pop) 은 10\n",
        "> [i/sum(pop) for i in pop]\n",
        "> ```"
      ],
      "metadata": {
        "id": "pOgkv4X4hnsr"
      },
      "id": "pOgkv4X4hnsr"
    },
    {
      "cell_type": "code",
      "source": [
        "import csv\n",
        "import matplotlib.pyplot as plt\n",
        "\n",
        "popfile = open('202409_202409_연령별인구현황_월간.csv', encoding='cp949')\n",
        "data = csv.reader(popfile)\n",
        "header = next(data)\n",
        "#print(header)\n",
        "\n",
        "#print(header[3:104])    #총계\n",
        "#print(header[106:207])  #남자\n",
        "#print(header[209:310])  #여자\n",
        "\n",
        "name1 = input('인구 구조에 관해 알고 싶은 1번째 지역의 이름(읍면동 단위)을 입력하시오: ')\n",
        "name2 = input('인구 구조에 관해 알고 싶은 2번째 지역의 이름(읍면동 단위)을 입력하시오: ')\n",
        "\n",
        "found1, found2 = 0,0           #플래그는 일단 0\n",
        "\n",
        "for row in data:\n",
        "    if name1 in row[0]:        #만약 ''행정구역'' 열에 name1 안의 단어가 들어간다면,\n",
        "\n",
        "        pop1 = [int(i.replace(',', '')) for i in row[3:104]]\n",
        "        pop1p = [i/sum(pop1) for i in pop1]\n",
        "        rname1 = row[0]     #동네 이름\n",
        "        found1 = 1         #찾았다!\n",
        "        #break             #이젠 왜 필요없는지 고민하자\n",
        "\n",
        "    if name2 in row[0]:        #만약 ''행정구역'' 열에 name2 안의 단어가 들어간다면,\n",
        "\n",
        "        pop2 = [int(i.replace(',', '')) for i in row[3:104]]\n",
        "        pop2p = [i/sum(pop2) for i in pop2]\n",
        "        rname2 = row[0]     #동네 이름\n",
        "        found2 = 1         #찾았다!\n",
        "        #break             #이젠 왜 필요없는지 고민하자\n",
        "\n",
        "#print(pop)\n",
        "\n",
        "if found1 == 1 and found2 == 1:      #두 플래그가 모두 1일 때만 그릴 것!\n",
        "\n",
        "    plt.figure(figsize=(10, 10))\n",
        "    plt.rc('font', family='NanumBarunGothic')\n",
        "    plt.style.use('ggplot')                ##격자 모양으로 변경!\n",
        "    plt.title('인구 구조의 지역간 비교')\n",
        "    plt.plot(range(101), pop1p, label = rname1, color = 'blue')       ##히스토그램이 아니라 라인 차트이다!\n",
        "    plt.plot(range(101), pop2p, label = rname2, color = 'red')        ##히스토그램이 아니라 라인 차트이다!\n",
        "    plt.legend()\n",
        "    plt.show()\n",
        "\n",
        "popfile.close()"
      ],
      "metadata": {
        "id": "FhE1rmprh24-"
      },
      "execution_count": null,
      "outputs": [],
      "id": "FhE1rmprh24-"
    },
    {
      "cell_type": "markdown",
      "source": [
        "> 이제 오근장동과 현도면의 극명한 차이가 대조된다. 현도면은 지금 인구가 적다는 문제 이상으로 고령화가 심각하다! 이와 같은 분석을 좀 더 진행한다면 지역간 인구 구조의 <b>유사성(similarity)</b>을 수학적으로 측정하여 사회학적인 시사점을 도출할 수도 있다. 우리는 더이상 다루지 않는다."
      ],
      "metadata": {
        "id": "rslEYK7ai6Ht"
      },
      "id": "rslEYK7ai6Ht"
    },
    {
      "cell_type": "markdown",
      "source": [
        "> **연습문제 7**. <b>모아비(child-woman ratio)</b>란 0세\\~4세 인구와 15세\\~44세의 여성인구 사이의 비율을 뜻한다. 이 값을 통해 (특정 조건 아래) 가임여성의 출산율을 대략적으로 파악할 수 있다. 다음 우리나라 전국 광역자치단체 수준별로 모아비를 계산하여 막대 그래프로 시각화하시오.\n",
        "---\n",
        "```python\n",
        "import gdown\n",
        "link = 'https://drive.google.com/uc?id=12LiiM13tFiHgKWNYXGtKOjw3jb1oU6iv'\n",
        "gdown.download(link)\n",
        "```"
      ],
      "metadata": {
        "id": "NVfVSEPRC18F"
      },
      "id": "NVfVSEPRC18F"
    },
    {
      "cell_type": "code",
      "source": [
        "import csv\n",
        "import matplotlib.pyplot as plt\n",
        "import gdown\n",
        "\n",
        "link = 'https://drive.google.com/uc?id=12LiiM13tFiHgKWNYXGtKOjw3jb1oU6iv'\n",
        "gdown.download(link)\n",
        "\n",
        "popfile = open('연령별전국인구현황_월간.csv', encoding='cp949')\n",
        "data = csv.reader(popfile)\n",
        "header = next(data)\n",
        "\n",
        "names, cwr = [], []\n",
        "for row in data:\n",
        "      #for i in row[3:104]:\n",
        "          #pop.append(int(i))\n",
        "      popc = sum([int(i.replace(',', '')) for i in row[3:8]])\n",
        "      popw = sum([int(i.replace(',', '')) for i in row[224:254]])\n",
        "      names.append(row[0])       #읍면동 이름\n",
        "      cwr.append(popc/popw)      #모아비\n",
        "\n",
        "plt.figure(figsize=(5, 10))\n",
        "plt.rc('font', family='NanumBarunGothic')\n",
        "plt.title('모아비(child-woman ratio)')\n",
        "plt.barh(names, cwr)\n",
        "plt.show()\n",
        "\n",
        "popfile.close()"
      ],
      "metadata": {
        "id": "NYDUAKzUDlKu"
      },
      "id": "NYDUAKzUDlKu",
      "execution_count": null,
      "outputs": []
    }
  ],
  "metadata": {
    "kernelspec": {
      "display_name": "Python 3 (ipykernel)",
      "language": "python",
      "name": "python3"
    },
    "language_info": {
      "codemirror_mode": {
        "name": "ipython",
        "version": 3
      },
      "file_extension": ".py",
      "mimetype": "text/x-python",
      "name": "python",
      "nbconvert_exporter": "python",
      "pygments_lexer": "ipython3",
      "version": "3.9.7"
    },
    "colab": {
      "provenance": [],
      "toc_visible": true,
      "include_colab_link": true
    }
  },
  "nbformat": 4,
  "nbformat_minor": 5
}