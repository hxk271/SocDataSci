{
  "cells": [
    {
      "cell_type": "markdown",
      "metadata": {
        "id": "view-in-github",
        "colab_type": "text"
      },
      "source": [
        "<a href=\"https://colab.research.google.com/github/hxk271/SocDataSci/blob/main/archive/W06.ipynb\" target=\"_parent\"><img src=\"https://colab.research.google.com/assets/colab-badge.svg\" alt=\"Open In Colab\"/></a>"
      ]
    },
    {
      "cell_type": "markdown",
      "id": "cRKo4XYlfLBd",
      "metadata": {
        "id": "cRKo4XYlfLBd"
      },
      "source": [
        "# Week 06 (교통정보 공공데이터 분석)\n",
        "\n",
        "> 오늘은 교통정보에 관한 공공데이터를 살펴보고 분석할 예정이다. 교통정보는 언제 어디에서 몇 명이 특정 교통수단을 이용하였는지에 관한 내용을 담고 있다. 보다 세부적으로 내려가면 이용자 단위로 정보를 수집하게 되지만, 오늘 사용하게 될 자료는 그보다는 <b>집계자료(aggregate data)</b>를 이용한다.\n",
        ">\n",
        "> 진도에 앞서 리스트를 활용한 트릭을 한 가지만 짧게 연습해보자. 그리고나서 교통카드 공공데이터를 직접 분석해보기로 하자."
      ]
    },
    {
      "cell_type": "markdown",
      "id": "Do135x4FfoXz",
      "metadata": {
        "id": "Do135x4FfoXz"
      },
      "source": [
        "## 1. 리스트를 활용한 트릭\n",
        "\n",
        "> 첫번째 트릭으로 ''리스트 더하기 리스트''를 살펴보자. `a`라는\n",
        "리스트와 `b`라는 리스트가 주어져 있을 때 두 리스트를 더하면 단순히 합쳐진다."
      ]
    },
    {
      "cell_type": "code",
      "execution_count": null,
      "id": "G1LhmOwRqr30",
      "metadata": {
        "id": "G1LhmOwRqr30"
      },
      "outputs": [],
      "source": [
        "a = [1, 2, 3]\n",
        "b = [4, 5 ,6]\n",
        "a + b"
      ]
    },
    {
      "cell_type": "markdown",
      "id": "nyvnahoiquLV",
      "metadata": {
        "id": "nyvnahoiquLV"
      },
      "source": [
        "> 그런데 이게 아니라 *원소마다(element-wise)* 더하고 싶다면 어떻게 하면 될까? 리스트 컴프리핸션으로 구현할 수 있다."
      ]
    },
    {
      "cell_type": "code",
      "execution_count": null,
      "id": "WhKzwnwdqwdz",
      "metadata": {
        "id": "WhKzwnwdqwdz"
      },
      "outputs": [],
      "source": [
        "a = [1, 2, 3]\n",
        "b = [4, 5 ,6]\n",
        "ab = [a[i] + b[i] for i in range(len(b))]\n",
        "\n",
        "print(ab)"
      ]
    },
    {
      "cell_type": "code",
      "source": [
        "a = [1, 2, 3]\n",
        "b = [4, 5 ,6]\n",
        "\n",
        "ab = [a[i]+b[i] for i in range(len(b))]\n",
        "print(ab)"
      ],
      "metadata": {
        "id": "ivlcHWdrzYI_"
      },
      "id": "ivlcHWdrzYI_",
      "execution_count": null,
      "outputs": []
    },
    {
      "cell_type": "markdown",
      "id": "l2vdbixGqzIT",
      "metadata": {
        "id": "l2vdbixGqzIT"
      },
      "source": [
        "> 참고로 리스트를 슬라이싱(slicing)할 때, *$x$단뛰기* 같은 기법을 활용할 수 있음을 기억하자."
      ]
    },
    {
      "cell_type": "code",
      "execution_count": null,
      "id": "qWYBCSABq2g5",
      "metadata": {
        "id": "qWYBCSABq2g5"
      },
      "outputs": [],
      "source": [
        "a = [1, 2, 3, 4, 5, 6, 7, 8, 9, 10]\n",
        "\n",
        "#0자리에서 8자리까지 1단뛰기\n",
        "print(a[0:8])\n",
        "\n",
        "#0자리에서 8자리까지 2단뛰기\n",
        "print(a[0:8:2])"
      ]
    },
    {
      "cell_type": "markdown",
      "source": [
        "> **연습문제 1-1**. 한 학생이 1주일 동안 매일 걸은 걸음 수(step) 와 칼로리 소모량(calorie) 데이터를 기록했다.\n",
        ">\n",
        "> ```python\n",
        "> steps = [4120, 5230, 6800, 7500, 10200, 9800, 11000]\n",
        "> calories = [180, 210, 250, 300, 420, 390, 440]\n",
        "> ```\n",
        ">\n",
        "> (1) 매일매일의 걸음 수$\\times$칼로리 값을 계산하여 `activity`라는 이름의 리스트를 만드시오.\\\n",
        "> (2) `activity` 중에서 주말을 제외한 값을 추출하여 `weekday_activity`로 저장하시오.\\\n",
        "> (3) `weekday_activity`의 평균을 계산하시오."
      ],
      "metadata": {
        "id": "0QITeS_Va6bg"
      },
      "id": "0QITeS_Va6bg"
    },
    {
      "cell_type": "code",
      "source": [
        "steps = [4120, 5230, 6800, 7500, 10200, 9800, 11000]\n",
        "calories = [180, 210, 250, 300, 420, 390, 440]\n",
        "\n",
        "# (1)\n",
        "activity = [i*j for i, j in zip(steps, calories)]\n",
        "\n",
        "# (2)\n",
        "weekday_activity = activity[:5]\n",
        "\n",
        "# (3)\n",
        "average = sum(weekday_activity) / len(weekday_activity)\n",
        "\n",
        "print(\"activity =\", activity)\n",
        "print(\"weekday_activity =\", weekday_activity)\n",
        "print(\"평균 점수:\", average)"
      ],
      "metadata": {
        "id": "kLDbjqxhZTEk"
      },
      "id": "kLDbjqxhZTEk",
      "execution_count": null,
      "outputs": []
    },
    {
      "cell_type": "markdown",
      "source": [
        "> **연습문제 1-2**. 구구단을 출력하는 코드를 작성해보자. 이때 코드의 길이를 가능한 최소한으로 줄이도록 노력하자."
      ],
      "metadata": {
        "id": "2VraoHnCYri1"
      },
      "id": "2VraoHnCYri1"
    },
    {
      "cell_type": "code",
      "source": [
        "[(i,j, i*j) for i in range(2,10) for j in range(1,10)]"
      ],
      "metadata": {
        "id": "WEk770MaY1Kt"
      },
      "id": "WEk770MaY1Kt",
      "execution_count": null,
      "outputs": []
    },
    {
      "cell_type": "markdown",
      "id": "y5MGsqA4QjuH",
      "metadata": {
        "id": "y5MGsqA4QjuH"
      },
      "source": [
        "## 2. 지하철역 별 무임승차율 계산\n",
        "\n",
        "> 오늘은 사용할 자료는 티머니(t-money)에서 제공하는 수도권 대중교통 데이터이다. 이 자료는 직접 다운로드받아 스스로 가공하거나 수업용 GitHub에서도 다운로드받을 수 있다. 연습문제에서는 위도 및 경도가 주어졌을 때 공간자료가 어떤 식으로 시각화될 수 있는지 기초적인 아이디어를 학습한다."
      ]
    },
    {
      "cell_type": "code",
      "execution_count": null,
      "id": "81-TfZIdfYhM",
      "metadata": {
        "id": "81-TfZIdfYhM"
      },
      "outputs": [],
      "source": [
        "import gdown\n",
        "link = 'https://drive.google.com/uc?id=1WzNFanRYclVqQtRAYXFNHed-qw4ft4hk'\n",
        "gdown.download(link)"
      ]
    },
    {
      "cell_type": "markdown",
      "id": "ff69544f",
      "metadata": {
        "id": "ff69544f"
      },
      "source": [
        "> (서울특별시도시철도공사에 따르면) 우리나라 지하철사업의 운영적자 원인 중 하나로 무임승차 문제는 제법 심각하다고 한다. 첫번째 프로젝트로 각 역별로 무임승차율을 계산해보기로 한다. 특히 가장 무임승차율이 높은 역이 언제의 어느 역인지 살펴보자.\n",
        ">\n",
        "> 먼저 엑셀에서 자료를 훑어보자. 헤더가 있고 데이터가 이어지는 모습을 보면 먼저 헤더를 건너뛰고 살펴보는 것이 바람직할 것 같다. 물론 인코딩도 적절히 처리해야 한다. 헤더(header)를 태워버린 다음, 반복문을 통해 정보를 출력해보자."
      ]
    },
    {
      "cell_type": "code",
      "execution_count": null,
      "id": "ff73b890",
      "metadata": {
        "id": "ff73b890",
        "scrolled": true
      },
      "outputs": [],
      "source": [
        "import csv\n",
        "dfile = open('tmoney3.csv', encoding = 'cp949')\n",
        "data = csv.reader(dfile)\n",
        "header = next(data)\n",
        "\n",
        "for row in data:\n",
        "    print(row)\n",
        "\n",
        "dfile.close()"
      ]
    },
    {
      "cell_type": "markdown",
      "id": "f5cc0564",
      "metadata": {
        "id": "f5cc0564"
      },
      "source": [
        "> 지난 주에 `for` 반복문 뿐 아니라, 리스트 컴프리핸션도 배웠다! 지하철역 이름에서 유임승차, 유임하차, 무임승차, 무임하차까지만 컬럼(columns)을 출력해보자."
      ]
    },
    {
      "cell_type": "code",
      "execution_count": null,
      "id": "fab31725",
      "metadata": {
        "collapsed": true,
        "id": "fab31725",
        "scrolled": true
      },
      "outputs": [],
      "source": [
        "import csv\n",
        "dfile = open('tmoney3.csv', encoding = 'cp949')\n",
        "data = csv.reader(dfile)\n",
        "header = next(data)\n",
        "\n",
        "for row in data:\n",
        "    #print(row)\n",
        "    line = [row[i] for i in range(3, 8)]                      #리스트 컴프리핸션\n",
        "    print(line)\n",
        "\n",
        "dfile.close()"
      ]
    },
    {
      "cell_type": "markdown",
      "id": "a5f9bfff",
      "metadata": {
        "id": "a5f9bfff"
      },
      "source": [
        "> 승하차 수는 문자열(string)보다 정수(integer)인 편이 낫기 때문에 바꿔보자."
      ]
    },
    {
      "cell_type": "code",
      "execution_count": null,
      "id": "17df03e9",
      "metadata": {
        "id": "17df03e9"
      },
      "outputs": [],
      "source": [
        "import csv\n",
        "dfile = open('tmoney3.csv', encoding = 'cp949')\n",
        "data = csv.reader(dfile)\n",
        "header = next(data)\n",
        "\n",
        "for row in data:\n",
        "    #print(row)\n",
        "    line = [row[i] for i in range(3, 8)]                      #리스트 컴프리핸션\n",
        "    line[1:5] = [int(row[i]) for i in range(4, 8)]            #정수로 변경\n",
        "    print(line)\n",
        "\n",
        "dfile.close()"
      ]
    },
    {
      "cell_type": "markdown",
      "id": "95dfb5d8",
      "metadata": {
        "id": "95dfb5d8"
      },
      "source": [
        "> 에러가 발생했다. 메시지를 잘 읽어보니 어디서 많이 보던 것이다. 쉼표(,)가 들어갔기 때문에 정수로 바꿔주지 못한 것이다. 그러므로 먼저 쉼표를 <code>replace(',', '')</code>로 제거하고, <code>int()</code>를 사용해 정수로 변경만 해주자(필요하다면 이 테크닉이 익숙해질 때까지 따로 연습해보자)!\n"
      ]
    },
    {
      "cell_type": "code",
      "execution_count": null,
      "id": "3e512f4a",
      "metadata": {
        "collapsed": true,
        "id": "3e512f4a",
        "scrolled": true
      },
      "outputs": [],
      "source": [
        "import csv\n",
        "dfile = open('tmoney3.csv', encoding = 'cp949')\n",
        "data = csv.reader(dfile)\n",
        "header = next(data)\n",
        "\n",
        "for row in data:\n",
        "    #print(row)\n",
        "    line = [row[i] for i in range(3, 8)]                                #리스트 컴프리핸션\n",
        "    line[1:5] = [int(row[i].replace(',', '')) for i in range(4, 8)]     #쉼표 제거 후 정수로 변경!\n",
        "    print(line)\n",
        "\n",
        "dfile.close()"
      ]
    },
    {
      "cell_type": "markdown",
      "id": "07022236",
      "metadata": {
        "id": "07022236"
      },
      "source": [
        "> 잘 해결되었다! 이제 다음의 공식을 사용해 무임승차율을 계산해보자.\n",
        ">\n",
        "> $$ rfree = \\dfrac{무임승차자수}{유임승차자수+무임승차자수} $$"
      ]
    },
    {
      "cell_type": "code",
      "execution_count": null,
      "id": "b3363711",
      "metadata": {
        "id": "b3363711"
      },
      "outputs": [],
      "source": [
        "import csv\n",
        "dfile = open('tmoney3.csv', encoding = 'cp949')\n",
        "data = csv.reader(dfile)\n",
        "header = next(data)\n",
        "\n",
        "for row in data:\n",
        "    #print(row)\n",
        "    line = [row[i] for i in range(3, 8)]                                #리스트 컴프리핸션\n",
        "    line[1:5] = [int(row[i].replace(',', '')) for i in range(4, 8)]     #쉼표 제거 후 정수로 변경!\n",
        "    #print(line)\n",
        "\n",
        "    #무임승차율 계산\n",
        "    rfree = line[3] / (line[1] + line[3])\n",
        "    print(rfree)\n",
        "\n",
        "dfile.close()"
      ]
    },
    {
      "cell_type": "markdown",
      "id": "79fca747",
      "metadata": {
        "id": "79fca747"
      },
      "source": [
        "> 이제 예전에 배운 업데이트 방식을 사용하여 무임승차율이 최고인 지하철역을 식별해보자. 그리고 엑셀에서도 무임승차율을 계산하고 정렬하여 정답이 맞는지도 확인해보자."
      ]
    },
    {
      "cell_type": "code",
      "execution_count": null,
      "id": "ec93f4b2",
      "metadata": {
        "id": "ec93f4b2"
      },
      "outputs": [],
      "source": [
        "import csv\n",
        "dfile = open('tmoney3.csv', encoding = 'cp949')\n",
        "data = csv.reader(dfile)\n",
        "header = next(data)\n",
        "\n",
        "#placeholders\n",
        "max_rfree = 0\n",
        "max_sname = \"\"\n",
        "\n",
        "for row in data:\n",
        "    #print(row)\n",
        "    line = [row[i] for i in range(3, 8)]                                #리스트 컴프리핸션\n",
        "    line[1:5] = [int(row[i].replace(',', '')) for i in range(4, 8)]     #쉼표 제거 후 정수로 변경!\n",
        "    #print(line)\n",
        "\n",
        "    #무임승차율 계산\n",
        "    rfree = line[3] / (line[1] + line[3])\n",
        "    #print(rfree)\n",
        "\n",
        "    if rfree > max_rfree:\n",
        "        max_rfree = rfree\n",
        "        max_sname = line[0]\n",
        "\n",
        "dfile.close()\n",
        "\n",
        "#결과보고\n",
        "print(max_sname + \" 무임승차율이 \" + str(round(max_rfree, 3)) + \"로 우리나라 지하철역 중 가장 높다!\")     #round()는 반올림\n",
        "dfile.close()"
      ]
    },
    {
      "cell_type": "markdown",
      "id": "430df3e6",
      "metadata": {
        "id": "430df3e6"
      },
      "source": [
        "> 그런데 비율로는 절대적인 수치를 드러내지 못한다는 아쉬움이 있다. 가령 총 6명의 승객 중 겨우 3명이 무임승차자일 때와 총 10,000명의 승객 중 5,000명이 무임승차자일 때 모두 .5라는 값이 나온다. 그러나 적자 문제로 보면 후자가 더 심각할 수 있다(Why?). 이 문제를 이해하기 위해 반드시 엑셀로 파일을 살펴보자.\n",
        ">\n",
        "> 그러므로 추가적인 기준으로 총 승차자가 500,000명 이상일 때만 살펴보자(원한다면 기준을 조금씩 바꿔볼 수도 있다)."
      ]
    },
    {
      "cell_type": "code",
      "execution_count": null,
      "id": "f9fbf6a2",
      "metadata": {
        "id": "f9fbf6a2"
      },
      "outputs": [],
      "source": [
        "import csv\n",
        "dfile = open('tmoney3.csv', encoding = 'cp949')\n",
        "data = csv.reader(dfile)\n",
        "header = next(data)\n",
        "\n",
        "#placeholders\n",
        "max_rfree = 0\n",
        "max_sname = \"\"\n",
        "threshold = 500000\n",
        "\n",
        "for row in data:\n",
        "    #print(row)\n",
        "    line = [row[i] for i in range(3, 8)]                                #리스트 컴프리핸션\n",
        "    line[1:5] = [int(row[i].replace(',', '')) for i in range(4, 8)]     #쉼표 제거 후 정수로 변경!\n",
        "    #print(line)\n",
        "\n",
        "    #무임승차율 계산\n",
        "    rfree = line[3] / (line[1] + line[3])\n",
        "    #print(rfree)\n",
        "\n",
        "    if (rfree > max_rfree) and (line[1] + line[3] > threshold):           # 기준 2개!\n",
        "        max_rfree = rfree\n",
        "        max_sname = line[0]\n",
        "\n",
        "dfile.close()\n",
        "\n",
        "#결과보고\n",
        "print(\"이용객 수 \" + str(threshold) + \"명 이상만 고려했을 때, \" + max_sname + \"이 \" + str(round(max_rfree, 2)) + \"로 무임승차율이 가장 높다!\")     #round()는 반올림\n",
        "\n",
        "dfile.close()"
      ]
    },
    {
      "cell_type": "markdown",
      "id": "PfeOs8ThfHMo",
      "metadata": {
        "id": "PfeOs8ThfHMo"
      },
      "source": [
        "> **연습문제 2-1**. 지하철역 호선과 이름을 사용자에게 입력받아 해당 역에서 유임승차자, 무임승차자, 유임하차자, 무임하차자 수를 나타내는 시각화를 수행하시오. 물론 한국어 폰트를 사용하려면 먼저 설치하고 런타임을 재시작해야 한다.\n",
        "---\n",
        "```\n",
        "!sudo apt-get install -y fonts-nanum\n",
        "!sudo fc-cache -fv\n",
        "!rm ~/.cache/matplotlib -rf\n",
        "```"
      ]
    },
    {
      "cell_type": "code",
      "execution_count": null,
      "id": "wuOwZu2yfJIX",
      "metadata": {
        "id": "wuOwZu2yfJIX"
      },
      "outputs": [],
      "source": [
        "import csv\n",
        "import matplotlib.pyplot as plt\n",
        "\n",
        "dfile = open('tmoney3.csv', encoding = 'cp949')\n",
        "data = csv.reader(dfile)\n",
        "header = next(data)\n",
        "\n",
        "sline = input(\"지하철 호선을 입력하시오:\")        #sline = \"중앙\"\n",
        "sname = input(\"지하철역 이름을 입력하시오:\")      #sname = \"회기\"\n",
        "\n",
        "found = 0          #왜 필요한지 생각해보자\n",
        "\n",
        "for row in data:\n",
        "    line = [row[i] for i in range(1, 8)]                                #리스트 컴프리핸션\n",
        "    #print(line)\n",
        "    line[3:7] = [int(row[i].replace(',', '')) for i in range(4, 8)]     #쉼표 제거 후 정수로 변경!\n",
        "\n",
        "    if (sline in line[0]) & (sname in line[2]):             #조건 2개\n",
        "        sname = line[2]       #진짜 지하철역 이름\n",
        "        stats = line[3:7]     #['유임승차','유임하차','무임승차','무임하차']\n",
        "        found = 1             #발견 flag\n",
        "        break\n",
        "\n",
        "#결과보고\n",
        "if found == 1:\n",
        "\n",
        "    labels = ['유임승차','유임하차','무임승차','무임하차']\n",
        "    plt.rc('font', family='NanumBarunGothic')\n",
        "    plt.title(line[0] + \" \" + line[2])\n",
        "    plt.bar(labels, stats)           # bar chart\n",
        "    plt.show()\n",
        "\n",
        "dfile.close()"
      ]
    },
    {
      "cell_type": "markdown",
      "source": [
        "> **연습문제 2-2**. 지하철역 호선과 이름 두 곳을 사용자에게 입력받아 두 역에서 무임승차자 비율을 비교하도록 시각화하시오."
      ],
      "metadata": {
        "id": "iwrIr3wxibD5"
      },
      "id": "iwrIr3wxibD5"
    },
    {
      "cell_type": "code",
      "source": [
        "import csv\n",
        "import matplotlib.pyplot as plt\n",
        "\n",
        "dfile = open('tmoney3.csv', encoding = 'cp949')\n",
        "data = csv.reader(dfile)\n",
        "header = next(data)\n",
        "\n",
        "sline1, sname1 = input(\"첫번째 지하철 호선을 입력하시오:\"), input(\"첫번째 지하철역 이름을 입력하시오:\")   #중앙 회기\n",
        "sline2, sname2 = input(\"두번째 지하철 호선을 입력하시오:\"), input(\"두번째 지하철역 이름을 입력하시오:\")   #1호선 시청\n",
        "#sline1, sname1 = \"중앙\", \"회기\"\n",
        "#sline2, sname2 = \"1호선\", \"신설동\"\n",
        "found1, found2 = 0, 0\n",
        "\n",
        "for row in data:\n",
        "    line = [row[i] for i in range(1, 8)]                                #리스트 컴프리핸션\n",
        "    line[3:7] = [int(row[i].replace(',', '')) for i in range(4, 8)]     #쉼표 제거 후 정수로 변경!\n",
        "\n",
        "    if (sline1 in line[0]) & (sname1 in line[2]):             #첫번째\n",
        "        sname1 = line[2]       #진짜 지하철역 이름\n",
        "        rfree1 = line[6] / (line[4] + line[6])\n",
        "        found1 = 1             #발견 flag\n",
        "        #break                #왜 필요없나 생각해보자\n",
        "\n",
        "    if (sline2 in line[0]) & (sname2 in line[2]):             #두번째\n",
        "        sname2 = line[2]       #진짜 지하철역 이름\n",
        "        rfree2 = line[6] / (line[4] + line[6])\n",
        "        found2 = 1             #발견 flag\n",
        "        #break\n",
        "\n",
        "\n",
        "#결과보고\n",
        "if (found1 == 1) & (found2 == 1):\n",
        "\n",
        "    plt.rc('font', family='NanumBarunGothic')\n",
        "    plt.title(sname1 + \" 그리고 \" + sname2 + \"의 비교\")\n",
        "    plt.bar(sname1, rfree1)           # bar chart\n",
        "    plt.bar(sname2, rfree2)           # bar chart\n",
        "    plt.show()\n",
        "\n",
        "dfile.close()"
      ],
      "metadata": {
        "id": "RjiSGg7NimDL"
      },
      "id": "RjiSGg7NimDL",
      "execution_count": null,
      "outputs": []
    },
    {
      "cell_type": "markdown",
      "id": "c562cb8f",
      "metadata": {
        "id": "c562cb8f"
      },
      "source": [
        "## 3. 이용자수의 최대값 식별\n",
        "\n",
        "> 또다른 티머니 지하철 이용현황 자료에서 흥미로운 부분은 시간대별로 승하차 인원이 나와있다는 점이다. 그러므로 아래 자료를 이용해 시간대별로 이용현황이 어떻게 달라지는지 시각화해볼 수도 있다!\n",
        ">\n",
        "> 좀 더 구체적으로 출근시간대인 7시에서 9시 사이에 승하차 인원이 가장 많은 지하철 역이 어디인지 식별해보자. (예전에 배웠던 것과 같이) 업데이트 방식으로 최대값을 식별해나가면 된다! 물론 그에 앞서 자료를 적절히 <b>전처리(pre-processing)</b>하는 과정이 필요하다."
      ]
    },
    {
      "cell_type": "code",
      "execution_count": null,
      "id": "9VgIEBnsF3N_",
      "metadata": {
        "id": "9VgIEBnsF3N_"
      },
      "outputs": [],
      "source": [
        "import gdown\n",
        "link = 'https://drive.google.com/uc?id=1-Ddf2chSGXw8uf9ZsioCw0HZQd_E7c15'\n",
        "gdown.download(link)"
      ]
    },
    {
      "cell_type": "markdown",
      "source": [
        "> 시작은 늘 하던대로 먼저 엑셀에서 데이터를 살펴보는 것이 좋다."
      ],
      "metadata": {
        "id": "EZuRItp2WgNl"
      },
      "id": "EZuRItp2WgNl"
    },
    {
      "cell_type": "code",
      "execution_count": null,
      "id": "9d093ed4",
      "metadata": {
        "collapsed": true,
        "id": "9d093ed4",
        "scrolled": true
      },
      "outputs": [],
      "source": [
        "import csv\n",
        "\n",
        "dfile = open('tmoney4.csv', encoding = 'cp949')\n",
        "data = csv.reader(dfile)\n",
        "\n",
        "for row in data:\n",
        "    print(row)\n",
        "\n",
        "dfile.close()"
      ]
    },
    {
      "cell_type": "markdown",
      "id": "1c9bf3bd",
      "metadata": {
        "id": "1c9bf3bd"
      },
      "source": [
        "> 잘보면 헤더가 두 줄이다. 특히 시간대 정보를 알기 위해선 첫째 헤더가 중요한데 여기에는 묘하게 간격이 있다! 엑셀에서는 좀처럼 눈에 들어오지 않기 때문에 주의를 기울여야 한다. 이것을 파이썬에서 직접 살펴보자."
      ]
    },
    {
      "cell_type": "code",
      "execution_count": null,
      "id": "d740ea25",
      "metadata": {
        "id": "d740ea25",
        "scrolled": true
      },
      "outputs": [],
      "source": [
        "import csv\n",
        "\n",
        "dfile = open('tmoney4.csv', encoding = 'cp949')\n",
        "data = csv.reader(dfile)\n",
        "header1 = next(data)\n",
        "header2 = next(data)\n",
        "\n",
        "#len(header1)같은 트릭은 제법 유용하다.\n",
        "print(header1)\n",
        "for i in range(len(header1)):\n",
        "    print(header1[i])\n",
        "\n",
        "#for row in data:\n",
        "#    print(row)\n",
        "\n",
        "dfile.close()"
      ]
    },
    {
      "cell_type": "markdown",
      "id": "d9669908",
      "metadata": {
        "id": "d9669908"
      },
      "source": [
        "> 앞서 수행했던 프로젝트의 코드를 복사하여 붙여넣기 한 다음 살짝 수정해보자. 특히 <code>sline</code>과 <code>sname</code>에는 각각 노선번호와 역 이름을 집어넣고, <code>line</code>에는 시간대별 승하차 인원 숫자를 정수로 바꾸어 집어넣자.\n",
        ">\n",
        "> 우리는 리스트 컴프리핸션을 사용해 <b>파이썬답게(pythonic)</b>하게 코드를 작성할 수 있다(하지만 원한다면 이것을 풀어서 써도 된다)."
      ]
    },
    {
      "cell_type": "code",
      "execution_count": null,
      "id": "c574b6da",
      "metadata": {
        "collapsed": true,
        "id": "c574b6da"
      },
      "outputs": [],
      "source": [
        "import csv\n",
        "\n",
        "ddfile = open('tmoney4.csv', encoding = 'cp949')\n",
        "data = csv.reader(ddfile)\n",
        "header1 = next(data)\n",
        "header2 = next(data)\n",
        "\n",
        "#len(header1)같은 트릭은 제법 유용하다.\n",
        "#print(header1)\n",
        "#for i in range(len(header1)):\n",
        "#    print(header1[i])\n",
        "\n",
        "for row in data:\n",
        "    #print(row)\n",
        "    sline = row[1]                                                              #노선번호\n",
        "    sname = row[3]                                                              #역 이름\n",
        "\n",
        "    #line = []\n",
        "    #for i in range(4, len(header1) - 1):\n",
        "    #    line.append(int(row[i].replace(',', '')))\n",
        "\n",
        "    line = [int(row[i].replace(',', '')) for i in range(4, len(header1) - 1)]   #시간대별 승하차 인원\n",
        "\n",
        "    print(sline, sname, line)\n",
        "\n",
        "ddfile.close()"
      ]
    },
    {
      "cell_type": "markdown",
      "id": "cfc8e898",
      "metadata": {
        "id": "cfc8e898"
      },
      "source": [
        "> 이제 7시대와 8시대의 승하차 인원을 합하고, 업데이트 방식을 통해 최대값을 식별하면 된다."
      ]
    },
    {
      "cell_type": "code",
      "execution_count": null,
      "id": "d0526c83",
      "metadata": {
        "id": "d0526c83"
      },
      "outputs": [],
      "source": [
        "import csv\n",
        "\n",
        "ddfile = open('tmoney4.csv', encoding = 'cp949')\n",
        "data = csv.reader(ddfile)\n",
        "header1 = next(data)\n",
        "header2 = next(data)\n",
        "\n",
        "#len(header1)같은 트릭은 제법 유용하다.\n",
        "#print(header1)\n",
        "#for i in range(len(header1)):\n",
        "#    print(header1[i])\n",
        "\n",
        "max_commuters = 0\n",
        "max_sline = ''\n",
        "max_sname = ''\n",
        "\n",
        "for row in data:\n",
        "    #print(row)\n",
        "    sline = row[1]                                                              #노선번호\n",
        "    sname = row[3]                                                              #역 이름\n",
        "    line = [int(row[i].replace(',', '')) for i in range(4, len(header1) - 1)]   #시간대별 승하차 인원\n",
        "    #print(sline, sname, line)\n",
        "\n",
        "    #출근시간대 승하차 인원 합계\n",
        "    seven = line[6] + line[7]\n",
        "    eight = line[8] + line[9]\n",
        "    commuters = seven + eight\n",
        "\n",
        "    if commuters > max_commuters:\n",
        "        max_commuters = commuters\n",
        "        max_sline = sline\n",
        "        max_sname = sname\n",
        "\n",
        "print(\"7시와 9시 사이 최대탑승인원은 \" + max_sline + \"의 \" + max_sname + \"이며, 이때 \" + str(max_commuters) + \"명이 탑승한다.\")\n",
        "\n",
        "ddfile.close()"
      ]
    },
    {
      "cell_type": "markdown",
      "id": "Y2Q85eAkdiPe",
      "metadata": {
        "id": "Y2Q85eAkdiPe"
      },
      "source": [
        "> **연습문제 3-1**. 티머니 지하철 이용인구 자료를 사용하여 출근시간대(7시에서 9시까지) 승차자 수와 하차자 수가 최대인 역들을 각각 식별하시오."
      ]
    },
    {
      "cell_type": "code",
      "execution_count": null,
      "id": "8jKvIRzLdloY",
      "metadata": {
        "id": "8jKvIRzLdloY"
      },
      "outputs": [],
      "source": [
        "import csv\n",
        "\n",
        "dfile = open('tmoney4.csv', encoding = 'cp949')\n",
        "data = csv.reader(dfile)\n",
        "header1 = next(data)\n",
        "header2 = next(data)\n",
        "\n",
        "max_geton, max_getoff = 0, 0\n",
        "max_onsline, max_onsname = '', ''\n",
        "max_offsline, max_offsname = '', ''\n",
        "\n",
        "for row in data:\n",
        "    sline = row[1]                                                              #노선번호\n",
        "    sname = row[3]                                                              #역 이름\n",
        "    line = [int(row[i].replace(',', '')) for i in range(4, len(header1) - 1)]   #시간대별 승하차 인원\n",
        "\n",
        "    geton = line[6] + line[8]        #승차인원 합계\n",
        "    getoff = line[7] + line[9]       #하차인원 합계\n",
        "\n",
        "    if geton > max_geton:\n",
        "        max_geton = geton\n",
        "        max_onsline = sline\n",
        "        max_onsname = sname\n",
        "\n",
        "    if getoff > max_getoff:\n",
        "        max_getoff = getoff\n",
        "        max_offsline = sline\n",
        "        max_offsname = sname\n",
        "\n",
        "print(\"최대 승차: \", max_onsline + \" \" + max_onsname + \" \" + str(max_geton))\n",
        "print(\"최대 하차: \", max_offsline + \" \" + max_offsname + \" \" + str(max_getoff))\n",
        "\n",
        "dfile.close()"
      ]
    },
    {
      "cell_type": "markdown",
      "source": [
        "> **연습문제 3-2**. 티머니 지하철 이용인구 자료를 사용하여 출근시간대(7시에서 9시까지) 승차자 수와 하차자 수가 최소인 역들을 각각 식별하시오."
      ],
      "metadata": {
        "id": "nDdtEujnnOyL"
      },
      "id": "nDdtEujnnOyL"
    },
    {
      "cell_type": "markdown",
      "id": "AF835IfBqdZK",
      "metadata": {
        "id": "AF835IfBqdZK"
      },
      "source": [
        "## 4. 시간대별 승하차 인원수 분포\n",
        "\n",
        "> 조금 문제의식을 일반화시켜보자. 역마다 7시에서 9시까지 통근시간 때 승하차 인원이 상이하다. 그렇다면 모든 지하철역에서 통근시간 승하차 인원의 </b>분포(distribution)</b>가 어떠한지 살펴볼 수 있을 것이다. 다시 말해, $x$축에 승하차 인원 수를 나타내고 $y$축에는 그 밀도를 나타내야 한다. 그러려면 <b>히스토그램(histogram)</b>이 적절하다(Why?)."
      ]
    },
    {
      "cell_type": "code",
      "execution_count": null,
      "id": "IlGPf-8hqfEY",
      "metadata": {
        "id": "IlGPf-8hqfEY"
      },
      "outputs": [],
      "source": [
        "import matplotlib.pyplot as plt\n",
        "\n",
        "#히스토그램을 그리려면 자료가 리스트 형식으로 주어져야 한다.\n",
        "dice = [6, 2, 2, 4, 5, 1, 3, 3, 2, 1, 5]\n",
        "plt.hist(dice, bins = 6)\n",
        "plt.show()"
      ]
    },
    {
      "cell_type": "markdown",
      "id": "2ztiIbP-qilU",
      "metadata": {
        "id": "2ztiIbP-qilU"
      },
      "source": [
        "> 아까 작성한 코드를 복사하여 붙여넣고 살짝 수정하면 쉽게 만들 수 있다."
      ]
    },
    {
      "cell_type": "code",
      "execution_count": null,
      "id": "3rzovafFqlQ0",
      "metadata": {
        "id": "3rzovafFqlQ0"
      },
      "outputs": [],
      "source": [
        "import csv\n",
        "import matplotlib.pyplot as plt\n",
        "\n",
        "dfile = open('tmoney4.csv', encoding = 'cp949')\n",
        "data = csv.reader(dfile)\n",
        "header1 = next(data)\n",
        "header2 = next(data)\n",
        "\n",
        "results = []\n",
        "\n",
        "for row in data:\n",
        "    sline = row[1]                                                              #노선번호\n",
        "    sname = row[3]                                                              #역 이름\n",
        "    line = [int(row[i].replace(',', '')) for i in range(4, len(header1) - 1)]   #시간대별 승하차 인원\n",
        "\n",
        "    #출근시간대 승하차 인원 합계\n",
        "    seven = line[6] + line[7]\n",
        "    eight = line[8] + line[9]\n",
        "    commuters = seven + eight\n",
        "\n",
        "    results.append(commuters)               #append로 리스트에 추가하여 이것을 나중에 그리는데 사용한다.\n",
        "\n",
        "#출력\n",
        "#print(results)\n",
        "plt.figure(figsize=(10,5))\n",
        "plt.hist(results, bins = 100)\n",
        "\n",
        "dfile.close()"
      ]
    },
    {
      "cell_type": "markdown",
      "id": "IwqMZVe0c_5c",
      "metadata": {
        "id": "IwqMZVe0c_5c"
      },
      "source": [
        "> 결과를 살펴보면 승하차 인원수의 분포가 상당히 불균형함을 알 수 있다. 이것은 불편한 역은 매우 불편하고 한산한 역은 매우 한산함을 시사한다. 지하철 역의 이용인구가 불균등하게 분포해 있다는 발견이 도시교통에서 어떤 의미를 갖는지 생각해보자."
      ]
    },
    {
      "cell_type": "markdown",
      "id": "_UadD1_Gqn1A",
      "metadata": {
        "id": "_UadD1_Gqn1A"
      },
      "source": [
        "> **연습문제 4-1**. 이번엔 (지하철역이 아니라) 티머니 버스정류장별 이용현황 자료를 이용하여 승하차 인원수의 일반적인 분포를 시각화하시오.\n",
        "---\n",
        "```python\n",
        "import gdown\n",
        "link = 'https://drive.google.com/uc?id=1XB5u_LxvvXLoZD46eUVAmc2_JP5KYKRO'\n",
        "gdown.download(link)\n",
        "```"
      ]
    },
    {
      "cell_type": "code",
      "execution_count": null,
      "id": "1v5K9VZrZ296",
      "metadata": {
        "id": "1v5K9VZrZ296"
      },
      "outputs": [],
      "source": [
        "import csv\n",
        "import matplotlib.pyplot as plt\n",
        "\n",
        "dfile = open('tmoney1.csv', encoding = 'cp949')\n",
        "data = csv.reader(dfile)\n",
        "header = next(data)\n",
        "\n",
        "results = []\n",
        "\n",
        "for row in data:\n",
        "    pass_on  = int(row[6].replace(',', ''))    #승차\n",
        "    pass_off = int(row[7].replace(',', ''))    #하차\n",
        "    passengers = pass_on + pass_off\n",
        "\n",
        "    results.append(passengers)               #append로 리스트에 추가하여 이것을 나중에 그리는데 사용한다.\n",
        "\n",
        "plt.figure(figsize=(10,5))\n",
        "plt.hist(results, bins = 100)\n",
        "\n",
        "dfile.close()"
      ]
    },
    {
      "cell_type": "markdown",
      "source": [
        "> 이 수업에서 우리가 다룰 내용은 아니지만 이런 분포는 <b>로그 변환(logarithmic transformation)</b>하면 정규분포에 가까워지는 경우가 적지 않다(Why?). 즉 지하철역도 그렇고 버스정류장도 그렇고 역마다 이용객수는 <b>대수정규분포(lognormal distribution)</b>한다."
      ],
      "metadata": {
        "id": "iZ2wFW5eorWT"
      },
      "id": "iZ2wFW5eorWT"
    },
    {
      "cell_type": "code",
      "source": [
        "import numpy as np\n",
        "import csv\n",
        "import matplotlib.pyplot as plt\n",
        "\n",
        "dfile = open('tmoney1.csv', encoding = 'cp949')\n",
        "data = csv.reader(dfile)\n",
        "header = next(data)\n",
        "\n",
        "results = []\n",
        "\n",
        "for row in data:\n",
        "    pass_on  = int(row[6].replace(',', ''))    #승차\n",
        "    pass_off = int(row[7].replace(',', ''))    #하차\n",
        "    passengers = pass_on + pass_off\n",
        "\n",
        "    results.append(passengers)               #append로 리스트에 추가하여 이것을 나중에 그리는데 사용한다.\n",
        "\n",
        "plt.figure(figsize=(10,5))\n",
        "plt.hist(np.log(results), bins = 100)        #로그 변환\n",
        "\n",
        "dfile.close()"
      ],
      "metadata": {
        "id": "eXY-uKeun0dB"
      },
      "id": "eXY-uKeun0dB",
      "execution_count": null,
      "outputs": []
    },
    {
      "cell_type": "markdown",
      "id": "uds254WNqpqi",
      "metadata": {
        "id": "uds254WNqpqi"
      },
      "source": [
        "## 5. 승하차 인원수 시계열의 시각화\n",
        "\n",
        "> 이제 우리나라 모든 지하철역 승하차 인원수를 시간대별로 집계하여 각각 <b>시계열 그래프(time-series graph)</b>로 나타내보자.\n",
        ">\n",
        "> 앞서 설명한 (1) 리스트 슬라이싱 2단뛰기와 (2) 리스트 더하기 리스트 트릭을 활용하여 지하철 역의 승차인원과 하차인원의 시간대별 합계를 구할 수 있다.\n",
        ">\n",
        "> 왜 그럴까? (1) 자료에 승하차 인원수가 번갈아 나오기 때문에 2단뛰기가 필요하고, (2) 주어진 시간대 모든 지하철역의 인원수를 계산해야 하기 때문에 리스트 더하기 리스트가 필요하다(솔직히 시행착오를 겪어봐야 이해할 수 있다).\n",
        ">\n",
        "> 이제부터 이렇게 진행된다. 우리에게 주어진 자료에서 한 줄(observation)은 고유한 지하철역을 나타낸다. 한 줄을 두 개의 리스트 `geton_add`와 `getoff_add`로 쪼개어 입력한다. 두 리스트에 각각 시간대별 승차 인원수 그리고 하차 인원수가 들어간다."
      ]
    },
    {
      "cell_type": "code",
      "execution_count": null,
      "id": "9JtD4ScCq9Ly",
      "metadata": {
        "id": "9JtD4ScCq9Ly"
      },
      "outputs": [],
      "source": [
        "import csv\n",
        "import matplotlib.pyplot as plt\n",
        "\n",
        "dfile = open('tmoney4.csv', encoding = 'cp949')\n",
        "data = csv.reader(dfile)\n",
        "header1 = next(data)\n",
        "header2 = next(data)\n",
        "\n",
        "#24개의 0 원소를 갖는 placeholder 두 개\n",
        "geton = [0] * 24\n",
        "getoff = [0] * 24\n",
        "\n",
        "for row in data:\n",
        "    sline = row[1]                                                              #노선번호\n",
        "    sname = row[3]                                                              #역 이름\n",
        "    line = [int(row[i].replace(',', '')) for i in range(4, len(header1) - 1)]   #시간대별 승하차 인원\n",
        "\n",
        "    #각 역별로 승하차 인원 추출하기\n",
        "    geton_add  = line[0: len(row)-1: 2]\n",
        "    getoff_add = line[1: len(row)-1: 2]\n",
        "\n",
        "    print(geton_add)\n",
        "    print(getoff_add)\n",
        "\n",
        "dfile.close()"
      ]
    },
    {
      "cell_type": "markdown",
      "id": "l71XmB_KrAMA",
      "metadata": {
        "id": "l71XmB_KrAMA"
      },
      "source": [
        "> 바로 그 다음이 상상하기 조금 어려울 수 있다. 이 단계에서 \"리스트 더하기 리스트\"를 누적해나가야 한다(Why?)."
      ]
    },
    {
      "cell_type": "code",
      "execution_count": null,
      "id": "IMY0aEGQrBLa",
      "metadata": {
        "id": "IMY0aEGQrBLa"
      },
      "outputs": [],
      "source": [
        "import csv\n",
        "import matplotlib.pyplot as plt\n",
        "\n",
        "dfile = open('tmoney4.csv', encoding = 'cp949')\n",
        "data = csv.reader(dfile)\n",
        "header1 = next(data)\n",
        "header2 = next(data)\n",
        "\n",
        "#24개의 0 원소를 갖는 placeholder 두 개\n",
        "geton = [0] * 24\n",
        "getoff = [0] * 24\n",
        "\n",
        "for row in data:\n",
        "    sline = row[1]                                                              #노선번호\n",
        "    sname = row[3]                                                              #역 이름\n",
        "    line = [int(row[i].replace(',', '')) for i in range(4, len(header1) - 1)]   #시간대별 승하차 인원\n",
        "\n",
        "    #각 역별로 승하차 인원 추출하기\n",
        "    geton_add  = line[0: len(row)-1: 2]\n",
        "    getoff_add = line[1: len(row)-1: 2]\n",
        "\n",
        "    #print(geton_add)\n",
        "    #print(getoff_add)\n",
        "\n",
        "    #승하차 인원 누적합(리스트 더하기 리스트)\n",
        "    geton  = [i + j for i, j in zip(geton, geton_add)]\n",
        "    getoff = [i + j for i, j in zip(getoff, getoff_add)]\n",
        "\n",
        "print(geton)\n",
        "print(getoff)\n",
        "\n",
        "dfile.close()"
      ]
    },
    {
      "cell_type": "markdown",
      "id": "o-SJoibPrDbR",
      "metadata": {
        "id": "o-SJoibPrDbR"
      },
      "source": [
        "> 이제 <code>plt.plot()</code>을 사용해 선 그래프를 그린다. 그려진 그림을 보고 왜 출근시간대에 하차인원이 승차인원보다 높을까 설명해보자. 왜 같은 현상이 퇴근시간대에는 나타나지 않을까도 설명해보자."
      ]
    },
    {
      "cell_type": "code",
      "execution_count": null,
      "id": "p_7fSntzrEhU",
      "metadata": {
        "collapsed": true,
        "id": "p_7fSntzrEhU"
      },
      "outputs": [],
      "source": [
        "import csv\n",
        "import matplotlib.pyplot as plt\n",
        "\n",
        "dfile = open('tmoney4.csv', encoding = 'cp949')\n",
        "data = csv.reader(dfile)\n",
        "header1 = next(data)\n",
        "header2 = next(data)\n",
        "\n",
        "#24개의 0 원소를 갖는 placeholder 두 개\n",
        "geton = [0] * 24\n",
        "getoff = [0] * 24\n",
        "\n",
        "for row in data:\n",
        "    sline = row[1]                                                              #노선번호\n",
        "    sname = row[3]                                                              #역 이름\n",
        "    line = [int(row[i].replace(',', '')) for i in range(4, len(header1) - 1)]   #시간대별 승하차 인원\n",
        "\n",
        "    #각 역별로 승하차 인원 추출하기\n",
        "    geton_add  = line[0: len(row)-1: 2]\n",
        "    getoff_add = line[1: len(row)-1: 2]\n",
        "\n",
        "    #print(geton_add)\n",
        "    #print(getoff_add)\n",
        "\n",
        "    #승하차 인원 누적합(리스트 더하기 리스트)\n",
        "    geton  = [i + j for i, j in zip(geton, geton_add)]\n",
        "    getoff = [i + j for i, j in zip(getoff, getoff_add)]\n",
        "\n",
        "#print(geton)\n",
        "#print(getoff)\n",
        "\n",
        "plt.rc('font', family='NanumBarunGothic')\n",
        "plt.figure(figsize=(10,5))\n",
        "plt.plot(geton, label = '승차')\n",
        "plt.plot(getoff, label = '하차')\n",
        "plt.legend()\n",
        "plt.xticks(range(24), range(4,28))\n",
        "plt.show()\n",
        "\n",
        "dfile.close()"
      ]
    },
    {
      "cell_type": "markdown",
      "id": "FXY9KMCecMFx",
      "metadata": {
        "id": "FXY9KMCecMFx"
      },
      "source": [
        "> **연습문제 5-1**. 티머니 버스정류장별 이용현황 자료를 이용하여 가장 승하차 인원으로 붐비는 버스정류장이 어디인지 식별하고자 한다. 엑셀에서 먼저 데이터를 잘 살펴보고 어떻게 분석하면 좋을지 살펴보자. 이 자료에는 같은 버스정류장이 여러 번 나온다는 점에 주의하자(곰곰이 생각해보면 당연하다!).\n",
        ">\n",
        ">---\n",
        ">힌트 1. 최대값을 구할 때는 (물론 더 편한 방법도 있지만) 업데이트 알고리즘을 사용하자.\\\n",
        "힌트 2: 데이터베이스를 구축할 때는 딕트(dict)를 사용하면 생각보다 쉽다. 일단 `bus`라는 딕트를 만들었다면 `for i in bus:`같은 반복문을 사용할 수 있기 때문이다.\n",
        ">\n",
        ">---\n",
        ">```python\n",
        ">import gdown\n",
        ">link = 'https://drive.google.com/uc?id=1XB5u_LxvvXLoZD46eUVAmc2_JP5KYKRO'\n",
        ">gdown.download(link)\n",
        ">```"
      ]
    },
    {
      "cell_type": "code",
      "execution_count": null,
      "id": "JziO8e_Jcpdh",
      "metadata": {
        "id": "JziO8e_Jcpdh"
      },
      "outputs": [],
      "source": [
        "import csv\n",
        "import matplotlib.pyplot as plt\n",
        "\n",
        "dfile = open('tmoney1.csv', encoding = 'cp949')\n",
        "data = csv.reader(dfile)\n",
        "header = next(data)\n",
        "\n",
        "#딕트 = {'버스정류장ID': 승하차인원수}\n",
        "stations = {}      #빈 dict\n",
        "\n",
        "for row in data:\n",
        "\n",
        "    staname = row[4]                           #버스정류장 아이디\n",
        "    pass_on  = int(row[6].replace(',', ''))    #승차\n",
        "    pass_off = int(row[7].replace(',', ''))    #하차\n",
        "    passengers = pass_on + pass_off            #전체\n",
        "\n",
        "    #dict 데이터베이스 검색 및 추가\n",
        "    if staname in stations:               #검색해보니 있드라~\n",
        "        stations[staname] = stations[staname] + passengers\n",
        "    else:                                 #없드라~\n",
        "        stations[staname] = passengers\n",
        "\n",
        "\n",
        "#이 지점에서 dict는 모두 완성되어야 함!\n",
        "\n",
        "\n",
        "#앞으로 업데이트할 placeholders\n",
        "most_crowded = 0\n",
        "most_crowded_name = \"\"\n",
        "\n",
        "#가장 승하차 인원이 많은 버스정류장\n",
        "for i in stations:\n",
        "\n",
        "    #만약에 예전 기록보다 더 큰 기록이 나오면,\n",
        "    if most_crowded < stations[i]:\n",
        "        most_crowded = stations[i]\n",
        "        most_crowded_name = i\n",
        "\n",
        "print(\"가장 붐비는 버스정류장 ID는 \" + most_crowded_name + \"이며, 이곳에는 \" + str(most_crowded) + \"명이나 타고 내립니다.\")    #구로디지털단지역\n",
        "dfile.close()"
      ]
    }
  ],
  "metadata": {
    "colab": {
      "toc_visible": true,
      "provenance": [],
      "include_colab_link": true
    },
    "kernelspec": {
      "display_name": "Python 3 (ipykernel)",
      "language": "python",
      "name": "python3"
    },
    "language_info": {
      "codemirror_mode": {
        "name": "ipython",
        "version": 3
      },
      "file_extension": ".py",
      "mimetype": "text/x-python",
      "name": "python",
      "nbconvert_exporter": "python",
      "pygments_lexer": "ipython3",
      "version": "3.11.5"
    }
  },
  "nbformat": 4,
  "nbformat_minor": 5
}