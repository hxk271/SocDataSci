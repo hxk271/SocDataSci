{
  "nbformat": 4,
  "nbformat_minor": 0,
  "metadata": {
    "colab": {
      "provenance": [],
      "toc_visible": true,
      "authorship_tag": "ABX9TyNNw6tVfoYtAhcwAuxYxFKu",
      "include_colab_link": true
    },
    "kernelspec": {
      "name": "python3",
      "display_name": "Python 3"
    },
    "language_info": {
      "name": "python"
    }
  },
  "cells": [
    {
      "cell_type": "markdown",
      "metadata": {
        "id": "view-in-github",
        "colab_type": "text"
      },
      "source": [
        "<a href=\"https://colab.research.google.com/github/hxk271/SocDataSci/blob/main/archive/midterm.ipynb\" target=\"_parent\"><img src=\"https://colab.research.google.com/assets/colab-badge.svg\" alt=\"Open In Colab\"/></a>"
      ]
    },
    {
      "cell_type": "markdown",
      "source": [
        "# 중간시험(소셜데이터사이언스 2025년 10월 20일)\n",
        "\n",
        "> 다음 질문에 모두 답하시오. 답안 코드 안에 반드시 이름과 학번을 적으시오.\n",
        ">\n",
        "> 오늘 사용할 자료는 우리나라 전라북도 소방안전본부에서 제공한 2020년 실제 응급구조 데이터의 일부이다. 이 자료는 아래 링크를 통해 구글 드라이브에서 다운로드 받을 수 있다.\n",
        ">\n",
        "> https://drive.google.com/uc?id=1yuTb0nyuD5iAkqDaaWykX9jzyOL8cxq9\n",
        ">\n",
        "> 작성한 파이썬 코드는 구글 콜랩에서 [File]-[Download]-[.ipynb 다운로드]를 선택하여 다운로드 받을 수 있다. 이를 첨부하여 **hxk271@cbnu.ac.kr**로 제출하시오."
      ],
      "metadata": {
        "id": "bnS8cihg2Lgf"
      }
    },
    {
      "cell_type": "code",
      "source": [
        "import gdown\n",
        "gdown.download(\"https://drive.google.com/uc?id=1yuTb0nyuD5iAkqDaaWykX9jzyOL8cxq9\")"
      ],
      "metadata": {
        "id": "RUw01SpQhPfj"
      },
      "execution_count": null,
      "outputs": []
    },
    {
      "cell_type": "markdown",
      "source": [
        "> ## 문제 1.\n",
        ">\n",
        "> 위 자료를 이용하여 우리나라 충북 지역 대학별$\\cdot$전공별 지원자 가운데 전체 지원자 수가 가장 많은 학교 및 학과의 이름이 무엇이고, 여기에서 전체 지원자는 모두 몇 명인지 확인하시오."
      ],
      "metadata": {
        "id": "TUFkxxSbevRE"
      }
    },
    {
      "cell_type": "markdown",
      "source": [
        "> ## 문제 2.\n",
        ">\n",
        "> 우리나라 대학에서 사회학과는 모두 몇 개인지 확인하시오. 이때 일반대학원, 특수대학원 등을 모두 제외하고 오로지 학제가 대학교인 경우만을 고려해야 한다. 또한 지원자가 0명인 경우 폐과에 준하여 처리한다."
      ],
      "metadata": {
        "id": "eoaGzlZrjoTi"
      }
    }
  ]
}