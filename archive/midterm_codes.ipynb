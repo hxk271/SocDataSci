{
  "nbformat": 4,
  "nbformat_minor": 0,
  "metadata": {
    "colab": {
      "provenance": [],
      "toc_visible": true,
      "authorship_tag": "ABX9TyNPiNFQCnVC2VUXBNAEz/m1",
      "include_colab_link": true
    },
    "kernelspec": {
      "name": "python3",
      "display_name": "Python 3"
    },
    "language_info": {
      "name": "python"
    }
  },
  "cells": [
    {
      "cell_type": "markdown",
      "metadata": {
        "id": "view-in-github",
        "colab_type": "text"
      },
      "source": [
        "<a href=\"https://colab.research.google.com/github/hxk271/SocDataSci/blob/main/archive/midterm_codes.ipynb\" target=\"_parent\"><img src=\"https://colab.research.google.com/assets/colab-badge.svg\" alt=\"Open In Colab\"/></a>"
      ]
    },
    {
      "cell_type": "markdown",
      "source": [
        "# 중간시험(소셜데이터사이언스 2025년 10월 20일)\n",
        "\n",
        "> 다음 질문에 모두 답하시오. 답안 코드 안에 반드시 이름과 학번을 적으시오.\n",
        ">\n",
        "> 오늘 사용할 자료는 우리나라 전라북도 소방안전본부에서 제공한 2020년 실제 응급구조 데이터의 일부이다. 이 자료는 아래 링크를 통해 구글 드라이브에서 다운로드 받을 수 있다.\n",
        ">\n",
        "> https://drive.google.com/uc?id=1yuTb0nyuD5iAkqDaaWykX9jzyOL8cxq9\n",
        ">\n",
        "> 작성한 파이썬 코드는 구글 콜랩에서 [File]-[Download]-[.ipynb 다운로드]를 선택하여 다운로드 받을 수 있다. 이를 첨부하여 **hxk271@cbnu.ac.kr**로 제출하시오."
      ],
      "metadata": {
        "id": "bnS8cihg2Lgf"
      }
    },
    {
      "cell_type": "code",
      "source": [
        "import gdown\n",
        "gdown.download(\"https://drive.google.com/uc?id=1yuTb0nyuD5iAkqDaaWykX9jzyOL8cxq9\")"
      ],
      "metadata": {
        "id": "RUw01SpQhPfj"
      },
      "execution_count": null,
      "outputs": []
    },
    {
      "cell_type": "markdown",
      "source": [
        "> ## 문제 1.\n",
        ">\n",
        "> 위 자료를 이용하여 우리나라 충북 지역 대학별$\\cdot$전공별 지원자 가운데 전체 지원자 수가 가장 많은 학교 및 학과의 이름이 무엇이고, 여기에서 전체 지원자는 모두 몇 명인지 확인하시오."
      ],
      "metadata": {
        "id": "TUFkxxSbevRE"
      }
    },
    {
      "cell_type": "code",
      "source": [
        "import csv\n",
        "\n",
        "path = open('2024년 고등 학교별X학과별 입학정원 지원 입학 학생 외국인학생 졸업 교원_240912H.csv', 'r', encoding = 'cp949')\n",
        "data = csv.reader(path, delimiter = ',')\n",
        "\n",
        "max_univ, max_maj, max_fstu = '', '', 0\n",
        "\n",
        "for i in range(0, 14):\n",
        "    next(data)\n",
        "\n",
        "for row in data:\n",
        "\n",
        "    if row[6] == '충북':\n",
        "\n",
        "        row[30] = int(row[30].replace(',', \"\"))\n",
        "\n",
        "        if row[30] > max_fstu:\n",
        "            max_fstu = row[30]\n",
        "            max_univ = row[3]\n",
        "            max_maj = row[20]\n",
        "\n",
        "path.close()\n",
        "\n",
        "print('충북 지역 지원자 수가 가장 많은 대학교는 ' + max_univ + \" \" + max_maj +'이고 무려 ' + str(max_fstu) + '명이 지원했습니다.')"
      ],
      "metadata": {
        "colab": {
          "base_uri": "https://localhost:8080/"
        },
        "id": "w6noUxwMhLoU",
        "outputId": "3b43253d-d674-4ddb-d0eb-916d73713c76"
      },
      "execution_count": null,
      "outputs": [
        {
          "output_type": "stream",
          "name": "stdout",
          "text": [
            "충북 지역 지원자 수가 가장 많은 대학교는 건국대학교 시각영상디자인학과이고 무려 1822명이 지원했습니다.\n"
          ]
        }
      ]
    },
    {
      "cell_type": "markdown",
      "source": [
        "> ## 문제 2.\n",
        ">\n",
        "> 우리나라 대학에서 사회학과는 모두 몇 개인지 확인하시오. 이때 일반대학원, 특수대학원 등을 모두 제외하고 오로지 학제가 대학교인 경우만을 고려해야 한다. 또한 지원자가 0명인 경우 폐과에 준하여 처리한다."
      ],
      "metadata": {
        "id": "eoaGzlZrjoTi"
      }
    },
    {
      "cell_type": "code",
      "source": [
        "import csv\n",
        "\n",
        "path = open('2024년 고등 학교별X학과별 입학정원 지원 입학 학생 외국인학생 졸업 교원_240912H.csv', 'r', encoding = 'cp949')\n",
        "data = csv.reader(path, delimiter = ',')\n",
        "\n",
        "major = {}\n",
        "\n",
        "for i in range(0, 14):\n",
        "    next(data)\n",
        "\n",
        "for row in data:\n",
        "\n",
        "    row[30] = int(row[30].replace(',', \"\"))\n",
        "\n",
        "    if (row[1] == '대학교') & (row[30] > 0):\n",
        "\n",
        "        if row[20] in major:\n",
        "            major[row[20]] = major[row[20]] + 1\n",
        "        else:\n",
        "            major[row[20]] = 1\n",
        "\n",
        "path.close()\n",
        "\n",
        "major['사회학과']"
      ],
      "metadata": {
        "colab": {
          "base_uri": "https://localhost:8080/"
        },
        "id": "5fS4zEcDjw0F",
        "outputId": "a39ac011-80e3-40c6-9beb-452aea4fe0c2"
      },
      "execution_count": null,
      "outputs": [
        {
          "output_type": "execute_result",
          "data": {
            "text/plain": [
              "22"
            ]
          },
          "metadata": {},
          "execution_count": 110
        }
      ]
    }
  ]
}